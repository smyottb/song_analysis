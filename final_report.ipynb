{
 "cells": [
  {
   "cell_type": "code",
   "execution_count": null,
   "metadata": {},
   "outputs": [],
   "source": []
  },
  {
   "cell_type": "markdown",
   "metadata": {},
   "source": [
    "We are going to compare the current top 5 songs from the following genres:\n",
    "\n",
    " - Country\n",
    " - R&B/Hip-Hop\n",
    " - Rock/Alternative\n",
    "\n",
    "We obtained these songs from the Billboard Top 100 charts. For the week of May 15, 2021, the top 5 songs by genre are:\n",
    "\n",
    "**Country**\n",
    "\n",
    " - 'Forever After All' by Luke Combs\n",
    " - 'The Good Ones' by Gabby Barrett\n",
    " - 'Made for You' by Jake Owen\n",
    " - 'Hell of a View' by Eric Church\n",
    " - 'Breaking Up Was Easy in the 90s' by Sam Hunt\n",
    "\n",
    "\n",
    "**R&B/Hip-Hop**\n",
    "\n",
    " - 'Leave the Door Open' by Silk Sonic (Bruno Mars & Anderson .Paak)\n",
    " - 'Peaches' by Justin Bieber ft. Daniel Caesar & Giveon\n",
    " - 'Rapstar' by Polo G\n",
    " - 'Astronaut in the Ocean' by Masked Wolf\n",
    " - 'Up' by Cardi B \n",
    "\n",
    "\n",
    "**Rock/Alternative**\n",
    "\n",
    " - 'Without You' by The Kid LAROI & Miley Cyrus \n",
    " - 'Your Power' by Billie Eilish \n",
    " - 'My Ex's Best Friend' by Machine Gun Kelly X blackbear\n",
    " - 'Mood' by 24kGoldn ft. iann dior\n",
    " - 'Therefore I Am' by Billie Eilish "
   ]
  },
  {
   "cell_type": "code",
   "execution_count": null,
   "metadata": {},
   "outputs": [],
   "source": []
  },
  {
   "cell_type": "code",
   "execution_count": null,
   "metadata": {},
   "outputs": [],
   "source": []
  }
 ],
 "metadata": {
  "kernelspec": {
   "display_name": "Python 3",
   "language": "python",
   "name": "python3"
  },
  "language_info": {
   "codemirror_mode": {
    "name": "ipython",
    "version": 3
   },
   "file_extension": ".py",
   "mimetype": "text/x-python",
   "name": "python",
   "nbconvert_exporter": "python",
   "pygments_lexer": "ipython3",
   "version": "3.8.5"
  }
 },
 "nbformat": 4,
 "nbformat_minor": 4
}
