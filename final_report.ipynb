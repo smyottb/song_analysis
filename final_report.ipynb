{
 "cells": [
  {
   "cell_type": "markdown",
   "metadata": {},
   "source": [
    "# Song Feature and Lyric Analysis\n",
    "\n",
    "### by Benjamin Fenison and Stephanie Myott-Beebe\n",
    "#### (SIADS 591/592: Milestone I Project)"
   ]
  },
  {
   "cell_type": "markdown",
   "metadata": {},
   "source": [
    "Our project uses audio features and lyrics to find similarities within sets of songs. The inspiration behind the project is a tool to give the user insight into creating a song akin to the input song(s). For example, a musician looking to write a hit R&B song may be interested in common features and language found in current chart-topping R&B songs.\n",
    "\n",
    "For purposes of this project, we are going to analyze the top five current hit songs for each of the following music genres: country, R&B/hip-hop, and rock/alternative, as determined by the Billboard Top 100 charts. For the week of May 15, 2021, the top 5 songs by genre are:\n",
    "\n",
    "**Country**\n",
    "\n",
    " - 'Forever After All' by Luke Combs\n",
    " - 'The Good Ones' by Gabby Barrett\n",
    " - 'Made for You' by Jake Owen\n",
    " - 'Hell of a View' by Eric Church\n",
    " - 'Breaking Up Was Easy in the 90s' by Sam Hunt\n",
    "\n",
    "\n",
    "**R&B/Hip-Hop**\n",
    "\n",
    " - 'Leave the Door Open' by Silk Sonic (Bruno Mars & Anderson .Paak)\n",
    " - 'Peaches' by Justin Bieber ft. Daniel Caesar & Giveon\n",
    " - 'Rapstar' by Polo G\n",
    " - 'Astronaut in the Ocean' by Masked Wolf\n",
    " - 'Up' by Cardi B \n",
    "\n",
    "\n",
    "**Rock/Alternative**\n",
    "\n",
    " - 'Without You' by The Kid LAROI & Miley Cyrus \n",
    " - 'Your Power' by Billie Eilish \n",
    " - 'My Ex's Best Friend' by Machine Gun Kelly X blackbear\n",
    " - 'Mood' by 24kGoldn ft. iann dior\n",
    " - 'Therefore I Am' by Billie Eilish \n",
    "\n",
    "Steps:\n",
    "\n",
    " 1) The user inputs up to five songs to analyze. \n",
    "\n",
    " 2) The inputs are run through Spotify's API to identify songs that are most similar to the input songs.\n",
    "     - Spotify has a recommendation algorithm that can take up to five songs, artists, and/or genres as seeds.\n",
    "     - The algorithm returns up to 100 songs that it determines are most similar to the seeds.\n",
    "\n",
    "      \n",
    " 3) In order to obtain a large enough sample of songs, the top X songs returned from the previous query are each run through Spotify's recommendation algorithm.\n",
    " 4) In addition to the track and artist, we will download additional features for each song from Spotify, including acousticness, danceability, energy, instrumentalness, and speechiness.\n",
    " 5) Once we have songs and song features, each song will be run through the Genius API to obtain lyrics.\n",
    "     - The Genius API does not have a mechanism for returning the lyrics of a song.\n",
    "     - We are using the LyricsGenius package to interface with the Genius API. LyricsGenius uses the BeautifulSoup library to scrape song lyrics from a page's HTML.\n",
    " \n",
    " 6) The data from Spotify and from Genius will be joined together in a pandas dataframe by track and artist.\n",
    "\n",
    "Our ultimate goal is to create an application that would allow a user to input target songs\n",
    "\n",
    "\n",
    "\n",
    "\n",
    "Our methodology is as follows:\n",
    "\n",
    " 1) "
   ]
  },
  {
   "cell_type": "markdown",
   "metadata": {},
   "source": [
    "We are going to compare the current top 5 songs from the following genres:\n",
    "\n",
    " - Country\n",
    " - R&B/Hip-Hop\n",
    " - Rock/Alternative\n",
    "\n"
   ]
  },
  {
   "cell_type": "markdown",
   "metadata": {},
   "source": [
    "#### Spotify API\n",
    "\n",
    "Every time the recommendations function is run, the API returns up to 100 songs similar to the input songs, based on Spotify's bart algorithm. Based on research, the algorithm uses three functions:\n",
    "\n",
    " 1. Natural language processing\n",
    " 2. Raw audio analyzation\n",
    " 3. Collaborative filtering\n",
    "\n",
    "However, we do not know the exact manner in which analysis is performed, the threshold that must be met in order for the algorithm to return a song as being similar to the seed tracks, or the ranking of similarity of those songs that are returned. This is evident from the fact that the algorithm does not return the same songs each time the algorithm is ran. As a result, the analysis is not \n",
    "\n",
    "We are using Spotify's algorithm to pull similar songs but are performing some analysis of our own to increase our list of similar songs (in part, for purposes of lyric analysis).\n",
    "\n",
    "***INSERT WHY WE CHOSE EUCLIDEAN DISTANCE***"
   ]
  },
  {
   "cell_type": "code",
   "execution_count": null,
   "metadata": {},
   "outputs": [],
   "source": []
  }
 ],
 "metadata": {
  "kernelspec": {
   "display_name": "Python 3",
   "language": "python",
   "name": "python3"
  },
  "language_info": {
   "codemirror_mode": {
    "name": "ipython",
    "version": 3
   },
   "file_extension": ".py",
   "mimetype": "text/x-python",
   "name": "python",
   "nbconvert_exporter": "python",
   "pygments_lexer": "ipython3",
   "version": "3.8.5"
  }
 },
 "nbformat": 4,
 "nbformat_minor": 4
}
