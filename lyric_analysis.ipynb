{
 "cells": [
  {
   "cell_type": "markdown",
   "metadata": {},
   "source": [
    "# Lyrics Using Genius API"
   ]
  },
  {
   "cell_type": "code",
   "execution_count": 1,
   "metadata": {},
   "outputs": [],
   "source": [
    "#import libraries\n",
    "import pandas as pd\n",
    "import lyricsgenius as genius #used to interface with Genius API\n",
    "import string\n",
    "import re\n",
    "\n",
    "from nltk.corpus import stopwords\n",
    "from nltk.stem.wordnet import WordNetLemmatizer"
   ]
  },
  {
   "cell_type": "code",
   "execution_count": 2,
   "metadata": {},
   "outputs": [],
   "source": [
    "#token provided by Genius API\n",
    "%store -r client_access_token"
   ]
  },
  {
   "cell_type": "code",
   "execution_count": 3,
   "metadata": {},
   "outputs": [],
   "source": [
    "#initiate Genius\n",
    "genius = genius.Genius(client_access_token)\n",
    "genius.verbose = False #turn off status messages"
   ]
  },
  {
   "cell_type": "markdown",
   "metadata": {},
   "source": [
    "### Functions"
   ]
  },
  {
   "cell_type": "code",
   "execution_count": 4,
   "metadata": {},
   "outputs": [],
   "source": [
    "def get_lyrics(track,artist):\n",
    "    '''\n",
    "    function returns song's lyrics\n",
    "    parameters:\n",
    "        track-->str\n",
    "        artist-->str\n",
    "    '''\n",
    "    track = re.sub(' - .+','',track) #remove text after '-'\n",
    "    track = re.sub(' \\(.*\\)','',track) #remove text within parentheses\n",
    "    track = re.sub(' \\[.*\\]','',track) #remove text within brackets\n",
    "    \n",
    "    try:\n",
    "        return genius.search_song(track,artist).lyrics\n",
    "    except:\n",
    "        print(track + ' by ' + artist + ' is not available')"
   ]
  },
  {
   "cell_type": "code",
   "execution_count": 5,
   "metadata": {},
   "outputs": [],
   "source": [
    "def get_df_songs(track_list,artist_list):\n",
    "    '''\n",
    "    function obtains lyrics and returns dataframe with columns for track, artist, lyrics\n",
    "    parameters:\n",
    "        track_list-->list of str \n",
    "        artist_list-->list of str\n",
    "    '''\n",
    "    lyrics_list = [get_lyrics(track_list[x],artist_list[x]) for x in range(len(track_list))] #get lyrics for each song\n",
    "    \n",
    "    return pd.DataFrame(data={'track':track_list,'artist':artist_list,'lyrics':lyrics_list})"
   ]
  },
  {
   "cell_type": "code",
   "execution_count": 6,
   "metadata": {},
   "outputs": [],
   "source": [
    "def clean_lyrics(df,col,new_col):\n",
    "    '''\n",
    "    function returns dataframe with new column of cleaned text (song lyrics)\n",
    "    parameters:\n",
    "        df-->pandas dataframe\n",
    "        col-->column to clean (str)\n",
    "        new_col-->name of column with cleaned text (str)\n",
    "    '''\n",
    "    df[new_col] = df[col].str.lower() #make all text lowercase\n",
    "    df[new_col] = df[new_col].str.replace(r'\\n',' ') #replace '\\n' character with space\n",
    "    df[new_col] = df[new_col].str.replace(r'\\[[^\\[\\]]*]','') #remove brackets and inside text\n",
    "    df[new_col] = df[new_col].str.replace(r\"\\'\\w*\",'').str.replace(r'[^\\w\\d\\s]+','') #remove extra characters\n",
    "    df[new_col] = df[new_col].str.strip() #remove extra whitespace\n",
    "\n",
    "    return df"
   ]
  },
  {
   "cell_type": "code",
   "execution_count": 7,
   "metadata": {},
   "outputs": [],
   "source": [
    "def normalize_lyrics(df,col):\n",
    "    '''\n",
    "    function returns dataframe with column as list of words\n",
    "        tokenizes, removes stopwords from, and lemmatizes lyrics\n",
    "    parameters:\n",
    "        df-->pandas dataframe\n",
    "        col-->column to normalize\n",
    "    '''\n",
    "    df[col] = df[col].str.split() #tokenize lyrics\n",
    "    \n",
    "    stop_words = set(stopwords.words('english'))\n",
    "    df[col] = df[col].apply(lambda row:[w for w in row if w not in stop_words]) #remove stopwords\n",
    "    \n",
    "    def lemmatize_text(text):\n",
    "        '''\n",
    "        function returns lemmatized text\n",
    "        parameters:\n",
    "            text-->str\n",
    "        '''\n",
    "        lemmatizer = WordNetLemmatizer()\n",
    "        \n",
    "        return [lemmatizer.lemmatize(w) for w in text]\n",
    "    \n",
    "    df[col] = df[col].apply(lemmatize_text) #lemmatize words\n",
    "    \n",
    "    return df"
   ]
  },
  {
   "cell_type": "markdown",
   "metadata": {},
   "source": [
    "### Import Songs to Analyze\n",
    "\n",
    "Read in the resulting dataframes from the spotify_analysis notebook, which were created as follows:\n",
    "\n",
    " - Started with the top five tracks for each of country, R&B/hip-hop, and rock/alternative as of the week of May 15, 2021, based on Billboard Top 100 charts (referred to as the \"seed tracks\")\n",
    " - Used Spotify's recommender algorithm to find the most similar songs to the seed tracks (returns a maximum of 100 songs per search)\n",
    " - Ranked the most similar songs by audio features using Euclidean distance\n",
    " - Fed the top ranking songs through Spotify's recommender algorithm until there were at least 1,000 songs per genre"
   ]
  },
  {
   "cell_type": "code",
   "execution_count": 8,
   "metadata": {},
   "outputs": [],
   "source": [
    "#country\n",
    "df_cty = pd.read_csv('data/df_cty.csv')\n",
    "df_cty.drop(columns='Unnamed: 0',inplace=True)"
   ]
  },
  {
   "cell_type": "code",
   "execution_count": 9,
   "metadata": {},
   "outputs": [],
   "source": [
    "#R&B/hip-hop\n",
    "df_rb = pd.read_csv('data/df_rb.csv')\n",
    "df_rb.drop(columns='Unnamed: 0',inplace=True)"
   ]
  },
  {
   "cell_type": "code",
   "execution_count": 10,
   "metadata": {},
   "outputs": [],
   "source": [
    "#rock/alternative\n",
    "df_rock = pd.read_csv('data/df_rock.csv')\n",
    "df_rock.drop(columns='Unnamed: 0',inplace=True)"
   ]
  },
  {
   "cell_type": "markdown",
   "metadata": {},
   "source": [
    "### Obtain Lyrics from Genius API\n",
    "\n",
    "Pull lyrics from the Genius API with the lyricsgenius wrapper and put into dataframes."
   ]
  },
  {
   "cell_type": "code",
   "execution_count": 11,
   "metadata": {},
   "outputs": [
    {
     "name": "stdout",
     "output_type": "stream",
     "text": [
      "One Beer by HIXTAPE is not available\n",
      "Ballin' by Rvshvd is not available\n",
      "Forever Begins Tonight by The McClymonts is not available\n",
      "Tupelo Honey by JJ Grey & Mofro is not available\n",
      "Waves by Luke Bryan is not available\n",
      "#REDNEK by Gord Bamford is not available\n",
      "When Your Lips Are so Close by Gord Bamford is not available\n"
     ]
    }
   ],
   "source": [
    "#country\n",
    "df_cty_lyrics = get_df_songs(df_cty['track'],df_cty['artist'])"
   ]
  },
  {
   "cell_type": "code",
   "execution_count": 12,
   "metadata": {},
   "outputs": [
    {
     "name": "stdout",
     "output_type": "stream",
     "text": [
      "Opps by JayDaYoungan is not available\n",
      "Young Grizzley World by Tee Grizzley is not available\n",
      "Moonwalking in Calabasas by DDG is not available\n",
      "What It Was by Lil Gotit is not available\n",
      "I Kissed A Girl by Katy Perry is not available\n",
      "Before He Cheats by Carrie Underwood is not available\n",
      "...Baby One More Time by Britney Spears is not available\n",
      "See What I've Become by Zack Hemsey is not available\n",
      "Stinger by RL Grime is not available\n",
      "X by Jonas Brothers is not available\n"
     ]
    }
   ],
   "source": [
    "#R&B/hip-hop\n",
    "df_rb_lyrics = get_df_songs(df_rb['track'],df_rb['artist'])"
   ]
  },
  {
   "cell_type": "code",
   "execution_count": 14,
   "metadata": {},
   "outputs": [
    {
     "name": "stdout",
     "output_type": "stream",
     "text": [
      "Greatest Hits Megamix by The Saturdays is not available\n",
      "Lost by Cher Lloyd is not available\n",
      "Smells Blood by Kensuke Ushio is not available\n",
      "Ghost by Machine Girl is not available\n"
     ]
    }
   ],
   "source": [
    "#rock\n",
    "df_rock_lyrics = get_df_songs(df_rock['track'],df_rock['artist'])"
   ]
  },
  {
   "cell_type": "markdown",
   "metadata": {},
   "source": [
    "### Clean and Preprocess Lyrics\n",
    "\n",
    "Prepare lyrics for analysis by cleaning and normalizing them."
   ]
  },
  {
   "cell_type": "code",
   "execution_count": 16,
   "metadata": {},
   "outputs": [
    {
     "name": "stderr",
     "output_type": "stream",
     "text": [
      "<ipython-input-6-fbbdde611746>:9: SettingWithCopyWarning: \n",
      "A value is trying to be set on a copy of a slice from a DataFrame.\n",
      "Try using .loc[row_indexer,col_indexer] = value instead\n",
      "\n",
      "See the caveats in the documentation: https://pandas.pydata.org/pandas-docs/stable/user_guide/indexing.html#returning-a-view-versus-a-copy\n",
      "  df[new_col] = df[col].str.lower() #make all text lowercase\n",
      "<ipython-input-6-fbbdde611746>:10: SettingWithCopyWarning: \n",
      "A value is trying to be set on a copy of a slice from a DataFrame.\n",
      "Try using .loc[row_indexer,col_indexer] = value instead\n",
      "\n",
      "See the caveats in the documentation: https://pandas.pydata.org/pandas-docs/stable/user_guide/indexing.html#returning-a-view-versus-a-copy\n",
      "  df[new_col] = df[new_col].str.replace(r'\\n',' ') #replace '\\n' character with space\n",
      "<ipython-input-6-fbbdde611746>:11: SettingWithCopyWarning: \n",
      "A value is trying to be set on a copy of a slice from a DataFrame.\n",
      "Try using .loc[row_indexer,col_indexer] = value instead\n",
      "\n",
      "See the caveats in the documentation: https://pandas.pydata.org/pandas-docs/stable/user_guide/indexing.html#returning-a-view-versus-a-copy\n",
      "  df[new_col] = df[new_col].str.replace(r'\\[[^\\[\\]]*]','') #remove brackets and inside text\n",
      "<ipython-input-6-fbbdde611746>:12: SettingWithCopyWarning: \n",
      "A value is trying to be set on a copy of a slice from a DataFrame.\n",
      "Try using .loc[row_indexer,col_indexer] = value instead\n",
      "\n",
      "See the caveats in the documentation: https://pandas.pydata.org/pandas-docs/stable/user_guide/indexing.html#returning-a-view-versus-a-copy\n",
      "  df[new_col] = df[new_col].str.replace(r\"\\'\\w*\",'').str.replace(r'[^\\w\\d\\s]+','') #remove extra characters\n",
      "<ipython-input-6-fbbdde611746>:13: SettingWithCopyWarning: \n",
      "A value is trying to be set on a copy of a slice from a DataFrame.\n",
      "Try using .loc[row_indexer,col_indexer] = value instead\n",
      "\n",
      "See the caveats in the documentation: https://pandas.pydata.org/pandas-docs/stable/user_guide/indexing.html#returning-a-view-versus-a-copy\n",
      "  df[new_col] = df[new_col].str.strip() #remove extra whitespace\n"
     ]
    },
    {
     "data": {
      "text/html": [
       "<div>\n",
       "<style scoped>\n",
       "    .dataframe tbody tr th:only-of-type {\n",
       "        vertical-align: middle;\n",
       "    }\n",
       "\n",
       "    .dataframe tbody tr th {\n",
       "        vertical-align: top;\n",
       "    }\n",
       "\n",
       "    .dataframe thead th {\n",
       "        text-align: right;\n",
       "    }\n",
       "</style>\n",
       "<table border=\"1\" class=\"dataframe\">\n",
       "  <thead>\n",
       "    <tr style=\"text-align: right;\">\n",
       "      <th></th>\n",
       "      <th>track</th>\n",
       "      <th>artist</th>\n",
       "      <th>lyrics</th>\n",
       "      <th>words</th>\n",
       "    </tr>\n",
       "  </thead>\n",
       "  <tbody>\n",
       "    <tr>\n",
       "      <th>0</th>\n",
       "      <td>Forever After All</td>\n",
       "      <td>Luke Combs</td>\n",
       "      <td>[Verse 1]\\nA cold beer's got twelve ounces\\nA ...</td>\n",
       "      <td>a cold beer got twelve ounces a good truck got...</td>\n",
       "    </tr>\n",
       "    <tr>\n",
       "      <th>1</th>\n",
       "      <td>The Good Ones</td>\n",
       "      <td>Gabby Barrett</td>\n",
       "      <td>[Verse 1]\\nHe's a phone call to his parents\\nH...</td>\n",
       "      <td>he a phone call to his parents he a bible by t...</td>\n",
       "    </tr>\n",
       "    <tr>\n",
       "      <th>2</th>\n",
       "      <td>Made For You</td>\n",
       "      <td>Jake Owen</td>\n",
       "      <td>[Verse 1]\\nWater towers are made for hearts an...</td>\n",
       "      <td>water towers are made for hearts and names fri...</td>\n",
       "    </tr>\n",
       "    <tr>\n",
       "      <th>3</th>\n",
       "      <td>Hell Of A View</td>\n",
       "      <td>Eric Church</td>\n",
       "      <td>[Verse 1]\\nI was no daddy's dream\\nWas not you...</td>\n",
       "      <td>i was no daddy dream was not your momma prayer...</td>\n",
       "    </tr>\n",
       "    <tr>\n",
       "      <th>4</th>\n",
       "      <td>Breaking Up Was Easy In The 90's</td>\n",
       "      <td>Sam Hunt</td>\n",
       "      <td>[Intro]\\nYeah, man, oh man, oh man\\n\\n[Verse 1...</td>\n",
       "      <td>yeah man oh man oh man   bartender looked at m...</td>\n",
       "    </tr>\n",
       "    <tr>\n",
       "      <th>...</th>\n",
       "      <td>...</td>\n",
       "      <td>...</td>\n",
       "      <td>...</td>\n",
       "      <td>...</td>\n",
       "    </tr>\n",
       "    <tr>\n",
       "      <th>1021</th>\n",
       "      <td>Hometown</td>\n",
       "      <td>Logan Mize</td>\n",
       "      <td>[Verse 1]\\nHow'd I end up here where I don't b...</td>\n",
       "      <td>how i end up here where i don belong like a st...</td>\n",
       "    </tr>\n",
       "    <tr>\n",
       "      <th>1022</th>\n",
       "      <td>Drinkin' Hours</td>\n",
       "      <td>Cole Swindell</td>\n",
       "      <td>[Intro]\\nHey\\nWoo!\\n\\n[Verse 1]\\nBeen watchin'...</td>\n",
       "      <td>hey woo   been watchin that clock ticktock all...</td>\n",
       "    </tr>\n",
       "    <tr>\n",
       "      <th>1023</th>\n",
       "      <td>Grass Is Always Greener</td>\n",
       "      <td>Jake Owen</td>\n",
       "      <td>[Verse 1: Jake Owen]\\nNeighbor got a brand new...</td>\n",
       "      <td>neighbor got a brand new cadillac still got my...</td>\n",
       "    </tr>\n",
       "    <tr>\n",
       "      <th>1024</th>\n",
       "      <td>Got What I Got</td>\n",
       "      <td>Jason Aldean</td>\n",
       "      <td>[Verse 1]\\nShe said, \"Baby, do you ever miss b...</td>\n",
       "      <td>she said baby do you ever miss bein alone i sa...</td>\n",
       "    </tr>\n",
       "    <tr>\n",
       "      <th>1025</th>\n",
       "      <td>Tennessee (Take Me Down)</td>\n",
       "      <td>Clayton Anderson</td>\n",
       "      <td>Verse 1\\nTennessee take me down\\nI need you to...</td>\n",
       "      <td>verse 1 tennessee take me down i need you to b...</td>\n",
       "    </tr>\n",
       "  </tbody>\n",
       "</table>\n",
       "<p>1019 rows × 4 columns</p>\n",
       "</div>"
      ],
      "text/plain": [
       "                                 track            artist  \\\n",
       "0                    Forever After All        Luke Combs   \n",
       "1                        The Good Ones     Gabby Barrett   \n",
       "2                         Made For You         Jake Owen   \n",
       "3                       Hell Of A View       Eric Church   \n",
       "4     Breaking Up Was Easy In The 90's          Sam Hunt   \n",
       "...                                ...               ...   \n",
       "1021                          Hometown        Logan Mize   \n",
       "1022                    Drinkin' Hours     Cole Swindell   \n",
       "1023           Grass Is Always Greener         Jake Owen   \n",
       "1024                    Got What I Got      Jason Aldean   \n",
       "1025          Tennessee (Take Me Down)  Clayton Anderson   \n",
       "\n",
       "                                                 lyrics  \\\n",
       "0     [Verse 1]\\nA cold beer's got twelve ounces\\nA ...   \n",
       "1     [Verse 1]\\nHe's a phone call to his parents\\nH...   \n",
       "2     [Verse 1]\\nWater towers are made for hearts an...   \n",
       "3     [Verse 1]\\nI was no daddy's dream\\nWas not you...   \n",
       "4     [Intro]\\nYeah, man, oh man, oh man\\n\\n[Verse 1...   \n",
       "...                                                 ...   \n",
       "1021  [Verse 1]\\nHow'd I end up here where I don't b...   \n",
       "1022  [Intro]\\nHey\\nWoo!\\n\\n[Verse 1]\\nBeen watchin'...   \n",
       "1023  [Verse 1: Jake Owen]\\nNeighbor got a brand new...   \n",
       "1024  [Verse 1]\\nShe said, \"Baby, do you ever miss b...   \n",
       "1025  Verse 1\\nTennessee take me down\\nI need you to...   \n",
       "\n",
       "                                                  words  \n",
       "0     a cold beer got twelve ounces a good truck got...  \n",
       "1     he a phone call to his parents he a bible by t...  \n",
       "2     water towers are made for hearts and names fri...  \n",
       "3     i was no daddy dream was not your momma prayer...  \n",
       "4     yeah man oh man oh man   bartender looked at m...  \n",
       "...                                                 ...  \n",
       "1021  how i end up here where i don belong like a st...  \n",
       "1022  hey woo   been watchin that clock ticktock all...  \n",
       "1023  neighbor got a brand new cadillac still got my...  \n",
       "1024  she said baby do you ever miss bein alone i sa...  \n",
       "1025  verse 1 tennessee take me down i need you to b...  \n",
       "\n",
       "[1019 rows x 4 columns]"
      ]
     },
     "execution_count": 16,
     "metadata": {},
     "output_type": "execute_result"
    }
   ],
   "source": [
    "#country\n",
    "#df_cty_lyrics = clean_lyrics(df_cty_lyrics,'lyrics','words')\n",
    "#df_cty_lyrics = normalize_lyrics(df_cty_lyrics,'words')\n",
    "clean_lyrics(df_cty_lyrics[df_cty_lyrics['lyrics'].notna()],'lyrics','words')"
   ]
  },
  {
   "cell_type": "code",
   "execution_count": null,
   "metadata": {},
   "outputs": [],
   "source": [
    "#R&B/hip-hop\n",
    "df_rb_lyrics = clean_lyrics(df_rb_lyrics,'lyrics','words')\n",
    "df_rb_lyrics = normalize_lyrics(df_rb_lyrics,'words')"
   ]
  },
  {
   "cell_type": "code",
   "execution_count": null,
   "metadata": {},
   "outputs": [],
   "source": [
    "#rock/alternative\n",
    "df_rock_lyrics = clean_lyrics(df_rock_lyrics,'lyrics','words')\n",
    "df_rock_lyrics = normalize_lyrics(df_rock_lyrics,'words')"
   ]
  },
  {
   "cell_type": "markdown",
   "metadata": {},
   "source": [
    "### Join Dataframes\n",
    "\n",
    "Combine dataframes with audio features and lyrics for each genre."
   ]
  },
  {
   "cell_type": "code",
   "execution_count": null,
   "metadata": {},
   "outputs": [],
   "source": [
    "#country\n",
    "df_cty_w_lyrics = "
   ]
  },
  {
   "cell_type": "code",
   "execution_count": null,
   "metadata": {},
   "outputs": [],
   "source": [
    "#R&B/hip-hop\n",
    "df_rb_w_lyrics = "
   ]
  },
  {
   "cell_type": "code",
   "execution_count": null,
   "metadata": {},
   "outputs": [],
   "source": [
    "#rock/alternative\n",
    "df_rock_w_lyrics = "
   ]
  },
  {
   "cell_type": "markdown",
   "metadata": {},
   "source": [
    "### Write Dataframes to File"
   ]
  },
  {
   "cell_type": "code",
   "execution_count": null,
   "metadata": {},
   "outputs": [],
   "source": [
    "#country\n",
    "df_cty_w_lyrics.to_csv('df_cty_w_lyrics.csv')"
   ]
  },
  {
   "cell_type": "code",
   "execution_count": null,
   "metadata": {},
   "outputs": [],
   "source": [
    "#R&B/hip-hop\n",
    "df_rb_w_lyrics.to_csv('df_rb_w_lyrics.csv')"
   ]
  },
  {
   "cell_type": "code",
   "execution_count": null,
   "metadata": {},
   "outputs": [],
   "source": [
    "#rock/alternative\n",
    "df_rock_w_lyrics.to_csv('df_rock_w_lyrics.csv')"
   ]
  }
 ],
 "metadata": {
  "kernelspec": {
   "display_name": "Python 3",
   "language": "python",
   "name": "python3"
  },
  "language_info": {
   "codemirror_mode": {
    "name": "ipython",
    "version": 3
   },
   "file_extension": ".py",
   "mimetype": "text/x-python",
   "name": "python",
   "nbconvert_exporter": "python",
   "pygments_lexer": "ipython3",
   "version": "3.8.5"
  }
 },
 "nbformat": 4,
 "nbformat_minor": 4
}
