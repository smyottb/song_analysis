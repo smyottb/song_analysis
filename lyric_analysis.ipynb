{
 "cells": [
  {
   "cell_type": "code",
   "execution_count": 1,
   "metadata": {},
   "outputs": [],
   "source": [
    "#import libraries\n",
    "import pandas as pd\n",
    "import lyricsgenius as genius #used to interface with Genius API\n",
    "import string\n",
    "import re\n",
    "import contractions\n",
    "\n",
    "from nltk.corpus import stopwords\n",
    "from nltk.stem.wordnet import WordNetLemmatizer"
   ]
  },
  {
   "cell_type": "code",
   "execution_count": 2,
   "metadata": {},
   "outputs": [],
   "source": [
    "#token provided by Genius API\n",
    "%store -r client_access_token"
   ]
  },
  {
   "cell_type": "code",
   "execution_count": 3,
   "metadata": {},
   "outputs": [],
   "source": [
    "#initiate Genius\n",
    "genius = genius.Genius(client_access_token)"
   ]
  },
  {
   "cell_type": "code",
   "execution_count": 4,
   "metadata": {},
   "outputs": [],
   "source": [
    "def get_lyrics(track,artist):\n",
    "    '''\n",
    "    function returns song's lyrics\n",
    "    parameters:\n",
    "        track-->str\n",
    "        artist-->str\n",
    "    '''\n",
    "    \n",
    "    return genius.search_song(track,artist).lyrics"
   ]
  },
  {
   "cell_type": "code",
   "execution_count": 5,
   "metadata": {},
   "outputs": [],
   "source": [
    "def get_df_songs(track_list,artist_list):\n",
    "    '''\n",
    "    function obtains lyrics and returns dataframe with columns for track, artist, lyrics\n",
    "    parameters:\n",
    "        track_list-->list of str \n",
    "        artist_list-->list of str\n",
    "    '''\n",
    "    lyrics_list = [get_lyrics(track_list[x],artist_list[x]) for x in range(len(track_list))] #get lyrics for each song\n",
    "    \n",
    "    return pd.DataFrame(data={'track':track_list,'artist':artist_list,'lyrics':lyrics_list})"
   ]
  },
  {
   "cell_type": "code",
   "execution_count": 6,
   "metadata": {},
   "outputs": [],
   "source": [
    "def clean_lyrics(df,col,new_col):\n",
    "    '''\n",
    "    function returns dataframe with new column of cleaned text (song lyrics)\n",
    "    parameters:\n",
    "        df-->pandas dataframe\n",
    "        col-->column to clean (str)\n",
    "        new_col-->name of column with cleaned text (str)\n",
    "    '''\n",
    "    df[new_col] = df[col].str.lower() #make all text lowercase\n",
    "    df[new_col] = df[new_col].str.replace(r'\\n',' ') #replace '\\n' character with space\n",
    "    df[new_col] = df[new_col].str.replace(r'\\[[^\\[\\]]*]','') #remove brackets and inside text\n",
    "    df[new_col] = df[new_col].str.replace(r\"\\'\\w*\",'').str.replace(r'[^[a-z]\\s]+','') #remove extra characters\n",
    "    df[new_col] = df[new_col].str.strip() #remove extra whitespace\n",
    "\n",
    "    return df"
   ]
  },
  {
   "cell_type": "code",
   "execution_count": 7,
   "metadata": {},
   "outputs": [],
   "source": [
    "def normalize_lyrics(df,col):\n",
    "    '''\n",
    "    function returns dataframe with column as list of words\n",
    "        tokenizes, removes stopwords from, and lemmatizes lyrics\n",
    "    parameters:\n",
    "        df-->pandas dataframe\n",
    "        col-->column to normalize\n",
    "    '''\n",
    "    df[col] = df[col].str.split() #tokenize lyrics\n",
    "    \n",
    "    stop_words = set(stopwords.words('english'))\n",
    "    df[col] = df[col].apply(lambda row:[w for w in row if w not in stop_words]) #remove stopwords\n",
    "    \n",
    "    lemmatizer = WordNetLemmatizer()\n",
    "    df[col] = df[col].apply(lambda row:[lemmatizer.lemmatize(w) for w in row]) #lemmatize words\n",
    "    \n",
    "    return df"
   ]
  },
  {
   "cell_type": "code",
   "execution_count": 8,
   "metadata": {},
   "outputs": [],
   "source": [
    "#pull lyrics for songs in question\n",
    "#need track_list and artist_list from Spotify search\n",
    "track_list = ['Shallow','Thriller','Lose Yourself','Before He Cheats','Waterfalls'] #sample songs\n",
    "artist_list = ['Lady Gaga','Michael Jackson','Eminem','Carrie Underwood','TLC'] #sample songs"
   ]
  },
  {
   "cell_type": "code",
   "execution_count": 9,
   "metadata": {},
   "outputs": [
    {
     "name": "stdout",
     "output_type": "stream",
     "text": [
      "Searching for \"Shallow\" by Lady Gaga...\n",
      "Done.\n",
      "Searching for \"Thriller\" by Michael Jackson...\n",
      "Done.\n",
      "Searching for \"Lose Yourself\" by Eminem...\n",
      "Done.\n",
      "Searching for \"Before He Cheats\" by Carrie Underwood...\n",
      "Done.\n",
      "Searching for \"Waterfalls\" by TLC...\n",
      "Done.\n"
     ]
    }
   ],
   "source": [
    "#create dataframe\n",
    "df = get_df_songs(track_list,artist_list)"
   ]
  },
  {
   "cell_type": "code",
   "execution_count": 10,
   "metadata": {},
   "outputs": [],
   "source": [
    "df_clean = clean_lyrics(df,'lyrics','words')"
   ]
  },
  {
   "cell_type": "code",
   "execution_count": 11,
   "metadata": {},
   "outputs": [],
   "source": [
    "df_clean = normalize_lyrics(df_clean,'words')"
   ]
  },
  {
   "cell_type": "code",
   "execution_count": 12,
   "metadata": {},
   "outputs": [
    {
     "data": {
      "text/html": [
       "<div>\n",
       "<style scoped>\n",
       "    .dataframe tbody tr th:only-of-type {\n",
       "        vertical-align: middle;\n",
       "    }\n",
       "\n",
       "    .dataframe tbody tr th {\n",
       "        vertical-align: top;\n",
       "    }\n",
       "\n",
       "    .dataframe thead th {\n",
       "        text-align: right;\n",
       "    }\n",
       "</style>\n",
       "<table border=\"1\" class=\"dataframe\">\n",
       "  <thead>\n",
       "    <tr style=\"text-align: right;\">\n",
       "      <th></th>\n",
       "      <th>track</th>\n",
       "      <th>artist</th>\n",
       "      <th>lyrics</th>\n",
       "      <th>words</th>\n",
       "    </tr>\n",
       "  </thead>\n",
       "  <tbody>\n",
       "    <tr>\n",
       "      <th>0</th>\n",
       "      <td>Shallow</td>\n",
       "      <td>Lady Gaga</td>\n",
       "      <td>[Verse 1: Bradley Cooper]\\nTell me somethin', ...</td>\n",
       "      <td>[tell, somethin,, girl, happy, modern, world?,...</td>\n",
       "    </tr>\n",
       "    <tr>\n",
       "      <th>1</th>\n",
       "      <td>Thriller</td>\n",
       "      <td>Michael Jackson</td>\n",
       "      <td>[Verse 1: Michael Jackson]\\nIt's close to midn...</td>\n",
       "      <td>[close, midnight, something, evil, lurking, da...</td>\n",
       "    </tr>\n",
       "    <tr>\n",
       "      <th>2</th>\n",
       "      <td>Lose Yourself</td>\n",
       "      <td>Eminem</td>\n",
       "      <td>[Intro]\\nLook, if you had one shot or one oppo...</td>\n",
       "      <td>[look,, one, shot, one, opportunity, seize, ev...</td>\n",
       "    </tr>\n",
       "    <tr>\n",
       "      <th>3</th>\n",
       "      <td>Before He Cheats</td>\n",
       "      <td>Carrie Underwood</td>\n",
       "      <td>[Verse 1]\\nRight now, he's probably slow danci...</td>\n",
       "      <td>[right, now,, probably, slow, dancing, bleache...</td>\n",
       "    </tr>\n",
       "    <tr>\n",
       "      <th>4</th>\n",
       "      <td>Waterfalls</td>\n",
       "      <td>TLC</td>\n",
       "      <td>[Verse 1: T-Boz]\\nA lonely mother gazing out o...</td>\n",
       "      <td>[lonely, mother, gazing, window, staring, son,...</td>\n",
       "    </tr>\n",
       "  </tbody>\n",
       "</table>\n",
       "</div>"
      ],
      "text/plain": [
       "              track            artist  \\\n",
       "0           Shallow         Lady Gaga   \n",
       "1          Thriller   Michael Jackson   \n",
       "2     Lose Yourself            Eminem   \n",
       "3  Before He Cheats  Carrie Underwood   \n",
       "4        Waterfalls               TLC   \n",
       "\n",
       "                                              lyrics  \\\n",
       "0  [Verse 1: Bradley Cooper]\\nTell me somethin', ...   \n",
       "1  [Verse 1: Michael Jackson]\\nIt's close to midn...   \n",
       "2  [Intro]\\nLook, if you had one shot or one oppo...   \n",
       "3  [Verse 1]\\nRight now, he's probably slow danci...   \n",
       "4  [Verse 1: T-Boz]\\nA lonely mother gazing out o...   \n",
       "\n",
       "                                               words  \n",
       "0  [tell, somethin,, girl, happy, modern, world?,...  \n",
       "1  [close, midnight, something, evil, lurking, da...  \n",
       "2  [look,, one, shot, one, opportunity, seize, ev...  \n",
       "3  [right, now,, probably, slow, dancing, bleache...  \n",
       "4  [lonely, mother, gazing, window, staring, son,...  "
      ]
     },
     "execution_count": 12,
     "metadata": {},
     "output_type": "execute_result"
    }
   ],
   "source": [
    "df_clean"
   ]
  },
  {
   "cell_type": "code",
   "execution_count": null,
   "metadata": {},
   "outputs": [],
   "source": []
  }
 ],
 "metadata": {
  "kernelspec": {
   "display_name": "Python 3",
   "language": "python",
   "name": "python3"
  },
  "language_info": {
   "codemirror_mode": {
    "name": "ipython",
    "version": 3
   },
   "file_extension": ".py",
   "mimetype": "text/x-python",
   "name": "python",
   "nbconvert_exporter": "python",
   "pygments_lexer": "ipython3",
   "version": "3.8.5"
  }
 },
 "nbformat": 4,
 "nbformat_minor": 4
}
