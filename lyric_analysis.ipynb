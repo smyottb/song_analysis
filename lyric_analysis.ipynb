{
 "cells": [
  {
   "cell_type": "markdown",
   "metadata": {},
   "source": [
    "# Lyrics Using Genius API"
   ]
  },
  {
   "cell_type": "code",
   "execution_count": 1,
   "metadata": {},
   "outputs": [],
   "source": [
    "#import libraries\n",
    "import pandas as pd\n",
    "import lyricsgenius as genius #used to interface with Genius API\n",
    "import string\n",
    "import re\n",
    "\n",
    "from nltk.corpus import stopwords\n",
    "from nltk.stem.wordnet import WordNetLemmatizer"
   ]
  },
  {
   "cell_type": "code",
   "execution_count": 2,
   "metadata": {},
   "outputs": [],
   "source": [
    "#token provided by Genius API\n",
    "%store -r client_access_token"
   ]
  },
  {
   "cell_type": "code",
   "execution_count": 3,
   "metadata": {},
   "outputs": [],
   "source": [
    "#initiate Genius\n",
    "genius = genius.Genius(client_access_token)\n",
    "genius.verbose = False #turn off status messages"
   ]
  },
  {
   "cell_type": "markdown",
   "metadata": {},
   "source": [
    "### Functions"
   ]
  },
  {
   "cell_type": "code",
   "execution_count": 86,
   "metadata": {},
   "outputs": [],
   "source": [
    "def get_lyrics(track,artist):\n",
    "    '''\n",
    "    function returns song's lyrics\n",
    "    parameters:\n",
    "        track-->str\n",
    "        artist-->str\n",
    "    '''\n",
    "    track = re.sub(' - .+', '', track) #remove text after '-'\n",
    "    \n",
    "    try:\n",
    "        return genius.search_song(track,artist).lyrics\n",
    "    except:\n",
    "        print(track + ' by ' + artist + ' is not available')\n",
    "    "
   ]
  },
  {
   "cell_type": "code",
   "execution_count": 5,
   "metadata": {},
   "outputs": [],
   "source": [
    "def get_df_songs(track_list,artist_list):\n",
    "    '''\n",
    "    function obtains lyrics and returns dataframe with columns for track, artist, lyrics\n",
    "    parameters:\n",
    "        track_list-->list of str \n",
    "        artist_list-->list of str\n",
    "    '''\n",
    "    lyrics_list = [get_lyrics(track_list[x],artist_list[x]) for x in range(len(track_list))] #get lyrics for each song\n",
    "    \n",
    "    return pd.DataFrame(data={'track':track_list,'artist':artist_list,'lyrics':lyrics_list})"
   ]
  },
  {
   "cell_type": "code",
   "execution_count": 6,
   "metadata": {},
   "outputs": [],
   "source": [
    "def clean_lyrics(df,col,new_col):\n",
    "    '''\n",
    "    function returns dataframe with new column of cleaned text (song lyrics)\n",
    "    parameters:\n",
    "        df-->pandas dataframe\n",
    "        col-->column to clean (str)\n",
    "        new_col-->name of column with cleaned text (str)\n",
    "    '''\n",
    "    df[new_col] = df[col].str.lower() #make all text lowercase\n",
    "    df[new_col] = df[new_col].str.replace(r'\\n',' ') #replace '\\n' character with space\n",
    "    df[new_col] = df[new_col].str.replace(r'\\[[^\\[\\]]*]','') #remove brackets and inside text\n",
    "    df[new_col] = df[new_col].str.replace(r\"\\'\\w*\",'').str.replace(r'[^\\w\\d\\s]+','') #remove extra characters\n",
    "    df[new_col] = df[new_col].str.strip() #remove extra whitespace\n",
    "\n",
    "    return df"
   ]
  },
  {
   "cell_type": "code",
   "execution_count": 7,
   "metadata": {},
   "outputs": [],
   "source": [
    "def normalize_lyrics(df,col):\n",
    "    '''\n",
    "    function returns dataframe with column as list of words\n",
    "        tokenizes, removes stopwords from, and lemmatizes lyrics\n",
    "    parameters:\n",
    "        df-->pandas dataframe\n",
    "        col-->column to normalize\n",
    "    '''\n",
    "    df[col] = df[col].str.split() #tokenize lyrics\n",
    "    \n",
    "    stop_words = set(stopwords.words('english'))\n",
    "    df[col] = df[col].apply(lambda row:[w for w in row if w not in stop_words]) #remove stopwords\n",
    "    \n",
    "    def lemmatize_text(text):\n",
    "        '''\n",
    "        function returns lemmatized text\n",
    "        parameters:\n",
    "            text-->str\n",
    "        '''\n",
    "        lemmatizer = WordNetLemmatizer()\n",
    "        \n",
    "        return [lemmatizer.lemmatize(w) for w in text]\n",
    "    \n",
    "    df[col] = df[col].apply(lemmatize_text) #lemmatize words\n",
    "    \n",
    "    return df"
   ]
  },
  {
   "cell_type": "markdown",
   "metadata": {},
   "source": [
    "### Import Songs to Analyze\n",
    "\n",
    "Read in the resulting dataframes from the spotify_analysis notebook, which were created as follows:\n",
    "\n",
    " - Started with the top five tracks for each of country, R&B/hip-hop, and rock/alternative as of the week of May 15, 2021, based on Billboard Top 100 charts (referred to as the \"seed tracks\")\n",
    " - Used Spotify's recommender algorithm to find the most similar songs to the seed tracks (returns a maximum of 100 songs per search)\n",
    " - Ranked the most similar songs by audio features using Euclidean distance\n",
    " - Fed the top ranking songs through Spotify's recommender algorithm until there were at least 1,000 songs per genre"
   ]
  },
  {
   "cell_type": "code",
   "execution_count": 8,
   "metadata": {},
   "outputs": [],
   "source": [
    "#country\n",
    "df_cty = pd.read_csv('data/df_cty.csv')\n",
    "df_cty.drop(columns='Unnamed: 0',inplace=True)"
   ]
  },
  {
   "cell_type": "code",
   "execution_count": 9,
   "metadata": {},
   "outputs": [
    {
     "data": {
      "text/html": [
       "<div>\n",
       "<style scoped>\n",
       "    .dataframe tbody tr th:only-of-type {\n",
       "        vertical-align: middle;\n",
       "    }\n",
       "\n",
       "    .dataframe tbody tr th {\n",
       "        vertical-align: top;\n",
       "    }\n",
       "\n",
       "    .dataframe thead th {\n",
       "        text-align: right;\n",
       "    }\n",
       "</style>\n",
       "<table border=\"1\" class=\"dataframe\">\n",
       "  <thead>\n",
       "    <tr style=\"text-align: right;\">\n",
       "      <th></th>\n",
       "      <th>track</th>\n",
       "      <th>artist</th>\n",
       "      <th>track_id</th>\n",
       "      <th>release_date</th>\n",
       "      <th>dance</th>\n",
       "      <th>energy</th>\n",
       "      <th>loud</th>\n",
       "      <th>speech</th>\n",
       "      <th>acoust</th>\n",
       "      <th>live</th>\n",
       "      <th>valence</th>\n",
       "      <th>tempo</th>\n",
       "      <th>sim_score</th>\n",
       "    </tr>\n",
       "  </thead>\n",
       "  <tbody>\n",
       "    <tr>\n",
       "      <th>0</th>\n",
       "      <td>Forever After All</td>\n",
       "      <td>Luke Combs</td>\n",
       "      <td>6IBcOGPsniK3Pso1wHIhew</td>\n",
       "      <td>2020-10-23</td>\n",
       "      <td>0.487</td>\n",
       "      <td>0.650</td>\n",
       "      <td>-5.195</td>\n",
       "      <td>0.0253</td>\n",
       "      <td>0.1910</td>\n",
       "      <td>0.0933</td>\n",
       "      <td>0.456</td>\n",
       "      <td>151.964</td>\n",
       "      <td>NaN</td>\n",
       "    </tr>\n",
       "    <tr>\n",
       "      <th>1</th>\n",
       "      <td>The Good Ones</td>\n",
       "      <td>Gabby Barrett</td>\n",
       "      <td>3hLuHKzG1cmlRpq53ZVWd8</td>\n",
       "      <td>2020-06-19</td>\n",
       "      <td>0.519</td>\n",
       "      <td>0.552</td>\n",
       "      <td>-5.023</td>\n",
       "      <td>0.0259</td>\n",
       "      <td>0.1800</td>\n",
       "      <td>0.1490</td>\n",
       "      <td>0.331</td>\n",
       "      <td>89.957</td>\n",
       "      <td>NaN</td>\n",
       "    </tr>\n",
       "    <tr>\n",
       "      <th>2</th>\n",
       "      <td>Made For You</td>\n",
       "      <td>Jake Owen</td>\n",
       "      <td>7vF3xkCMvZjAe2nTWY0uQZ</td>\n",
       "      <td>2019-03-29</td>\n",
       "      <td>0.581</td>\n",
       "      <td>0.441</td>\n",
       "      <td>-6.829</td>\n",
       "      <td>0.0268</td>\n",
       "      <td>0.7700</td>\n",
       "      <td>0.1110</td>\n",
       "      <td>0.337</td>\n",
       "      <td>82.125</td>\n",
       "      <td>NaN</td>\n",
       "    </tr>\n",
       "    <tr>\n",
       "      <th>3</th>\n",
       "      <td>Hell Of A View</td>\n",
       "      <td>Eric Church</td>\n",
       "      <td>1kBx9VGumfuvlfqdlAGorE</td>\n",
       "      <td>2020-10-02</td>\n",
       "      <td>0.689</td>\n",
       "      <td>0.582</td>\n",
       "      <td>-6.778</td>\n",
       "      <td>0.0236</td>\n",
       "      <td>0.1190</td>\n",
       "      <td>0.1010</td>\n",
       "      <td>0.883</td>\n",
       "      <td>99.021</td>\n",
       "      <td>NaN</td>\n",
       "    </tr>\n",
       "    <tr>\n",
       "      <th>4</th>\n",
       "      <td>Breaking Up Was Easy In The 90's</td>\n",
       "      <td>Sam Hunt</td>\n",
       "      <td>4sf2L157iEgAR7yrCNLgSq</td>\n",
       "      <td>2020-04-03</td>\n",
       "      <td>0.562</td>\n",
       "      <td>0.649</td>\n",
       "      <td>-5.400</td>\n",
       "      <td>0.0494</td>\n",
       "      <td>0.2310</td>\n",
       "      <td>0.3410</td>\n",
       "      <td>0.376</td>\n",
       "      <td>145.913</td>\n",
       "      <td>NaN</td>\n",
       "    </tr>\n",
       "    <tr>\n",
       "      <th>...</th>\n",
       "      <td>...</td>\n",
       "      <td>...</td>\n",
       "      <td>...</td>\n",
       "      <td>...</td>\n",
       "      <td>...</td>\n",
       "      <td>...</td>\n",
       "      <td>...</td>\n",
       "      <td>...</td>\n",
       "      <td>...</td>\n",
       "      <td>...</td>\n",
       "      <td>...</td>\n",
       "      <td>...</td>\n",
       "      <td>...</td>\n",
       "    </tr>\n",
       "    <tr>\n",
       "      <th>1021</th>\n",
       "      <td>Hometown</td>\n",
       "      <td>Logan Mize</td>\n",
       "      <td>10MpuvwpKpAJPsbttLjgW1</td>\n",
       "      <td>2021-01-27</td>\n",
       "      <td>0.586</td>\n",
       "      <td>0.801</td>\n",
       "      <td>-5.078</td>\n",
       "      <td>0.0532</td>\n",
       "      <td>0.2480</td>\n",
       "      <td>0.0994</td>\n",
       "      <td>0.718</td>\n",
       "      <td>74.973</td>\n",
       "      <td>-37.832074</td>\n",
       "    </tr>\n",
       "    <tr>\n",
       "      <th>1022</th>\n",
       "      <td>Drinkin' Hours</td>\n",
       "      <td>Cole Swindell</td>\n",
       "      <td>2wGFhmzwELvaeXzKQeB7Yb</td>\n",
       "      <td>2019-10-18</td>\n",
       "      <td>0.522</td>\n",
       "      <td>0.922</td>\n",
       "      <td>-3.184</td>\n",
       "      <td>0.0770</td>\n",
       "      <td>0.0552</td>\n",
       "      <td>0.2760</td>\n",
       "      <td>0.878</td>\n",
       "      <td>156.045</td>\n",
       "      <td>-41.336953</td>\n",
       "    </tr>\n",
       "    <tr>\n",
       "      <th>1023</th>\n",
       "      <td>Grass Is Always Greener</td>\n",
       "      <td>Jake Owen</td>\n",
       "      <td>1S4zg0dP5HdZkOtqrDk3yg</td>\n",
       "      <td>2019-03-29</td>\n",
       "      <td>0.480</td>\n",
       "      <td>0.851</td>\n",
       "      <td>-3.980</td>\n",
       "      <td>0.0758</td>\n",
       "      <td>0.3760</td>\n",
       "      <td>0.1090</td>\n",
       "      <td>0.881</td>\n",
       "      <td>157.999</td>\n",
       "      <td>-43.245243</td>\n",
       "    </tr>\n",
       "    <tr>\n",
       "      <th>1024</th>\n",
       "      <td>Got What I Got</td>\n",
       "      <td>Jason Aldean</td>\n",
       "      <td>4TCc369aRPRubv1m8R1TBG</td>\n",
       "      <td>2019-11-22</td>\n",
       "      <td>0.512</td>\n",
       "      <td>0.580</td>\n",
       "      <td>-6.658</td>\n",
       "      <td>0.0290</td>\n",
       "      <td>0.6210</td>\n",
       "      <td>0.5130</td>\n",
       "      <td>0.303</td>\n",
       "      <td>159.847</td>\n",
       "      <td>-45.061028</td>\n",
       "    </tr>\n",
       "    <tr>\n",
       "      <th>1025</th>\n",
       "      <td>Tennessee (Take Me Down)</td>\n",
       "      <td>Clayton Anderson</td>\n",
       "      <td>3u7H6uTDt7ydDBwIjNYgdD</td>\n",
       "      <td>2020-01-17</td>\n",
       "      <td>0.732</td>\n",
       "      <td>0.670</td>\n",
       "      <td>-7.085</td>\n",
       "      <td>0.1580</td>\n",
       "      <td>0.1190</td>\n",
       "      <td>0.1000</td>\n",
       "      <td>0.546</td>\n",
       "      <td>171.978</td>\n",
       "      <td>-57.196010</td>\n",
       "    </tr>\n",
       "  </tbody>\n",
       "</table>\n",
       "<p>1026 rows × 13 columns</p>\n",
       "</div>"
      ],
      "text/plain": [
       "                                 track            artist  \\\n",
       "0                    Forever After All        Luke Combs   \n",
       "1                        The Good Ones     Gabby Barrett   \n",
       "2                         Made For You         Jake Owen   \n",
       "3                       Hell Of A View       Eric Church   \n",
       "4     Breaking Up Was Easy In The 90's          Sam Hunt   \n",
       "...                                ...               ...   \n",
       "1021                          Hometown        Logan Mize   \n",
       "1022                    Drinkin' Hours     Cole Swindell   \n",
       "1023           Grass Is Always Greener         Jake Owen   \n",
       "1024                    Got What I Got      Jason Aldean   \n",
       "1025          Tennessee (Take Me Down)  Clayton Anderson   \n",
       "\n",
       "                    track_id release_date  dance  energy   loud  speech  \\\n",
       "0     6IBcOGPsniK3Pso1wHIhew   2020-10-23  0.487   0.650 -5.195  0.0253   \n",
       "1     3hLuHKzG1cmlRpq53ZVWd8   2020-06-19  0.519   0.552 -5.023  0.0259   \n",
       "2     7vF3xkCMvZjAe2nTWY0uQZ   2019-03-29  0.581   0.441 -6.829  0.0268   \n",
       "3     1kBx9VGumfuvlfqdlAGorE   2020-10-02  0.689   0.582 -6.778  0.0236   \n",
       "4     4sf2L157iEgAR7yrCNLgSq   2020-04-03  0.562   0.649 -5.400  0.0494   \n",
       "...                      ...          ...    ...     ...    ...     ...   \n",
       "1021  10MpuvwpKpAJPsbttLjgW1   2021-01-27  0.586   0.801 -5.078  0.0532   \n",
       "1022  2wGFhmzwELvaeXzKQeB7Yb   2019-10-18  0.522   0.922 -3.184  0.0770   \n",
       "1023  1S4zg0dP5HdZkOtqrDk3yg   2019-03-29  0.480   0.851 -3.980  0.0758   \n",
       "1024  4TCc369aRPRubv1m8R1TBG   2019-11-22  0.512   0.580 -6.658  0.0290   \n",
       "1025  3u7H6uTDt7ydDBwIjNYgdD   2020-01-17  0.732   0.670 -7.085  0.1580   \n",
       "\n",
       "      acoust    live  valence    tempo  sim_score  \n",
       "0     0.1910  0.0933    0.456  151.964        NaN  \n",
       "1     0.1800  0.1490    0.331   89.957        NaN  \n",
       "2     0.7700  0.1110    0.337   82.125        NaN  \n",
       "3     0.1190  0.1010    0.883   99.021        NaN  \n",
       "4     0.2310  0.3410    0.376  145.913        NaN  \n",
       "...      ...     ...      ...      ...        ...  \n",
       "1021  0.2480  0.0994    0.718   74.973 -37.832074  \n",
       "1022  0.0552  0.2760    0.878  156.045 -41.336953  \n",
       "1023  0.3760  0.1090    0.881  157.999 -43.245243  \n",
       "1024  0.6210  0.5130    0.303  159.847 -45.061028  \n",
       "1025  0.1190  0.1000    0.546  171.978 -57.196010  \n",
       "\n",
       "[1026 rows x 13 columns]"
      ]
     },
     "execution_count": 9,
     "metadata": {},
     "output_type": "execute_result"
    }
   ],
   "source": [
    "df_cty"
   ]
  },
  {
   "cell_type": "code",
   "execution_count": 24,
   "metadata": {},
   "outputs": [
    {
     "data": {
      "text/plain": [
       "0"
      ]
     },
     "execution_count": 24,
     "metadata": {},
     "output_type": "execute_result"
    }
   ],
   "source": [
    "df_cty['track'].isnull().sum()"
   ]
  },
  {
   "cell_type": "code",
   "execution_count": 10,
   "metadata": {},
   "outputs": [],
   "source": [
    "#R&B/hip-hop\n",
    "df_rb = pd.read_csv('data/df_rb.csv')\n",
    "df_rb.drop(columns='Unnamed: 0',inplace=True)"
   ]
  },
  {
   "cell_type": "code",
   "execution_count": 12,
   "metadata": {},
   "outputs": [],
   "source": [
    "#rock/alternative\n",
    "df_rock = pd.read_csv('data/df_rock.csv')\n",
    "df_rock.drop(columns='Unnamed: 0',inplace=True)"
   ]
  },
  {
   "cell_type": "markdown",
   "metadata": {},
   "source": [
    "### Obtain Lyrics from Genius API\n",
    "\n",
    "Pull lyrics from the Genius API with the lyricsgenius wrapper and put into dataframes."
   ]
  },
  {
   "cell_type": "code",
   "execution_count": 10,
   "metadata": {},
   "outputs": [
    {
     "name": "stdout",
     "output_type": "stream",
     "text": [
      "All on Me - PHZES Remix by Sammy Adams is not available\n",
      "Looking At You (feat. Sam Vesso) - GSPR Remix by Two Friends is not available\n",
      "Caught Up In The Country (Sam Feldt Remix) by Rodney Atkins is not available\n",
      "Fault (Kdrew Remix) by mike. is not available\n",
      "Hell - Salasnich Remix by Two Friends is not available\n",
      "Rumor (Bryan Todd Remix) by Lee Brice is not available\n",
      "One Beer (HARDY feat. Lauren Alaina, Devin Dawson) by HIXTAPE is not available\n",
      "Down For It (feat. T.I.) - JD Walker Version by Willie Jones is not available\n",
      "Giving You Up - Acoustic by Kameron Marlowe is not available\n",
      "Something You Ain't Ever Had by Waterloo Revival is not available\n",
      "Ballin' by Rvshvd is not available\n",
      "Saltwater Gospel - Fins Up Version by Eli Young Band is not available\n",
      "Every Little Thing - Ruffian Remix by Russell Dickerson is not available\n",
      "I Should Probably Go To Bed by Dan + Shay is not available\n",
      "Shallow (The Duet with Garth Brooks and Trisha Yearwood) by Trisha Yearwood is not available\n",
      "Forever Begins Tonight by The McClymonts is not available\n",
      "On Me (feat. Ava Max) - From 'SCOOB!' The Album by Thomas Rhett is not available\n",
      "There Is A War [Feat. Kevin Morby & Sam Cohen] by Nathaniel Rateliff is not available\n",
      "Tupelo Honey by JJ Grey & Mofro is not available\n",
      "The Bull - Brandon Day Remix by Kip Moore is not available\n",
      "Honey, I'm Good. (Duet w/ Eli Young Band) by Andy Grammer is not available\n",
      "Say Hey (I Love You) (feat. Cherine Tanya Anderson) by Michael Franti & Spearhead is not available\n",
      "I'm a Lady - from SMURFS: THE LOST VILLAGE by Meghan Trainor is not available\n",
      "Shoot Me Straight - Radio Edit by Brothers Osborne is not available\n",
      "A Few Good Stories (feat. Walk Off the Earth) by Brett Kissel is not available\n",
      "Black Sheep - 8Track by Walker Hayes is not available\n",
      "Shot of Glory - Diesel Turbo Remix by The Washboard Union is not available\n",
      "One Big Country Song - RoadHouse Remix by LOCASH is not available\n",
      "#REDNEK by Gord Bamford is not available\n",
      "Black Like Me - Our Voices by Mickey Guyton is not available\n",
      "Sad Songs and Waltzes (with Willie Nelson) by Cody Johnson is not available\n",
      "Girls Like Me (From Songland) by Martina McBride is not available\n"
     ]
    }
   ],
   "source": [
    "#country\n",
    "df_cty_lyrics = get_df_songs(list(df_cty['track']),list(df_cty['artist']))"
   ]
  },
  {
   "cell_type": "code",
   "execution_count": 24,
   "metadata": {},
   "outputs": [],
   "source": [
    "p = [('All on Me - PHZES Remix', 'Sammy Adams'),\n",
    "     ('Looking At You (feat. Sam Vesso) - GSPR Remix', 'Two Friends'),\n",
    "     ('Caught Up In The Country (Sam Feldt Remix)', 'Sammy Adams'),\n",
    "     ('Fault (Kdrew Remix)', 'mike.'),\n",
    "     ('Hell - Salasnich Remix', 'Two Friends'),\n",
    "     ('Rumor (Bryan Todd Remix)', 'Lee Brice'),\n",
    "     ('One Beer (HARDY feat. Lauren Alaina, Devin Dawson)', 'HIXTAPE'),\n",
    "     ('Down For It (feat. T.I.) - JD Walker Version', 'Willie Jones'),\n",
    "     ('Giving You Up - Acoustic', 'Kameron Marlowe'),\n",
    "     (\"Something You Ain't Ever Had\", 'Waterloo Revival')\n",
    "    ]"
   ]
  },
  {
   "cell_type": "code",
   "execution_count": 85,
   "metadata": {},
   "outputs": [
    {
     "data": {
      "text/plain": [
       "'All on Me'"
      ]
     },
     "execution_count": 85,
     "metadata": {},
     "output_type": "execute_result"
    }
   ],
   "source": [
    "re.sub(' - .+', '', 'All on Me')\n",
    "\n",
    "\n",
    "#'Hell - Salasnich Remix'.replace(r' - ','') #remove text after '-'"
   ]
  },
  {
   "cell_type": "code",
   "execution_count": 87,
   "metadata": {},
   "outputs": [
    {
     "name": "stdout",
     "output_type": "stream",
     "text": [
      "Fault (Kdrew Remix) by mike. is not available\n",
      "Rumor (Bryan Todd Remix) by Lee Brice is not available\n",
      "One Beer (HARDY feat. Lauren Alaina, Devin Dawson) by HIXTAPE is not available\n"
     ]
    }
   ],
   "source": [
    "p_list = [get_lyrics(t,a) for t,a in p]"
   ]
  },
  {
   "cell_type": "code",
   "execution_count": 88,
   "metadata": {},
   "outputs": [
    {
     "name": "stdout",
     "output_type": "stream",
     "text": [
      "One Beer by HIXTAPE is not available\n"
     ]
    }
   ],
   "source": [
    "get_lyrics('One Beer','HIXTAPE')"
   ]
  },
  {
   "cell_type": "code",
   "execution_count": 14,
   "metadata": {},
   "outputs": [
    {
     "data": {
      "text/html": [
       "<div>\n",
       "<style scoped>\n",
       "    .dataframe tbody tr th:only-of-type {\n",
       "        vertical-align: middle;\n",
       "    }\n",
       "\n",
       "    .dataframe tbody tr th {\n",
       "        vertical-align: top;\n",
       "    }\n",
       "\n",
       "    .dataframe thead th {\n",
       "        text-align: right;\n",
       "    }\n",
       "</style>\n",
       "<table border=\"1\" class=\"dataframe\">\n",
       "  <thead>\n",
       "    <tr style=\"text-align: right;\">\n",
       "      <th></th>\n",
       "      <th>track</th>\n",
       "      <th>artist</th>\n",
       "      <th>lyrics</th>\n",
       "    </tr>\n",
       "  </thead>\n",
       "  <tbody>\n",
       "    <tr>\n",
       "      <th>0</th>\n",
       "      <td>Forever After All</td>\n",
       "      <td>Luke Combs</td>\n",
       "      <td>[Verse 1]\\nA cold beer's got twelve ounces\\nA ...</td>\n",
       "    </tr>\n",
       "    <tr>\n",
       "      <th>1</th>\n",
       "      <td>The Good Ones</td>\n",
       "      <td>Gabby Barrett</td>\n",
       "      <td>[Verse 1]\\nHe's a phone call to his parents\\nH...</td>\n",
       "    </tr>\n",
       "    <tr>\n",
       "      <th>2</th>\n",
       "      <td>Made For You</td>\n",
       "      <td>Jake Owen</td>\n",
       "      <td>[Verse 1]\\nWater towers are made for hearts an...</td>\n",
       "    </tr>\n",
       "    <tr>\n",
       "      <th>3</th>\n",
       "      <td>Hell Of A View</td>\n",
       "      <td>Eric Church</td>\n",
       "      <td>[Verse 1]\\nI was no daddy's dream\\nWas not you...</td>\n",
       "    </tr>\n",
       "    <tr>\n",
       "      <th>4</th>\n",
       "      <td>Breaking Up Was Easy In The 90's</td>\n",
       "      <td>Sam Hunt</td>\n",
       "      <td>[Intro]\\nYeah, man, oh man, oh man\\n\\n[Verse 1...</td>\n",
       "    </tr>\n",
       "    <tr>\n",
       "      <th>...</th>\n",
       "      <td>...</td>\n",
       "      <td>...</td>\n",
       "      <td>...</td>\n",
       "    </tr>\n",
       "    <tr>\n",
       "      <th>1021</th>\n",
       "      <td>Hometown</td>\n",
       "      <td>Logan Mize</td>\n",
       "      <td>[Verse 1]\\nHow'd I end up here where I don't b...</td>\n",
       "    </tr>\n",
       "    <tr>\n",
       "      <th>1022</th>\n",
       "      <td>Drinkin' Hours</td>\n",
       "      <td>Cole Swindell</td>\n",
       "      <td>[Intro]\\nHey\\nWoo!\\n\\n[Verse 1]\\nBeen watchin'...</td>\n",
       "    </tr>\n",
       "    <tr>\n",
       "      <th>1023</th>\n",
       "      <td>Grass Is Always Greener</td>\n",
       "      <td>Jake Owen</td>\n",
       "      <td>[Verse 1: Jake Owen]\\nNeighbor got a brand new...</td>\n",
       "    </tr>\n",
       "    <tr>\n",
       "      <th>1024</th>\n",
       "      <td>Got What I Got</td>\n",
       "      <td>Jason Aldean</td>\n",
       "      <td>[Verse 1]\\nShe said, \"Baby, do you ever miss b...</td>\n",
       "    </tr>\n",
       "    <tr>\n",
       "      <th>1025</th>\n",
       "      <td>Tennessee (Take Me Down)</td>\n",
       "      <td>Clayton Anderson</td>\n",
       "      <td>Verse 1\\nTennessee take me down\\nI need you to...</td>\n",
       "    </tr>\n",
       "  </tbody>\n",
       "</table>\n",
       "<p>1026 rows × 3 columns</p>\n",
       "</div>"
      ],
      "text/plain": [
       "                                 track            artist  \\\n",
       "0                    Forever After All        Luke Combs   \n",
       "1                        The Good Ones     Gabby Barrett   \n",
       "2                         Made For You         Jake Owen   \n",
       "3                       Hell Of A View       Eric Church   \n",
       "4     Breaking Up Was Easy In The 90's          Sam Hunt   \n",
       "...                                ...               ...   \n",
       "1021                          Hometown        Logan Mize   \n",
       "1022                    Drinkin' Hours     Cole Swindell   \n",
       "1023           Grass Is Always Greener         Jake Owen   \n",
       "1024                    Got What I Got      Jason Aldean   \n",
       "1025          Tennessee (Take Me Down)  Clayton Anderson   \n",
       "\n",
       "                                                 lyrics  \n",
       "0     [Verse 1]\\nA cold beer's got twelve ounces\\nA ...  \n",
       "1     [Verse 1]\\nHe's a phone call to his parents\\nH...  \n",
       "2     [Verse 1]\\nWater towers are made for hearts an...  \n",
       "3     [Verse 1]\\nI was no daddy's dream\\nWas not you...  \n",
       "4     [Intro]\\nYeah, man, oh man, oh man\\n\\n[Verse 1...  \n",
       "...                                                 ...  \n",
       "1021  [Verse 1]\\nHow'd I end up here where I don't b...  \n",
       "1022  [Intro]\\nHey\\nWoo!\\n\\n[Verse 1]\\nBeen watchin'...  \n",
       "1023  [Verse 1: Jake Owen]\\nNeighbor got a brand new...  \n",
       "1024  [Verse 1]\\nShe said, \"Baby, do you ever miss b...  \n",
       "1025  Verse 1\\nTennessee take me down\\nI need you to...  \n",
       "\n",
       "[1026 rows x 3 columns]"
      ]
     },
     "execution_count": 14,
     "metadata": {},
     "output_type": "execute_result"
    }
   ],
   "source": [
    "df_cty_lyrics"
   ]
  },
  {
   "cell_type": "code",
   "execution_count": null,
   "metadata": {},
   "outputs": [],
   "source": [
    "#R&B/hip-hop\n",
    "df_rb_lyrics = get_df_songs(df_rb['track'],df_rb['artist'])"
   ]
  },
  {
   "cell_type": "code",
   "execution_count": null,
   "metadata": {},
   "outputs": [],
   "source": [
    "#rock\n",
    "df_rock_lyrics = get_df_songs(df_rock['track'],df_rock['artist'])"
   ]
  },
  {
   "cell_type": "markdown",
   "metadata": {},
   "source": [
    "### Clean and Preprocess Lyrics"
   ]
  },
  {
   "cell_type": "code",
   "execution_count": null,
   "metadata": {},
   "outputs": [],
   "source": [
    "#df_clean = clean_lyrics(df,'lyrics','words')"
   ]
  },
  {
   "cell_type": "code",
   "execution_count": null,
   "metadata": {},
   "outputs": [],
   "source": [
    "#df_clean = normalize_lyrics(df_clean,'words')"
   ]
  },
  {
   "cell_type": "code",
   "execution_count": null,
   "metadata": {},
   "outputs": [],
   "source": [
    "#df_clean"
   ]
  },
  {
   "cell_type": "markdown",
   "metadata": {},
   "source": [
    "### Join Dataframes"
   ]
  },
  {
   "cell_type": "code",
   "execution_count": null,
   "metadata": {},
   "outputs": [],
   "source": []
  },
  {
   "cell_type": "code",
   "execution_count": null,
   "metadata": {},
   "outputs": [],
   "source": []
  }
 ],
 "metadata": {
  "kernelspec": {
   "display_name": "Python 3",
   "language": "python",
   "name": "python3"
  },
  "language_info": {
   "codemirror_mode": {
    "name": "ipython",
    "version": 3
   },
   "file_extension": ".py",
   "mimetype": "text/x-python",
   "name": "python",
   "nbconvert_exporter": "python",
   "pygments_lexer": "ipython3",
   "version": "3.8.5"
  }
 },
 "nbformat": 4,
 "nbformat_minor": 4
}
