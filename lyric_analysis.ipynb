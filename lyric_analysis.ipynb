{
 "cells": [
  {
   "cell_type": "code",
   "execution_count": 1,
   "metadata": {},
   "outputs": [],
   "source": [
    "#import libraries\n",
    "import pandas as pd\n",
    "import lyricsgenius as genius #used to interface with Genius API\n",
    "import string\n",
    "import re"
   ]
  },
  {
   "cell_type": "code",
   "execution_count": 2,
   "metadata": {},
   "outputs": [],
   "source": [
    "#token provided by Genius API\n",
    "%store -r client_access_token"
   ]
  },
  {
   "cell_type": "code",
   "execution_count": 3,
   "metadata": {},
   "outputs": [],
   "source": [
    "#initiate Genius\n",
    "genius = genius.Genius(client_access_token)"
   ]
  },
  {
   "cell_type": "code",
   "execution_count": 4,
   "metadata": {},
   "outputs": [],
   "source": [
    "def get_lyrics(track,artist):\n",
    "    '''\n",
    "    function returns song's lyrics\n",
    "    parameters:\n",
    "        track-->str\n",
    "        artist-->str\n",
    "    '''\n",
    "    \n",
    "    return genius.search_song(track,artist).lyrics"
   ]
  },
  {
   "cell_type": "code",
   "execution_count": 5,
   "metadata": {},
   "outputs": [],
   "source": [
    "def get_df_songs(track_list,artist_list):\n",
    "    '''\n",
    "    function obtains lyrics and returns dataframe with columns for track, artist, lyrics\n",
    "    parameters:\n",
    "        track_list-->list of str \n",
    "        artist_list-->list of str\n",
    "    '''\n",
    "    \n",
    "    #get lyrics for each song\n",
    "    lyrics_list = [get_lyrics(track_list[x],artist_list[x]) for x in range(len(track_list))]\n",
    "    \n",
    "    return pd.DataFrame(data={'track':track_list,'artist':artist_list,'lyrics':lyrics_list})"
   ]
  },
  {
   "cell_type": "code",
   "execution_count": 6,
   "metadata": {},
   "outputs": [],
   "source": [
    "def clean_lyrics(df,col):\n",
    "    '''\n",
    "    function cleans text (song lyrics), formats specified column, and returns cleaned dataframe\n",
    "    parameters:\n",
    "        df-->pandas dataframe\n",
    "        col-->column to clean (str)\n",
    "    '''\n",
    "    \n",
    "    df = df\n",
    "    df[col] = df[col].str.lower() #make all text lowercase\n",
    "    df[col] = df[col].str.replace(r'\\n',' ',regex=True) #replace '\\n' character with space\n",
    "    df[col] = df[col].str.replace(r'\\[[^\\[\\]]*]','',regex=True) #remove brackets and inside text\n",
    "    df[col] = df[col].str.replace(r'[^\\w\\d\\'\\s]+','',regex=True) #remove extra characters\n",
    "    df[col] = df[col].str.strip() #remove extra whitespace\n",
    "\n",
    "    return df"
   ]
  },
  {
   "cell_type": "code",
   "execution_count": 7,
   "metadata": {},
   "outputs": [],
   "source": [
    "#pull lyrics for songs in question\n",
    "#need track_list and artist_list from Spotify search\n",
    "track_list = ['Shallow','Thriller','Lose Yourself','Before He Cheats','Waterfalls'] #sample songs\n",
    "artist_list = ['Lady Gaga','Michael Jackson','Eminem','Carrie Underwood','TLC'] #sample songs"
   ]
  },
  {
   "cell_type": "code",
   "execution_count": 8,
   "metadata": {},
   "outputs": [
    {
     "name": "stdout",
     "output_type": "stream",
     "text": [
      "Searching for \"Shallow\" by Lady Gaga...\n",
      "Done.\n",
      "Searching for \"Thriller\" by Michael Jackson...\n",
      "Done.\n",
      "Searching for \"Lose Yourself\" by Eminem...\n",
      "Done.\n",
      "Searching for \"Before He Cheats\" by Carrie Underwood...\n",
      "Done.\n",
      "Searching for \"Waterfalls\" by TLC...\n",
      "Done.\n"
     ]
    }
   ],
   "source": [
    "#create dataframe\n",
    "df = get_df_songs(track_list,artist_list)"
   ]
  },
  {
   "cell_type": "code",
   "execution_count": 9,
   "metadata": {},
   "outputs": [
    {
     "data": {
      "text/html": [
       "<div>\n",
       "<style scoped>\n",
       "    .dataframe tbody tr th:only-of-type {\n",
       "        vertical-align: middle;\n",
       "    }\n",
       "\n",
       "    .dataframe tbody tr th {\n",
       "        vertical-align: top;\n",
       "    }\n",
       "\n",
       "    .dataframe thead th {\n",
       "        text-align: right;\n",
       "    }\n",
       "</style>\n",
       "<table border=\"1\" class=\"dataframe\">\n",
       "  <thead>\n",
       "    <tr style=\"text-align: right;\">\n",
       "      <th></th>\n",
       "      <th>track</th>\n",
       "      <th>artist</th>\n",
       "      <th>lyrics</th>\n",
       "    </tr>\n",
       "  </thead>\n",
       "  <tbody>\n",
       "    <tr>\n",
       "      <th>0</th>\n",
       "      <td>Shallow</td>\n",
       "      <td>Lady Gaga</td>\n",
       "      <td>[Verse 1: Bradley Cooper]\\nTell me somethin', ...</td>\n",
       "    </tr>\n",
       "    <tr>\n",
       "      <th>1</th>\n",
       "      <td>Thriller</td>\n",
       "      <td>Michael Jackson</td>\n",
       "      <td>[Verse 1: Michael Jackson]\\nIt's close to midn...</td>\n",
       "    </tr>\n",
       "    <tr>\n",
       "      <th>2</th>\n",
       "      <td>Lose Yourself</td>\n",
       "      <td>Eminem</td>\n",
       "      <td>[Intro]\\nLook, if you had one shot or one oppo...</td>\n",
       "    </tr>\n",
       "    <tr>\n",
       "      <th>3</th>\n",
       "      <td>Before He Cheats</td>\n",
       "      <td>Carrie Underwood</td>\n",
       "      <td>[Verse 1]\\nRight now, he's probably slow danci...</td>\n",
       "    </tr>\n",
       "    <tr>\n",
       "      <th>4</th>\n",
       "      <td>Waterfalls</td>\n",
       "      <td>TLC</td>\n",
       "      <td>[Verse 1: T-Boz]\\nA lonely mother gazing out o...</td>\n",
       "    </tr>\n",
       "  </tbody>\n",
       "</table>\n",
       "</div>"
      ],
      "text/plain": [
       "              track            artist  \\\n",
       "0           Shallow         Lady Gaga   \n",
       "1          Thriller   Michael Jackson   \n",
       "2     Lose Yourself            Eminem   \n",
       "3  Before He Cheats  Carrie Underwood   \n",
       "4        Waterfalls               TLC   \n",
       "\n",
       "                                              lyrics  \n",
       "0  [Verse 1: Bradley Cooper]\\nTell me somethin', ...  \n",
       "1  [Verse 1: Michael Jackson]\\nIt's close to midn...  \n",
       "2  [Intro]\\nLook, if you had one shot or one oppo...  \n",
       "3  [Verse 1]\\nRight now, he's probably slow danci...  \n",
       "4  [Verse 1: T-Boz]\\nA lonely mother gazing out o...  "
      ]
     },
     "execution_count": 9,
     "metadata": {},
     "output_type": "execute_result"
    }
   ],
   "source": [
    "df"
   ]
  },
  {
   "cell_type": "code",
   "execution_count": 10,
   "metadata": {},
   "outputs": [],
   "source": [
    "df_clean = clean_lyrics(df,'lyrics')"
   ]
  },
  {
   "cell_type": "code",
   "execution_count": 11,
   "metadata": {},
   "outputs": [
    {
     "data": {
      "text/html": [
       "<div>\n",
       "<style scoped>\n",
       "    .dataframe tbody tr th:only-of-type {\n",
       "        vertical-align: middle;\n",
       "    }\n",
       "\n",
       "    .dataframe tbody tr th {\n",
       "        vertical-align: top;\n",
       "    }\n",
       "\n",
       "    .dataframe thead th {\n",
       "        text-align: right;\n",
       "    }\n",
       "</style>\n",
       "<table border=\"1\" class=\"dataframe\">\n",
       "  <thead>\n",
       "    <tr style=\"text-align: right;\">\n",
       "      <th></th>\n",
       "      <th>track</th>\n",
       "      <th>artist</th>\n",
       "      <th>lyrics</th>\n",
       "    </tr>\n",
       "  </thead>\n",
       "  <tbody>\n",
       "    <tr>\n",
       "      <th>0</th>\n",
       "      <td>Shallow</td>\n",
       "      <td>Lady Gaga</td>\n",
       "      <td>tell me somethin' girl are you happy in this m...</td>\n",
       "    </tr>\n",
       "    <tr>\n",
       "      <th>1</th>\n",
       "      <td>Thriller</td>\n",
       "      <td>Michael Jackson</td>\n",
       "      <td>it's close to midnight something evil's lurkin...</td>\n",
       "    </tr>\n",
       "    <tr>\n",
       "      <th>2</th>\n",
       "      <td>Lose Yourself</td>\n",
       "      <td>Eminem</td>\n",
       "      <td>look if you had one shot or one opportunity to...</td>\n",
       "    </tr>\n",
       "    <tr>\n",
       "      <th>3</th>\n",
       "      <td>Before He Cheats</td>\n",
       "      <td>Carrie Underwood</td>\n",
       "      <td>right now he's probably slow dancing with a bl...</td>\n",
       "    </tr>\n",
       "    <tr>\n",
       "      <th>4</th>\n",
       "      <td>Waterfalls</td>\n",
       "      <td>TLC</td>\n",
       "      <td>a lonely mother gazing out of the window stari...</td>\n",
       "    </tr>\n",
       "  </tbody>\n",
       "</table>\n",
       "</div>"
      ],
      "text/plain": [
       "              track            artist  \\\n",
       "0           Shallow         Lady Gaga   \n",
       "1          Thriller   Michael Jackson   \n",
       "2     Lose Yourself            Eminem   \n",
       "3  Before He Cheats  Carrie Underwood   \n",
       "4        Waterfalls               TLC   \n",
       "\n",
       "                                              lyrics  \n",
       "0  tell me somethin' girl are you happy in this m...  \n",
       "1  it's close to midnight something evil's lurkin...  \n",
       "2  look if you had one shot or one opportunity to...  \n",
       "3  right now he's probably slow dancing with a bl...  \n",
       "4  a lonely mother gazing out of the window stari...  "
      ]
     },
     "execution_count": 11,
     "metadata": {},
     "output_type": "execute_result"
    }
   ],
   "source": [
    "df_clean"
   ]
  },
  {
   "cell_type": "code",
   "execution_count": 12,
   "metadata": {},
   "outputs": [
    {
     "data": {
      "text/plain": [
       "\"it's close to midnight something evil's lurking in the dark under the moonlight you see a sight that almost stops your heart you try to scream but terror takes the sound before you make it you start to freeze as horror looks you right between your eyes you're paralyzed   'cause this is thriller thriller night and no one's gonna save you from the beast about to strike you know it's thriller thriller night you're fighting for your life inside a killer thriller tonight yeah ooh   you hear the door slam and realize there's nowhere left to run you feel the cold hand and wonder if you'll ever see the sun you close your eyes and hope that this is just imagination girl but all the while you hear a creature creeping up behind you're out of time  'cause this is thriller thriller night there ain't no second chance against the thing with 40 eyes girl ooh ooh thriller thriller night you're fighting for your life inside a killer thriller tonight   night creatures call and the dead start to walk in their masquerade there's no escaping the jaws of the alien this time they're open wide this is the end of your life ooh   they're out to get you there's demons closing in on every side ooh they will possess you unless you change that number on your dial now is the time for you and i to cuddle close together yeah all through the night i'll save you from the terror on the screen i'll make you see  that this is thriller thriller night 'cause i can thrill you more than any ghoul would ever dare try thriller thriller night so let me hold you tight and share a killer thriller chiller thriller here tonight 'cause this is thriller thriller night girl i can thrill you more than any ghoul would ever dare try ooh ooh thriller thriller night so let me hold you tight and share a killer thriller i'm gonna thrill you tonight   darkness falls across the land the midnight hour is close at hand creatures crawl in search of blood to terrorize y'all's neighborhood i'm gonna thrill you tonight and whosoever shall be found without the soul for getting down must stand and face the hounds of hell and rot inside a corpse's shell i'm gonna thrill you tonight thriller ooh thriller i'm gonna thrill you tonight thriller night thriller i'm gonna thrill you tonight ooh babe i'm gonna thrill you tonight thriller night babe the foulest stench is in the air the funk of forty thousand years thriller night thriller and grisly ghouls from every tomb are closing in to seal your doom and though you fight to stay alive your body starts to shiver i'm gonna thrill you tonight for no mere mortal can resist the evil of the thriller ahahahahahahahaha ahahahahahahahaha\""
      ]
     },
     "execution_count": 12,
     "metadata": {},
     "output_type": "execute_result"
    }
   ],
   "source": [
    "df.iloc[1].lyrics"
   ]
  },
  {
   "cell_type": "code",
   "execution_count": null,
   "metadata": {},
   "outputs": [],
   "source": []
  }
 ],
 "metadata": {
  "kernelspec": {
   "display_name": "Python 3",
   "language": "python",
   "name": "python3"
  },
  "language_info": {
   "codemirror_mode": {
    "name": "ipython",
    "version": 3
   },
   "file_extension": ".py",
   "mimetype": "text/x-python",
   "name": "python",
   "nbconvert_exporter": "python",
   "pygments_lexer": "ipython3",
   "version": "3.8.5"
  }
 },
 "nbformat": 4,
 "nbformat_minor": 4
}
