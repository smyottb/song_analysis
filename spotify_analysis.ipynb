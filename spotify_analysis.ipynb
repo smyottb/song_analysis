{
 "cells": [
  {
   "cell_type": "markdown",
   "metadata": {},
   "source": [
    "# Song Analysis Using Spotify API"
   ]
  },
  {
   "cell_type": "code",
   "execution_count": 1,
   "metadata": {},
   "outputs": [],
   "source": [
    "#import libraries\n",
    "import sys\n",
    "import spotipy\n",
    "import spotipy.util as util\n",
    "from spotipy.oauth2 import SpotifyClientCredentials\n",
    "import pandas as pd\n",
    "import numpy as np\n",
    "import time\n",
    "from bs4 import BeautifulSoup as bs\n",
    "from sklearn.metrics import pairwise_distances\n",
    "from scipy.spatial.distance import cosine"
   ]
  },
  {
   "cell_type": "code",
   "execution_count": 2,
   "metadata": {},
   "outputs": [],
   "source": [
    "#Spotify authorization scope\n",
    "scope = 'user-library-read'"
   ]
  },
  {
   "cell_type": "code",
   "execution_count": 3,
   "metadata": {},
   "outputs": [],
   "source": [
    "#Spotify API credentials\n",
    "%store -r spotify_cid\n",
    "cid = spotify_cid\n",
    "%store -r spotify_secret\n",
    "secret = spotify_secret"
   ]
  },
  {
   "cell_type": "code",
   "execution_count": 4,
   "metadata": {},
   "outputs": [],
   "source": [
    "#connect to Spotify through wrapper Spotipy\n",
    "client_cred = SpotifyClientCredentials(client_id=cid, client_secret=secret)\n",
    "sp = spotipy.Spotify(client_credentials_manager = client_cred)"
   ]
  },
  {
   "cell_type": "markdown",
   "metadata": {},
   "source": [
    "### Functions"
   ]
  },
  {
   "cell_type": "code",
   "execution_count": 5,
   "metadata": {},
   "outputs": [],
   "source": [
    "def get_track_info(track,artist):\n",
    "    '''\n",
    "    function returns dictionary with track's info (including audio features)\n",
    "    parameters:\n",
    "        track-->str\n",
    "        artist-->str\n",
    "    '''\n",
    "    #search Spotify API for general song info\n",
    "    info_json = sp.search(q='artist:' + artist + ' track:' + track)\n",
    "\n",
    "    #create dictionary with song info\n",
    "    info = {'track':info_json['tracks']['items'][0]['name'],\n",
    "            'artist':info_json['tracks']['items'][0]['album']['artists'][0]['name'],\n",
    "            'track_id':info_json['tracks']['items'][0]['id'],\n",
    "            'release_date':info_json['tracks']['items'][0]['album']['release_date']}\n",
    "            \n",
    "    #add audio features to dictionary\n",
    "    audio_info = sp.audio_features(info['track_id'])[0]\n",
    "    info['dance'] = audio_info['danceability']\n",
    "    info['energy'] = audio_info['energy']\n",
    "    info['loud'] = audio_info['loudness']\n",
    "    info['speech'] = audio_info['speechiness']\n",
    "    info['acoust'] = audio_info['acousticness']\n",
    "    info['live'] = audio_info['liveness']\n",
    "    info['valence'] = audio_info['valence']\n",
    "    info['tempo'] = audio_info['tempo']\n",
    "    \n",
    "    return info"
   ]
  },
  {
   "cell_type": "code",
   "execution_count": 6,
   "metadata": {},
   "outputs": [],
   "source": [
    "def get_sim_songs(id_list):\n",
    "    '''\n",
    "    function returns list of tup (track, artist) of songs similar to seed tracks\n",
    "    parameters:\n",
    "        id_list-->list of song ids (str) for seed tracks\n",
    "    '''\n",
    "    #find similar songs (using Spotify's bart algorithm)\n",
    "    song_recs = sp.recommendations(limit=100,seed_tracks=[i for i in id_list])['tracks']\n",
    "    \n",
    "    #create list of tup (track,artist)\n",
    "    sim_songs = [(s['name'],s['artists'][0]['name']) for s in song_recs]\n",
    "    \n",
    "    return sim_songs"
   ]
  },
  {
   "cell_type": "code",
   "execution_count": 7,
   "metadata": {},
   "outputs": [],
   "source": [
    "def get_df(track_list):\n",
    "    '''\n",
    "    function returns dataframe with audio features for available songs\n",
    "    parameters:\n",
    "        track_list-->list of tup (track, artist) of songs\n",
    "    '''\n",
    "    d = []\n",
    "    for track, artist in track_list:\n",
    "        try:\n",
    "            d.append(get_track_info(track.lower().replace(\"'\",\"\"),\n",
    "                                    artist.lower().replace(\"'\",\"\")))\n",
    "        except:\n",
    "            print(track + ' by ' + artist + ' is not available')\n",
    "            \n",
    "    return pd.DataFrame(data=d)"
   ]
  },
  {
   "cell_type": "code",
   "execution_count": 23,
   "metadata": {},
   "outputs": [],
   "source": [
    "def rank_by_features(df_seed,df_rec):\n",
    "    '''\n",
    "    function returns df_rec sorted by similarity to seed tracks\n",
    "    parameters:\n",
    "        df_seed-->dataframe with seed tracks\n",
    "        df_rec-->dataframe with songs recommended by Spotify API\n",
    "    '''\n",
    "    #calculate average values in seed tracks\n",
    "    row_df = pd.DataFrame(data=[df_seed.mean(axis=0)],index=['seed_avg'])\n",
    "    \n",
    "    #calculate Euclidean distance with seed averages\n",
    "    df_rec['sim_score'] = 1-pairwise_distances(df_rec.drop(columns=['track','track_id','artist','release_date']),\n",
    "                                               row_df.to_numpy()[0,None],\n",
    "                                               metric='euclidean')\n",
    "   \n",
    "    #sort dataframe by similarity to seed averages\n",
    "    return df_rec.sort_values(by='sim_score',ascending=False)"
   ]
  },
  {
   "cell_type": "markdown",
   "metadata": {},
   "source": [
    "### Information on Seed Tracks\n",
    "\n",
    "The lists below contain the top five tracks for each of country, R&B/hip-hop, and rock/alternative as of the week of May 15, 2021, based on Billboard Top 100 charts."
   ]
  },
  {
   "cell_type": "code",
   "execution_count": 8,
   "metadata": {},
   "outputs": [],
   "source": [
    "#country seed tracks\n",
    "cty_songs = [('Forever After All','Luke Combs'),\n",
    "             ('The Good Ones','Gabby Barrett'),\n",
    "             ('Made for You','Jake Owen'),\n",
    "             ('Hell of a View','Eric Church'),\n",
    "             ('Breaking Up Was Easy in the 90s','Sam Hunt')]\n",
    "\n",
    "#create dataframe with track information\n",
    "df_cty = get_df(cty_songs)"
   ]
  },
  {
   "cell_type": "code",
   "execution_count": 9,
   "metadata": {},
   "outputs": [],
   "source": [
    "#R&B/hip-hop seed tracks\n",
    "rb_songs = [('Leave the Door Open','Bruno Mars'),\n",
    "            ('Peaches (feat. Daniel Caesar & Giveon)','Justin Bieber'),\n",
    "            ('Rapstar','Polo G'),\n",
    "            ('Astronaut in the Ocean','Masked Wolf'),\n",
    "            ('Up','Cardi B')]\n",
    "\n",
    "#create dataframe with track information\n",
    "df_rb = get_df(rb_songs)"
   ]
  },
  {
   "cell_type": "code",
   "execution_count": 10,
   "metadata": {},
   "outputs": [],
   "source": [
    "#rock/alternative seed tracks\n",
    "rock_songs = [('Without You','The Kid LAROI'),\n",
    "              ('Your Power','Billie Eilish'),\n",
    "              (\"My Ex's Best Friend\",'Machine Gun Kelly'),\n",
    "              ('Mood','24kGoldn'),\n",
    "              ('Therefore I Am','Billie Eilish')]\n",
    "\n",
    "#create dataframe with track information\n",
    "df_rock = get_df(rock_songs)"
   ]
  },
  {
   "cell_type": "markdown",
   "metadata": {},
   "source": [
    "### Song Recommendations\n",
    "\n",
    "Use get_sim_songs function to find song recommendations for respective genres and create dataframes with song information for recommended songs."
   ]
  },
  {
   "cell_type": "code",
   "execution_count": 11,
   "metadata": {},
   "outputs": [],
   "source": [
    "#country\n",
    "sim_cty = get_sim_songs(df_cty['track_id'])\n",
    "df_sim_cty = get_df(sim_cty)"
   ]
  },
  {
   "cell_type": "code",
   "execution_count": 12,
   "metadata": {},
   "outputs": [
    {
     "name": "stdout",
     "output_type": "stream",
     "text": [
      "Often by Sickick is not available\n"
     ]
    }
   ],
   "source": [
    "#R&B/hip-hop\n",
    "sim_rb = get_sim_songs(df_rb['track_id'])\n",
    "df_sim_rb = get_df(sim_rb)"
   ]
  },
  {
   "cell_type": "code",
   "execution_count": 13,
   "metadata": {},
   "outputs": [
    {
     "name": "stdout",
     "output_type": "stream",
     "text": [
      "Intro by Kenndog is not available\n"
     ]
    }
   ],
   "source": [
    "#rock/alternative\n",
    "sim_rock = get_sim_songs(df_rock['track_id'])\n",
    "df_sim_rock = get_df(sim_rock)"
   ]
  },
  {
   "cell_type": "markdown",
   "metadata": {},
   "source": [
    "### Song Similarity with Euclidean Distance"
   ]
  },
  {
   "cell_type": "code",
   "execution_count": 24,
   "metadata": {},
   "outputs": [
    {
     "ename": "ValueError",
     "evalue": "Incompatible dimension for X and Y matrices: X.shape[1] == 9 while Y.shape[1] == 8",
     "output_type": "error",
     "traceback": [
      "\u001b[0;31m---------------------------------------------------------------------------\u001b[0m",
      "\u001b[0;31mValueError\u001b[0m                                Traceback (most recent call last)",
      "\u001b[0;32m<ipython-input-24-43df4d6343c7>\u001b[0m in \u001b[0;36m<module>\u001b[0;34m\u001b[0m\n\u001b[0;32m----> 1\u001b[0;31m \u001b[0md\u001b[0m \u001b[0;34m=\u001b[0m \u001b[0mrank_by_features\u001b[0m\u001b[0;34m(\u001b[0m\u001b[0mdf_cty\u001b[0m\u001b[0;34m,\u001b[0m\u001b[0mdf_sim_cty\u001b[0m\u001b[0;34m)\u001b[0m\u001b[0;34m\u001b[0m\u001b[0;34m\u001b[0m\u001b[0m\n\u001b[0m",
      "\u001b[0;32m<ipython-input-23-9ca9401c2bb0>\u001b[0m in \u001b[0;36mrank_by_features\u001b[0;34m(df_seed, df_rec)\u001b[0m\n\u001b[1;32m     10\u001b[0m \u001b[0;34m\u001b[0m\u001b[0m\n\u001b[1;32m     11\u001b[0m     \u001b[0;31m#calculate Euclidean distance with seed averages\u001b[0m\u001b[0;34m\u001b[0m\u001b[0;34m\u001b[0m\u001b[0;34m\u001b[0m\u001b[0m\n\u001b[0;32m---> 12\u001b[0;31m     df_rec['sim_score'] = 1-pairwise_distances(df_rec.drop(columns=['track','track_id','artist','release_date']),\n\u001b[0m\u001b[1;32m     13\u001b[0m                                                row_df.to_numpy()[0,None],metric='euclidean')\n\u001b[1;32m     14\u001b[0m \u001b[0;34m\u001b[0m\u001b[0m\n",
      "\u001b[0;32m~/opt/anaconda3/lib/python3.8/site-packages/sklearn/utils/validation.py\u001b[0m in \u001b[0;36minner_f\u001b[0;34m(*args, **kwargs)\u001b[0m\n\u001b[1;32m     70\u001b[0m                           FutureWarning)\n\u001b[1;32m     71\u001b[0m         \u001b[0mkwargs\u001b[0m\u001b[0;34m.\u001b[0m\u001b[0mupdate\u001b[0m\u001b[0;34m(\u001b[0m\u001b[0;34m{\u001b[0m\u001b[0mk\u001b[0m\u001b[0;34m:\u001b[0m \u001b[0marg\u001b[0m \u001b[0;32mfor\u001b[0m \u001b[0mk\u001b[0m\u001b[0;34m,\u001b[0m \u001b[0marg\u001b[0m \u001b[0;32min\u001b[0m \u001b[0mzip\u001b[0m\u001b[0;34m(\u001b[0m\u001b[0msig\u001b[0m\u001b[0;34m.\u001b[0m\u001b[0mparameters\u001b[0m\u001b[0;34m,\u001b[0m \u001b[0margs\u001b[0m\u001b[0;34m)\u001b[0m\u001b[0;34m}\u001b[0m\u001b[0;34m)\u001b[0m\u001b[0;34m\u001b[0m\u001b[0;34m\u001b[0m\u001b[0m\n\u001b[0;32m---> 72\u001b[0;31m         \u001b[0;32mreturn\u001b[0m \u001b[0mf\u001b[0m\u001b[0;34m(\u001b[0m\u001b[0;34m**\u001b[0m\u001b[0mkwargs\u001b[0m\u001b[0;34m)\u001b[0m\u001b[0;34m\u001b[0m\u001b[0;34m\u001b[0m\u001b[0m\n\u001b[0m\u001b[1;32m     73\u001b[0m     \u001b[0;32mreturn\u001b[0m \u001b[0minner_f\u001b[0m\u001b[0;34m\u001b[0m\u001b[0;34m\u001b[0m\u001b[0m\n\u001b[1;32m     74\u001b[0m \u001b[0;34m\u001b[0m\u001b[0m\n",
      "\u001b[0;32m~/opt/anaconda3/lib/python3.8/site-packages/sklearn/metrics/pairwise.py\u001b[0m in \u001b[0;36mpairwise_distances\u001b[0;34m(X, Y, metric, n_jobs, force_all_finite, **kwds)\u001b[0m\n\u001b[1;32m   1777\u001b[0m         \u001b[0mfunc\u001b[0m \u001b[0;34m=\u001b[0m \u001b[0mpartial\u001b[0m\u001b[0;34m(\u001b[0m\u001b[0mdistance\u001b[0m\u001b[0;34m.\u001b[0m\u001b[0mcdist\u001b[0m\u001b[0;34m,\u001b[0m \u001b[0mmetric\u001b[0m\u001b[0;34m=\u001b[0m\u001b[0mmetric\u001b[0m\u001b[0;34m,\u001b[0m \u001b[0;34m**\u001b[0m\u001b[0mkwds\u001b[0m\u001b[0;34m)\u001b[0m\u001b[0;34m\u001b[0m\u001b[0;34m\u001b[0m\u001b[0m\n\u001b[1;32m   1778\u001b[0m \u001b[0;34m\u001b[0m\u001b[0m\n\u001b[0;32m-> 1779\u001b[0;31m     \u001b[0;32mreturn\u001b[0m \u001b[0m_parallel_pairwise\u001b[0m\u001b[0;34m(\u001b[0m\u001b[0mX\u001b[0m\u001b[0;34m,\u001b[0m \u001b[0mY\u001b[0m\u001b[0;34m,\u001b[0m \u001b[0mfunc\u001b[0m\u001b[0;34m,\u001b[0m \u001b[0mn_jobs\u001b[0m\u001b[0;34m,\u001b[0m \u001b[0;34m**\u001b[0m\u001b[0mkwds\u001b[0m\u001b[0;34m)\u001b[0m\u001b[0;34m\u001b[0m\u001b[0;34m\u001b[0m\u001b[0m\n\u001b[0m\u001b[1;32m   1780\u001b[0m \u001b[0;34m\u001b[0m\u001b[0m\n\u001b[1;32m   1781\u001b[0m \u001b[0;34m\u001b[0m\u001b[0m\n",
      "\u001b[0;32m~/opt/anaconda3/lib/python3.8/site-packages/sklearn/metrics/pairwise.py\u001b[0m in \u001b[0;36m_parallel_pairwise\u001b[0;34m(X, Y, func, n_jobs, **kwds)\u001b[0m\n\u001b[1;32m   1358\u001b[0m \u001b[0;34m\u001b[0m\u001b[0m\n\u001b[1;32m   1359\u001b[0m     \u001b[0;32mif\u001b[0m \u001b[0meffective_n_jobs\u001b[0m\u001b[0;34m(\u001b[0m\u001b[0mn_jobs\u001b[0m\u001b[0;34m)\u001b[0m \u001b[0;34m==\u001b[0m \u001b[0;36m1\u001b[0m\u001b[0;34m:\u001b[0m\u001b[0;34m\u001b[0m\u001b[0;34m\u001b[0m\u001b[0m\n\u001b[0;32m-> 1360\u001b[0;31m         \u001b[0;32mreturn\u001b[0m \u001b[0mfunc\u001b[0m\u001b[0;34m(\u001b[0m\u001b[0mX\u001b[0m\u001b[0;34m,\u001b[0m \u001b[0mY\u001b[0m\u001b[0;34m,\u001b[0m \u001b[0;34m**\u001b[0m\u001b[0mkwds\u001b[0m\u001b[0;34m)\u001b[0m\u001b[0;34m\u001b[0m\u001b[0;34m\u001b[0m\u001b[0m\n\u001b[0m\u001b[1;32m   1361\u001b[0m \u001b[0;34m\u001b[0m\u001b[0m\n\u001b[1;32m   1362\u001b[0m     \u001b[0;31m# enforce a threading backend to prevent data communication overhead\u001b[0m\u001b[0;34m\u001b[0m\u001b[0;34m\u001b[0m\u001b[0;34m\u001b[0m\u001b[0m\n",
      "\u001b[0;32m~/opt/anaconda3/lib/python3.8/site-packages/sklearn/utils/validation.py\u001b[0m in \u001b[0;36minner_f\u001b[0;34m(*args, **kwargs)\u001b[0m\n\u001b[1;32m     70\u001b[0m                           FutureWarning)\n\u001b[1;32m     71\u001b[0m         \u001b[0mkwargs\u001b[0m\u001b[0;34m.\u001b[0m\u001b[0mupdate\u001b[0m\u001b[0;34m(\u001b[0m\u001b[0;34m{\u001b[0m\u001b[0mk\u001b[0m\u001b[0;34m:\u001b[0m \u001b[0marg\u001b[0m \u001b[0;32mfor\u001b[0m \u001b[0mk\u001b[0m\u001b[0;34m,\u001b[0m \u001b[0marg\u001b[0m \u001b[0;32min\u001b[0m \u001b[0mzip\u001b[0m\u001b[0;34m(\u001b[0m\u001b[0msig\u001b[0m\u001b[0;34m.\u001b[0m\u001b[0mparameters\u001b[0m\u001b[0;34m,\u001b[0m \u001b[0margs\u001b[0m\u001b[0;34m)\u001b[0m\u001b[0;34m}\u001b[0m\u001b[0;34m)\u001b[0m\u001b[0;34m\u001b[0m\u001b[0;34m\u001b[0m\u001b[0m\n\u001b[0;32m---> 72\u001b[0;31m         \u001b[0;32mreturn\u001b[0m \u001b[0mf\u001b[0m\u001b[0;34m(\u001b[0m\u001b[0;34m**\u001b[0m\u001b[0mkwargs\u001b[0m\u001b[0;34m)\u001b[0m\u001b[0;34m\u001b[0m\u001b[0;34m\u001b[0m\u001b[0m\n\u001b[0m\u001b[1;32m     73\u001b[0m     \u001b[0;32mreturn\u001b[0m \u001b[0minner_f\u001b[0m\u001b[0;34m\u001b[0m\u001b[0;34m\u001b[0m\u001b[0m\n\u001b[1;32m     74\u001b[0m \u001b[0;34m\u001b[0m\u001b[0m\n",
      "\u001b[0;32m~/opt/anaconda3/lib/python3.8/site-packages/sklearn/metrics/pairwise.py\u001b[0m in \u001b[0;36meuclidean_distances\u001b[0;34m(X, Y, Y_norm_squared, squared, X_norm_squared)\u001b[0m\n\u001b[1;32m    267\u001b[0m     \u001b[0mpaired_distances\u001b[0m \u001b[0;34m:\u001b[0m \u001b[0mdistances\u001b[0m \u001b[0mbetweens\u001b[0m \u001b[0mpairs\u001b[0m \u001b[0mof\u001b[0m \u001b[0melements\u001b[0m \u001b[0mof\u001b[0m \u001b[0mX\u001b[0m \u001b[0;32mand\u001b[0m \u001b[0mY\u001b[0m\u001b[0;34m.\u001b[0m\u001b[0;34m\u001b[0m\u001b[0;34m\u001b[0m\u001b[0m\n\u001b[1;32m    268\u001b[0m     \"\"\"\n\u001b[0;32m--> 269\u001b[0;31m     \u001b[0mX\u001b[0m\u001b[0;34m,\u001b[0m \u001b[0mY\u001b[0m \u001b[0;34m=\u001b[0m \u001b[0mcheck_pairwise_arrays\u001b[0m\u001b[0;34m(\u001b[0m\u001b[0mX\u001b[0m\u001b[0;34m,\u001b[0m \u001b[0mY\u001b[0m\u001b[0;34m)\u001b[0m\u001b[0;34m\u001b[0m\u001b[0;34m\u001b[0m\u001b[0m\n\u001b[0m\u001b[1;32m    270\u001b[0m \u001b[0;34m\u001b[0m\u001b[0m\n\u001b[1;32m    271\u001b[0m     \u001b[0;31m# If norms are passed as float32, they are unused. If arrays are passed as\u001b[0m\u001b[0;34m\u001b[0m\u001b[0;34m\u001b[0m\u001b[0;34m\u001b[0m\u001b[0m\n",
      "\u001b[0;32m~/opt/anaconda3/lib/python3.8/site-packages/sklearn/utils/validation.py\u001b[0m in \u001b[0;36minner_f\u001b[0;34m(*args, **kwargs)\u001b[0m\n\u001b[1;32m     70\u001b[0m                           FutureWarning)\n\u001b[1;32m     71\u001b[0m         \u001b[0mkwargs\u001b[0m\u001b[0;34m.\u001b[0m\u001b[0mupdate\u001b[0m\u001b[0;34m(\u001b[0m\u001b[0;34m{\u001b[0m\u001b[0mk\u001b[0m\u001b[0;34m:\u001b[0m \u001b[0marg\u001b[0m \u001b[0;32mfor\u001b[0m \u001b[0mk\u001b[0m\u001b[0;34m,\u001b[0m \u001b[0marg\u001b[0m \u001b[0;32min\u001b[0m \u001b[0mzip\u001b[0m\u001b[0;34m(\u001b[0m\u001b[0msig\u001b[0m\u001b[0;34m.\u001b[0m\u001b[0mparameters\u001b[0m\u001b[0;34m,\u001b[0m \u001b[0margs\u001b[0m\u001b[0;34m)\u001b[0m\u001b[0;34m}\u001b[0m\u001b[0;34m)\u001b[0m\u001b[0;34m\u001b[0m\u001b[0;34m\u001b[0m\u001b[0m\n\u001b[0;32m---> 72\u001b[0;31m         \u001b[0;32mreturn\u001b[0m \u001b[0mf\u001b[0m\u001b[0;34m(\u001b[0m\u001b[0;34m**\u001b[0m\u001b[0mkwargs\u001b[0m\u001b[0;34m)\u001b[0m\u001b[0;34m\u001b[0m\u001b[0;34m\u001b[0m\u001b[0m\n\u001b[0m\u001b[1;32m     73\u001b[0m     \u001b[0;32mreturn\u001b[0m \u001b[0minner_f\u001b[0m\u001b[0;34m\u001b[0m\u001b[0;34m\u001b[0m\u001b[0m\n\u001b[1;32m     74\u001b[0m \u001b[0;34m\u001b[0m\u001b[0m\n",
      "\u001b[0;32m~/opt/anaconda3/lib/python3.8/site-packages/sklearn/metrics/pairwise.py\u001b[0m in \u001b[0;36mcheck_pairwise_arrays\u001b[0;34m(X, Y, precomputed, dtype, accept_sparse, force_all_finite, copy)\u001b[0m\n\u001b[1;32m    157\u001b[0m                              (X.shape[0], X.shape[1], Y.shape[0]))\n\u001b[1;32m    158\u001b[0m     \u001b[0;32melif\u001b[0m \u001b[0mX\u001b[0m\u001b[0;34m.\u001b[0m\u001b[0mshape\u001b[0m\u001b[0;34m[\u001b[0m\u001b[0;36m1\u001b[0m\u001b[0;34m]\u001b[0m \u001b[0;34m!=\u001b[0m \u001b[0mY\u001b[0m\u001b[0;34m.\u001b[0m\u001b[0mshape\u001b[0m\u001b[0;34m[\u001b[0m\u001b[0;36m1\u001b[0m\u001b[0;34m]\u001b[0m\u001b[0;34m:\u001b[0m\u001b[0;34m\u001b[0m\u001b[0;34m\u001b[0m\u001b[0m\n\u001b[0;32m--> 159\u001b[0;31m         raise ValueError(\"Incompatible dimension for X and Y matrices: \"\n\u001b[0m\u001b[1;32m    160\u001b[0m                          \"X.shape[1] == %d while Y.shape[1] == %d\" % (\n\u001b[1;32m    161\u001b[0m                              X.shape[1], Y.shape[1]))\n",
      "\u001b[0;31mValueError\u001b[0m: Incompatible dimension for X and Y matrices: X.shape[1] == 9 while Y.shape[1] == 8"
     ]
    }
   ],
   "source": [
    "d = rank_by_features(df_cty,df_sim_cty)"
   ]
  },
  {
   "cell_type": "code",
   "execution_count": 22,
   "metadata": {},
   "outputs": [
    {
     "data": {
      "text/html": [
       "<div>\n",
       "<style scoped>\n",
       "    .dataframe tbody tr th:only-of-type {\n",
       "        vertical-align: middle;\n",
       "    }\n",
       "\n",
       "    .dataframe tbody tr th {\n",
       "        vertical-align: top;\n",
       "    }\n",
       "\n",
       "    .dataframe thead th {\n",
       "        text-align: right;\n",
       "    }\n",
       "</style>\n",
       "<table border=\"1\" class=\"dataframe\">\n",
       "  <thead>\n",
       "    <tr style=\"text-align: right;\">\n",
       "      <th></th>\n",
       "      <th>track</th>\n",
       "      <th>artist</th>\n",
       "      <th>track_id</th>\n",
       "      <th>release_date</th>\n",
       "      <th>dance</th>\n",
       "      <th>energy</th>\n",
       "      <th>loud</th>\n",
       "      <th>speech</th>\n",
       "      <th>acoust</th>\n",
       "      <th>live</th>\n",
       "      <th>valence</th>\n",
       "      <th>tempo</th>\n",
       "      <th>sim_score</th>\n",
       "    </tr>\n",
       "  </thead>\n",
       "  <tbody>\n",
       "    <tr>\n",
       "      <th>0</th>\n",
       "      <td>God Gave Me You</td>\n",
       "      <td>Blake Shelton</td>\n",
       "      <td>0w9LJae3sVlZlH2CnxTInF</td>\n",
       "      <td>2011-07-11</td>\n",
       "      <td>0.483</td>\n",
       "      <td>0.844</td>\n",
       "      <td>-5.043</td>\n",
       "      <td>0.0314</td>\n",
       "      <td>0.00481</td>\n",
       "      <td>0.4050</td>\n",
       "      <td>0.543</td>\n",
       "      <td>151.977</td>\n",
       "      <td>-37.192441</td>\n",
       "    </tr>\n",
       "    <tr>\n",
       "      <th>1</th>\n",
       "      <td>Details</td>\n",
       "      <td>Billy Currington</td>\n",
       "      <td>4MCPNnJkkIzNGCCBE9XVhX</td>\n",
       "      <td>2019-07-19</td>\n",
       "      <td>0.678</td>\n",
       "      <td>0.714</td>\n",
       "      <td>-4.030</td>\n",
       "      <td>0.1110</td>\n",
       "      <td>0.01640</td>\n",
       "      <td>0.2980</td>\n",
       "      <td>0.868</td>\n",
       "      <td>139.991</td>\n",
       "      <td>-25.263325</td>\n",
       "    </tr>\n",
       "    <tr>\n",
       "      <th>2</th>\n",
       "      <td>Canadian Summer</td>\n",
       "      <td>Dean Brody</td>\n",
       "      <td>27Iw98HmmdY56bFQBxZW50</td>\n",
       "      <td>2020-11-18</td>\n",
       "      <td>0.516</td>\n",
       "      <td>0.893</td>\n",
       "      <td>-2.957</td>\n",
       "      <td>0.0451</td>\n",
       "      <td>0.05740</td>\n",
       "      <td>0.1200</td>\n",
       "      <td>0.744</td>\n",
       "      <td>122.005</td>\n",
       "      <td>-7.715697</td>\n",
       "    </tr>\n",
       "    <tr>\n",
       "      <th>3</th>\n",
       "      <td>My Side of the Fence</td>\n",
       "      <td>Dan + Shay</td>\n",
       "      <td>3fHgqkRp331r3W0WtUGBGr</td>\n",
       "      <td>2018-06-22</td>\n",
       "      <td>0.502</td>\n",
       "      <td>0.575</td>\n",
       "      <td>-5.585</td>\n",
       "      <td>0.0268</td>\n",
       "      <td>0.38400</td>\n",
       "      <td>0.2330</td>\n",
       "      <td>0.246</td>\n",
       "      <td>147.893</td>\n",
       "      <td>-33.099022</td>\n",
       "    </tr>\n",
       "    <tr>\n",
       "      <th>4</th>\n",
       "      <td>Record Year</td>\n",
       "      <td>Eric Church</td>\n",
       "      <td>5fSPbm5lcwtqwXkeQQswW8</td>\n",
       "      <td>2015-11-11</td>\n",
       "      <td>0.589</td>\n",
       "      <td>0.641</td>\n",
       "      <td>-8.120</td>\n",
       "      <td>0.0838</td>\n",
       "      <td>0.20500</td>\n",
       "      <td>0.0864</td>\n",
       "      <td>0.570</td>\n",
       "      <td>160.031</td>\n",
       "      <td>-45.291265</td>\n",
       "    </tr>\n",
       "    <tr>\n",
       "      <th>...</th>\n",
       "      <td>...</td>\n",
       "      <td>...</td>\n",
       "      <td>...</td>\n",
       "      <td>...</td>\n",
       "      <td>...</td>\n",
       "      <td>...</td>\n",
       "      <td>...</td>\n",
       "      <td>...</td>\n",
       "      <td>...</td>\n",
       "      <td>...</td>\n",
       "      <td>...</td>\n",
       "      <td>...</td>\n",
       "      <td>...</td>\n",
       "    </tr>\n",
       "    <tr>\n",
       "      <th>95</th>\n",
       "      <td>Big Gangsta</td>\n",
       "      <td>Kevin Gates</td>\n",
       "      <td>2HYvkdq6lpFXkVz9Tfqi8r</td>\n",
       "      <td>2019-05-31</td>\n",
       "      <td>0.879</td>\n",
       "      <td>0.574</td>\n",
       "      <td>-5.602</td>\n",
       "      <td>0.3910</td>\n",
       "      <td>0.51900</td>\n",
       "      <td>0.1440</td>\n",
       "      <td>0.346</td>\n",
       "      <td>144.911</td>\n",
       "      <td>-30.120660</td>\n",
       "    </tr>\n",
       "    <tr>\n",
       "      <th>96</th>\n",
       "      <td>Never Break Heart</td>\n",
       "      <td>Eric Church</td>\n",
       "      <td>3vmFm0a4LNxzX0PYGLaxh4</td>\n",
       "      <td>2021-04-16</td>\n",
       "      <td>0.535</td>\n",
       "      <td>0.505</td>\n",
       "      <td>-7.585</td>\n",
       "      <td>0.0296</td>\n",
       "      <td>0.27300</td>\n",
       "      <td>0.1070</td>\n",
       "      <td>0.332</td>\n",
       "      <td>148.069</td>\n",
       "      <td>-33.317580</td>\n",
       "    </tr>\n",
       "    <tr>\n",
       "      <th>97</th>\n",
       "      <td>Forever After All</td>\n",
       "      <td>Luke Combs</td>\n",
       "      <td>6IBcOGPsniK3Pso1wHIhew</td>\n",
       "      <td>2020-10-23</td>\n",
       "      <td>0.487</td>\n",
       "      <td>0.650</td>\n",
       "      <td>-5.195</td>\n",
       "      <td>0.0253</td>\n",
       "      <td>0.19100</td>\n",
       "      <td>0.0933</td>\n",
       "      <td>0.456</td>\n",
       "      <td>151.964</td>\n",
       "      <td>-37.173907</td>\n",
       "    </tr>\n",
       "    <tr>\n",
       "      <th>98</th>\n",
       "      <td>Forever Like That</td>\n",
       "      <td>Ben Rector</td>\n",
       "      <td>7wF4asYZw8cAHEljYd2Wid</td>\n",
       "      <td>2013-08-20</td>\n",
       "      <td>0.592</td>\n",
       "      <td>0.304</td>\n",
       "      <td>-9.833</td>\n",
       "      <td>0.0298</td>\n",
       "      <td>0.56400</td>\n",
       "      <td>0.1070</td>\n",
       "      <td>0.307</td>\n",
       "      <td>114.720</td>\n",
       "      <td>-3.115091</td>\n",
       "    </tr>\n",
       "    <tr>\n",
       "      <th>99</th>\n",
       "      <td>Ain't Always The Cowboy</td>\n",
       "      <td>Jon Pardi</td>\n",
       "      <td>77XoAnllT85lmR9WP0D8dS</td>\n",
       "      <td>2019-09-27</td>\n",
       "      <td>0.539</td>\n",
       "      <td>0.837</td>\n",
       "      <td>-3.458</td>\n",
       "      <td>0.0385</td>\n",
       "      <td>0.00940</td>\n",
       "      <td>0.2620</td>\n",
       "      <td>0.551</td>\n",
       "      <td>151.913</td>\n",
       "      <td>-37.193882</td>\n",
       "    </tr>\n",
       "  </tbody>\n",
       "</table>\n",
       "<p>100 rows × 13 columns</p>\n",
       "</div>"
      ],
      "text/plain": [
       "                      track            artist                track_id  \\\n",
       "0           God Gave Me You     Blake Shelton  0w9LJae3sVlZlH2CnxTInF   \n",
       "1                   Details  Billy Currington  4MCPNnJkkIzNGCCBE9XVhX   \n",
       "2           Canadian Summer        Dean Brody  27Iw98HmmdY56bFQBxZW50   \n",
       "3      My Side of the Fence        Dan + Shay  3fHgqkRp331r3W0WtUGBGr   \n",
       "4               Record Year       Eric Church  5fSPbm5lcwtqwXkeQQswW8   \n",
       "..                      ...               ...                     ...   \n",
       "95              Big Gangsta       Kevin Gates  2HYvkdq6lpFXkVz9Tfqi8r   \n",
       "96        Never Break Heart       Eric Church  3vmFm0a4LNxzX0PYGLaxh4   \n",
       "97        Forever After All        Luke Combs  6IBcOGPsniK3Pso1wHIhew   \n",
       "98        Forever Like That        Ben Rector  7wF4asYZw8cAHEljYd2Wid   \n",
       "99  Ain't Always The Cowboy         Jon Pardi  77XoAnllT85lmR9WP0D8dS   \n",
       "\n",
       "   release_date  dance  energy   loud  speech   acoust    live  valence  \\\n",
       "0    2011-07-11  0.483   0.844 -5.043  0.0314  0.00481  0.4050    0.543   \n",
       "1    2019-07-19  0.678   0.714 -4.030  0.1110  0.01640  0.2980    0.868   \n",
       "2    2020-11-18  0.516   0.893 -2.957  0.0451  0.05740  0.1200    0.744   \n",
       "3    2018-06-22  0.502   0.575 -5.585  0.0268  0.38400  0.2330    0.246   \n",
       "4    2015-11-11  0.589   0.641 -8.120  0.0838  0.20500  0.0864    0.570   \n",
       "..          ...    ...     ...    ...     ...      ...     ...      ...   \n",
       "95   2019-05-31  0.879   0.574 -5.602  0.3910  0.51900  0.1440    0.346   \n",
       "96   2021-04-16  0.535   0.505 -7.585  0.0296  0.27300  0.1070    0.332   \n",
       "97   2020-10-23  0.487   0.650 -5.195  0.0253  0.19100  0.0933    0.456   \n",
       "98   2013-08-20  0.592   0.304 -9.833  0.0298  0.56400  0.1070    0.307   \n",
       "99   2019-09-27  0.539   0.837 -3.458  0.0385  0.00940  0.2620    0.551   \n",
       "\n",
       "      tempo  sim_score  \n",
       "0   151.977 -37.192441  \n",
       "1   139.991 -25.263325  \n",
       "2   122.005  -7.715697  \n",
       "3   147.893 -33.099022  \n",
       "4   160.031 -45.291265  \n",
       "..      ...        ...  \n",
       "95  144.911 -30.120660  \n",
       "96  148.069 -33.317580  \n",
       "97  151.964 -37.173907  \n",
       "98  114.720  -3.115091  \n",
       "99  151.913 -37.193882  \n",
       "\n",
       "[100 rows x 13 columns]"
      ]
     },
     "execution_count": 22,
     "metadata": {},
     "output_type": "execute_result"
    }
   ],
   "source": [
    "d"
   ]
  },
  {
   "cell_type": "code",
   "execution_count": null,
   "metadata": {},
   "outputs": [],
   "source": []
  },
  {
   "cell_type": "code",
   "execution_count": 53,
   "metadata": {},
   "outputs": [
    {
     "data": {
      "text/html": [
       "<div>\n",
       "<style scoped>\n",
       "    .dataframe tbody tr th:only-of-type {\n",
       "        vertical-align: middle;\n",
       "    }\n",
       "\n",
       "    .dataframe tbody tr th {\n",
       "        vertical-align: top;\n",
       "    }\n",
       "\n",
       "    .dataframe thead th {\n",
       "        text-align: right;\n",
       "    }\n",
       "</style>\n",
       "<table border=\"1\" class=\"dataframe\">\n",
       "  <thead>\n",
       "    <tr style=\"text-align: right;\">\n",
       "      <th></th>\n",
       "      <th>dance</th>\n",
       "      <th>energy</th>\n",
       "      <th>loud</th>\n",
       "      <th>speech</th>\n",
       "      <th>acoust</th>\n",
       "      <th>live</th>\n",
       "      <th>valence</th>\n",
       "      <th>tempo</th>\n",
       "    </tr>\n",
       "    <tr>\n",
       "      <th>track</th>\n",
       "      <th></th>\n",
       "      <th></th>\n",
       "      <th></th>\n",
       "      <th></th>\n",
       "      <th></th>\n",
       "      <th></th>\n",
       "      <th></th>\n",
       "      <th></th>\n",
       "    </tr>\n",
       "  </thead>\n",
       "  <tbody>\n",
       "    <tr>\n",
       "      <th>Forever After All</th>\n",
       "      <td>0.487</td>\n",
       "      <td>0.650</td>\n",
       "      <td>-5.195</td>\n",
       "      <td>0.0253</td>\n",
       "      <td>0.191</td>\n",
       "      <td>0.0933</td>\n",
       "      <td>0.456</td>\n",
       "      <td>151.964</td>\n",
       "    </tr>\n",
       "    <tr>\n",
       "      <th>The Good Ones</th>\n",
       "      <td>0.519</td>\n",
       "      <td>0.552</td>\n",
       "      <td>-5.023</td>\n",
       "      <td>0.0259</td>\n",
       "      <td>0.180</td>\n",
       "      <td>0.1490</td>\n",
       "      <td>0.331</td>\n",
       "      <td>89.957</td>\n",
       "    </tr>\n",
       "    <tr>\n",
       "      <th>Made For You</th>\n",
       "      <td>0.581</td>\n",
       "      <td>0.441</td>\n",
       "      <td>-6.829</td>\n",
       "      <td>0.0268</td>\n",
       "      <td>0.770</td>\n",
       "      <td>0.1110</td>\n",
       "      <td>0.337</td>\n",
       "      <td>82.125</td>\n",
       "    </tr>\n",
       "    <tr>\n",
       "      <th>Hell Of A View</th>\n",
       "      <td>0.689</td>\n",
       "      <td>0.582</td>\n",
       "      <td>-6.778</td>\n",
       "      <td>0.0236</td>\n",
       "      <td>0.119</td>\n",
       "      <td>0.1010</td>\n",
       "      <td>0.883</td>\n",
       "      <td>99.021</td>\n",
       "    </tr>\n",
       "    <tr>\n",
       "      <th>Breaking Up Was Easy In The 90's</th>\n",
       "      <td>0.562</td>\n",
       "      <td>0.649</td>\n",
       "      <td>-5.400</td>\n",
       "      <td>0.0494</td>\n",
       "      <td>0.231</td>\n",
       "      <td>0.3410</td>\n",
       "      <td>0.376</td>\n",
       "      <td>145.913</td>\n",
       "    </tr>\n",
       "  </tbody>\n",
       "</table>\n",
       "</div>"
      ],
      "text/plain": [
       "                                  dance  energy   loud  speech  acoust  \\\n",
       "track                                                                    \n",
       "Forever After All                 0.487   0.650 -5.195  0.0253   0.191   \n",
       "The Good Ones                     0.519   0.552 -5.023  0.0259   0.180   \n",
       "Made For You                      0.581   0.441 -6.829  0.0268   0.770   \n",
       "Hell Of A View                    0.689   0.582 -6.778  0.0236   0.119   \n",
       "Breaking Up Was Easy In The 90's  0.562   0.649 -5.400  0.0494   0.231   \n",
       "\n",
       "                                    live  valence    tempo  \n",
       "track                                                       \n",
       "Forever After All                 0.0933    0.456  151.964  \n",
       "The Good Ones                     0.1490    0.331   89.957  \n",
       "Made For You                      0.1110    0.337   82.125  \n",
       "Hell Of A View                    0.1010    0.883   99.021  \n",
       "Breaking Up Was Easy In The 90's  0.3410    0.376  145.913  "
      ]
     },
     "execution_count": 53,
     "metadata": {},
     "output_type": "execute_result"
    }
   ],
   "source": [
    "df_cty1 = df_cty.drop(columns=['track_id','artist','release_date']).set_index('track',drop=True)\n",
    "df_cty1"
   ]
  },
  {
   "cell_type": "code",
   "execution_count": 54,
   "metadata": {},
   "outputs": [],
   "source": [
    "dist_out = 1-pairwise_distances(df_cty1, metric=\"euclidean\")"
   ]
  },
  {
   "cell_type": "code",
   "execution_count": 55,
   "metadata": {},
   "outputs": [
    {
     "data": {
      "text/plain": [
       "array([[  1.        , -61.00747624, -68.86099134, -51.96886011,\n",
       "         -5.06070855],\n",
       "       [-61.00747624,   1.        ,  -7.0602485 ,  -8.25076512,\n",
       "        -54.95774625],\n",
       "       [-68.86099134,  -7.0602485 ,   1.        , -15.91836249,\n",
       "        -62.80705339],\n",
       "       [-51.96886011,  -8.25076512, -15.91836249,   1.        ,\n",
       "        -45.91595704],\n",
       "       [ -5.06070855, -54.95774625, -62.80705339, -45.91595704,\n",
       "          1.        ]])"
      ]
     },
     "execution_count": 55,
     "metadata": {},
     "output_type": "execute_result"
    }
   ],
   "source": [
    "dist_out"
   ]
  },
  {
   "cell_type": "code",
   "execution_count": 56,
   "metadata": {
    "scrolled": true
   },
   "outputs": [],
   "source": [
    "song_group = pd.DataFrame(dist_out).iloc[:, list(range(len(df_cty)))]"
   ]
  },
  {
   "cell_type": "code",
   "execution_count": 57,
   "metadata": {},
   "outputs": [],
   "source": [
    "song_group[\"sum\"] = song_group.sum(axis=1)"
   ]
  },
  {
   "cell_type": "code",
   "execution_count": 58,
   "metadata": {},
   "outputs": [
    {
     "data": {
      "text/html": [
       "<div>\n",
       "<style scoped>\n",
       "    .dataframe tbody tr th:only-of-type {\n",
       "        vertical-align: middle;\n",
       "    }\n",
       "\n",
       "    .dataframe tbody tr th {\n",
       "        vertical-align: top;\n",
       "    }\n",
       "\n",
       "    .dataframe thead th {\n",
       "        text-align: right;\n",
       "    }\n",
       "</style>\n",
       "<table border=\"1\" class=\"dataframe\">\n",
       "  <thead>\n",
       "    <tr style=\"text-align: right;\">\n",
       "      <th></th>\n",
       "      <th>0</th>\n",
       "      <th>1</th>\n",
       "      <th>2</th>\n",
       "      <th>3</th>\n",
       "      <th>4</th>\n",
       "      <th>sum</th>\n",
       "    </tr>\n",
       "  </thead>\n",
       "  <tbody>\n",
       "    <tr>\n",
       "      <th>0</th>\n",
       "      <td>1.000000</td>\n",
       "      <td>-61.007476</td>\n",
       "      <td>-68.860991</td>\n",
       "      <td>-51.968860</td>\n",
       "      <td>-5.060709</td>\n",
       "      <td>-185.898036</td>\n",
       "    </tr>\n",
       "    <tr>\n",
       "      <th>1</th>\n",
       "      <td>-61.007476</td>\n",
       "      <td>1.000000</td>\n",
       "      <td>-7.060248</td>\n",
       "      <td>-8.250765</td>\n",
       "      <td>-54.957746</td>\n",
       "      <td>-130.276236</td>\n",
       "    </tr>\n",
       "    <tr>\n",
       "      <th>2</th>\n",
       "      <td>-68.860991</td>\n",
       "      <td>-7.060248</td>\n",
       "      <td>1.000000</td>\n",
       "      <td>-15.918362</td>\n",
       "      <td>-62.807053</td>\n",
       "      <td>-153.646656</td>\n",
       "    </tr>\n",
       "    <tr>\n",
       "      <th>3</th>\n",
       "      <td>-51.968860</td>\n",
       "      <td>-8.250765</td>\n",
       "      <td>-15.918362</td>\n",
       "      <td>1.000000</td>\n",
       "      <td>-45.915957</td>\n",
       "      <td>-121.053945</td>\n",
       "    </tr>\n",
       "    <tr>\n",
       "      <th>4</th>\n",
       "      <td>-5.060709</td>\n",
       "      <td>-54.957746</td>\n",
       "      <td>-62.807053</td>\n",
       "      <td>-45.915957</td>\n",
       "      <td>1.000000</td>\n",
       "      <td>-167.741465</td>\n",
       "    </tr>\n",
       "  </tbody>\n",
       "</table>\n",
       "</div>"
      ],
      "text/plain": [
       "           0          1          2          3          4         sum\n",
       "0   1.000000 -61.007476 -68.860991 -51.968860  -5.060709 -185.898036\n",
       "1 -61.007476   1.000000  -7.060248  -8.250765 -54.957746 -130.276236\n",
       "2 -68.860991  -7.060248   1.000000 -15.918362 -62.807053 -153.646656\n",
       "3 -51.968860  -8.250765 -15.918362   1.000000 -45.915957 -121.053945\n",
       "4  -5.060709 -54.957746 -62.807053 -45.915957   1.000000 -167.741465"
      ]
     },
     "execution_count": 58,
     "metadata": {},
     "output_type": "execute_result"
    }
   ],
   "source": [
    "song_group"
   ]
  },
  {
   "cell_type": "code",
   "execution_count": 59,
   "metadata": {},
   "outputs": [],
   "source": [
    "top_sim_songs = list(song_group.sort_values('sum', ascending = False).index)\n"
   ]
  },
  {
   "cell_type": "code",
   "execution_count": 61,
   "metadata": {},
   "outputs": [],
   "source": [
    "top_sim_index = [i for i in top_sim_songs if i not in list(range(len(df_cty))) ]"
   ]
  },
  {
   "cell_type": "code",
   "execution_count": 63,
   "metadata": {},
   "outputs": [
    {
     "data": {
      "text/plain": [
       "[3, 1, 2, 4, 0]"
      ]
     },
     "execution_count": 63,
     "metadata": {},
     "output_type": "execute_result"
    }
   ],
   "source": [
    "top_sim_songs"
   ]
  },
  {
   "cell_type": "markdown",
   "metadata": {},
   "source": [
    "### Using ranked songs to find more songs similar to seed tracks"
   ]
  },
  {
   "cell_type": "code",
   "execution_count": null,
   "metadata": {},
   "outputs": [],
   "source": [
    "rank = 0\n",
    "while len(sim_songs) < 500:\n",
    "    x = sp.recommendations(limit = 100,seed_tracks = [sim_songs[top_sim_index[rank]][2]])['tracks']\n",
    "    for num in range(len(x)):\n",
    "        track_name = x[num]['name']\n",
    "        track_id = x[num]['id']\n",
    "        artist = x[num]['artists'][0]['name']\n",
    "        release_date = x[num]['album']['release_date']\n",
    "        if [track_name,artist, track_id, release_date] not in sim_songs:\n",
    "            sim_songs.append([track_name,artist, track_id, release_date])\n",
    "    rank +=1\n",
    "    print(rank, len(sim_songs))"
   ]
  },
  {
   "cell_type": "code",
   "execution_count": null,
   "metadata": {},
   "outputs": [],
   "source": [
    "songs_for_genius = pd.DataFrame(sim_songs)"
   ]
  },
  {
   "cell_type": "code",
   "execution_count": null,
   "metadata": {},
   "outputs": [],
   "source": [
    "songs_for_genius"
   ]
  },
  {
   "cell_type": "code",
   "execution_count": null,
   "metadata": {},
   "outputs": [],
   "source": []
  }
 ],
 "metadata": {
  "kernelspec": {
   "display_name": "Python 3",
   "language": "python",
   "name": "python3"
  },
  "language_info": {
   "codemirror_mode": {
    "name": "ipython",
    "version": 3
   },
   "file_extension": ".py",
   "mimetype": "text/x-python",
   "name": "python",
   "nbconvert_exporter": "python",
   "pygments_lexer": "ipython3",
   "version": "3.8.5"
  }
 },
 "nbformat": 4,
 "nbformat_minor": 4
}
