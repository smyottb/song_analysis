{
 "cells": [
  {
   "cell_type": "markdown",
   "metadata": {},
   "source": [
    "# Song Analysis Using Spotify API"
   ]
  },
  {
   "cell_type": "code",
   "execution_count": 1,
   "metadata": {},
   "outputs": [],
   "source": [
    "#import libraries\n",
    "import sys\n",
    "import spotipy\n",
    "import spotipy.util as util\n",
    "from spotipy.oauth2 import SpotifyClientCredentials\n",
    "import pandas as pd\n",
    "import numpy as np\n",
    "import time\n",
    "from bs4 import BeautifulSoup as bs\n",
    "from sklearn.metrics import pairwise_distances\n",
    "from scipy.spatial.distance import cosine"
   ]
  },
  {
   "cell_type": "code",
   "execution_count": 2,
   "metadata": {},
   "outputs": [],
   "source": [
    "#Spotify authorization scope\n",
    "scope = 'user-library-read'"
   ]
  },
  {
   "cell_type": "code",
   "execution_count": 4,
   "metadata": {},
   "outputs": [],
   "source": [
    "#Spotify API credentials\n",
    "%store -r spotify_cid\n",
    "cid = spotify_cid\n",
    "%store -r spotify_secret\n",
    "secret = spotify_secret"
   ]
  },
  {
   "cell_type": "code",
   "execution_count": 5,
   "metadata": {},
   "outputs": [],
   "source": [
    "#connect to Spotify through wrapper Spotipy\n",
    "client_cred = SpotifyClientCredentials(client_id=cid, client_secret=secret)\n",
    "sp = spotipy.Spotify(client_credentials_manager = client_cred)"
   ]
  },
  {
   "cell_type": "markdown",
   "metadata": {},
   "source": [
    "### Seed tracks\n",
    "\n",
    "The lists below contain the top five tracks for each of country, R&B/hip-hop, and rock/alternative as of the week of May 15, 2021, based on Billboard Top 100 charts."
   ]
  },
  {
   "cell_type": "code",
   "execution_count": 6,
   "metadata": {},
   "outputs": [],
   "source": [
    "#top 5 from Billboard Top 100 for country\n",
    "country_songs = [('Forever After All','Luke Combs'),\n",
    "                 ('The Good Ones','Gabby Barrett'),\n",
    "                 ('Made for You','Jake Owen'),\n",
    "                 ('Hell of a View','Eric Church'),\n",
    "                 ('Breaking Up Was Easy in the 90s','Sam Hunt')]"
   ]
  },
  {
   "cell_type": "code",
   "execution_count": 7,
   "metadata": {},
   "outputs": [],
   "source": [
    "#top 5 from Billboard Top 100 for R&B/hip-hop\n",
    "rb_songs = [('Leave the Door Open','Silk Sonic'),\n",
    "            ('Peaches','Justin Bieber'),\n",
    "            ('Rapstar','Polo G'),\n",
    "            ('Astronaut in the Ocean','Masked Wolf'),\n",
    "            ('Up','Cardi B')]"
   ]
  },
  {
   "cell_type": "code",
   "execution_count": 8,
   "metadata": {},
   "outputs": [],
   "source": [
    "#top 5 from Billboard Top 100 for rock/alternative\n",
    "rock_songs = [('Without You','The Kid LAROI'),\n",
    "              ('Your Power','Billie Eilish'),\n",
    "              (\"My Ex's Best Friend\",'by Machine Gun Kelly'),\n",
    "              ('Mood','24kGoldn'),\n",
    "              ('Therefore I Am','Billie Eilish')]"
   ]
  },
  {
   "cell_type": "markdown",
   "metadata": {},
   "source": [
    "### Obtain Song Features\n",
    "\n",
    "The following functions allow the user to search for a track and obtain its audio features from Spotify."
   ]
  },
  {
   "cell_type": "code",
   "execution_count": 10,
   "metadata": {},
   "outputs": [],
   "source": [
    "def search_by_track_artist(artist, track):\n",
    "    '''\n",
    "    function returns list with track name, artist, identification number, and release date\n",
    "    parameters:\n",
    "        artist-->str\n",
    "        track-->str\n",
    "    '''\n",
    "    info_json = sp.search(q='artist:{} track:{}'.format(artist, track))\n",
    "    track = info_json['tracks']['items'][0]['name']\n",
    "    track_id = info_json['tracks']['items'][0]['id']\n",
    "    release_date = info_json['tracks']['items'][0]['album']['release_date']\n",
    "    artist = info_json['tracks']['items'][0]['album']['artists'][0]['name']\n",
    "\n",
    "    output = [track,artist,track_id,release_date]\n",
    "    \n",
    "    return output"
   ]
  },
  {
   "cell_type": "code",
   "execution_count": 11,
   "metadata": {},
   "outputs": [],
   "source": [
    "def get_audio_features(track):\n",
    "    '''\n",
    "    function returns song's audio features\n",
    "    parameters:\n",
    "        track-->str\n",
    "    '''\n",
    "    info = sp.audio_features(track)[0]\n",
    "    dance = info['danceability']\n",
    "    energy = info['energy']\n",
    "    key = info['key']\n",
    "    loudness = info['loudness']\n",
    "    mode = info['mode']\n",
    "    speech = info['speechiness']\n",
    "    acoust = info['acousticness']\n",
    "    instru = info['instrumentalness']\n",
    "    live = info['liveness']\n",
    "    valence = info['valence']\n",
    "    tempo = info['tempo']\n",
    "    duration = info['duration_ms']\n",
    "    time_signature = info['time_signature']\n",
    "    track_info = [track,dance,energy,key,loudness,mode,speech,acoust, \n",
    "                  instru,live,valence,tempo,duration,time_signature]\n",
    "    \n",
    "    return track_info"
   ]
  },
  {
   "cell_type": "code",
   "execution_count": 9,
   "metadata": {},
   "outputs": [
    {
     "name": "stdout",
     "output_type": "stream",
     "text": [
      "Leave the Door Open Silk Sonic\n"
     ]
    }
   ],
   "source": [
    "track_info = []\n",
    "for song,artist in songs:\n",
    "    try:\n",
    "        #trying to search for a song and return a result, but if it cant find a song, then it will print below\n",
    "        track_info.append(search_by_track_artist(artist , song))\n",
    "    except:\n",
    "        print(song,artist)"
   ]
  },
  {
   "cell_type": "code",
   "execution_count": 10,
   "metadata": {},
   "outputs": [],
   "source": [
    "ids_for_rec = [i[2]for i in track_info]"
   ]
  },
  {
   "cell_type": "markdown",
   "metadata": {},
   "source": [
    "### Recommendations"
   ]
  },
  {
   "cell_type": "code",
   "execution_count": 11,
   "metadata": {},
   "outputs": [],
   "source": [
    "sim_songs = []\n",
    "x = sp.recommendations(limit = 100,seed_tracks = ids_for_rec)['tracks']\n",
    "for num in range(len(x)):\n",
    "    track_name = x[num]['name']\n",
    "    track_id = x[num]['id']\n",
    "    artist = x[num]['artists'][0]['name']\n",
    "    release_date = x[num]['album']['release_date']\n",
    "    sim_songs.append([track_name,artist, track_id, release_date])"
   ]
  },
  {
   "cell_type": "code",
   "execution_count": 12,
   "metadata": {},
   "outputs": [],
   "source": [
    "track_info.extend(sim_songs)"
   ]
  },
  {
   "cell_type": "code",
   "execution_count": 13,
   "metadata": {
    "scrolled": true
   },
   "outputs": [],
   "source": [
    "audio_features = [get_audio_features(i[2]) for i in track_info]"
   ]
  },
  {
   "cell_type": "code",
   "execution_count": 14,
   "metadata": {},
   "outputs": [],
   "source": [
    "audio_meta = pd.DataFrame(audio_features, columns = ['track', 'dance' , 'energy' , 'key' , 'loudness' , 'mode' , 'speech' , 'acoust' , \n",
    "                       'instru' , 'live' , 'valence' , 'tempo' , 'duration' , 'time_signature'])"
   ]
  },
  {
   "cell_type": "code",
   "execution_count": 15,
   "metadata": {},
   "outputs": [],
   "source": [
    "# Getting dummies for the following columns because they are not continuous varibles but either categorical or ordinal\n",
    "dummies = audio_meta[['key','time_signature','mode']]"
   ]
  },
  {
   "cell_type": "code",
   "execution_count": 16,
   "metadata": {},
   "outputs": [
    {
     "name": "stderr",
     "output_type": "stream",
     "text": [
      "<ipython-input-16-fe1a51c320c9>:2: SettingWithCopyWarning: \n",
      "A value is trying to be set on a copy of a slice from a DataFrame.\n",
      "Try using .loc[row_indexer,col_indexer] = value instead\n",
      "\n",
      "See the caveats in the documentation: https://pandas.pydata.org/pandas-docs/stable/user_guide/indexing.html#returning-a-view-versus-a-copy\n",
      "  dummies[i] = [str(num) for num in dummies[i]]\n"
     ]
    }
   ],
   "source": [
    "for i in dummies:\n",
    "    dummies[i] = [str(num) for num in dummies[i]]"
   ]
  },
  {
   "cell_type": "code",
   "execution_count": 17,
   "metadata": {},
   "outputs": [],
   "source": [
    "spread = pd.get_dummies(dummies)"
   ]
  },
  {
   "cell_type": "code",
   "execution_count": 18,
   "metadata": {},
   "outputs": [],
   "source": [
    "for i in spread:\n",
    "    spread[i] = [int(num) for num in spread[i]] "
   ]
  },
  {
   "cell_type": "markdown",
   "metadata": {},
   "source": [
    "### Ranking similar songs by using how close they are to seed tracks by euclidean distance"
   ]
  },
  {
   "cell_type": "code",
   "execution_count": 19,
   "metadata": {
    "scrolled": true
   },
   "outputs": [],
   "source": [
    "meta = pd.concat([audio_meta.drop(columns = ['track','key','time_signature','mode']),spread], axis = 1)"
   ]
  },
  {
   "cell_type": "code",
   "execution_count": 20,
   "metadata": {},
   "outputs": [],
   "source": [
    "dist_out = 1-pairwise_distances(meta, metric=\"euclidean\")"
   ]
  },
  {
   "cell_type": "code",
   "execution_count": 21,
   "metadata": {
    "scrolled": true
   },
   "outputs": [],
   "source": [
    "song_group = pd.DataFrame(dist_out).iloc[:, list(range(len(songs)))]"
   ]
  },
  {
   "cell_type": "code",
   "execution_count": 22,
   "metadata": {},
   "outputs": [],
   "source": [
    "song_group[\"sum\"] = song_group.sum(axis=1)"
   ]
  },
  {
   "cell_type": "code",
   "execution_count": 23,
   "metadata": {},
   "outputs": [],
   "source": [
    "top_sim_songs = list(song_group.sort_values('sum', ascending = False).index)\n"
   ]
  },
  {
   "cell_type": "code",
   "execution_count": 24,
   "metadata": {},
   "outputs": [],
   "source": [
    "top_sim_index = [i for i in top_sim_songs if i not in list(range(len(songs))) ]"
   ]
  },
  {
   "cell_type": "markdown",
   "metadata": {},
   "source": [
    "### Using ranked songs to find more songs similar to seed tracks"
   ]
  },
  {
   "cell_type": "code",
   "execution_count": 25,
   "metadata": {},
   "outputs": [
    {
     "name": "stdout",
     "output_type": "stream",
     "text": [
      "1 200\n",
      "2 298\n",
      "3 394\n",
      "4 490\n",
      "5 579\n"
     ]
    }
   ],
   "source": [
    "rank = 0\n",
    "while len(sim_songs) < 500:\n",
    "    x = sp.recommendations(limit = 100,seed_tracks = [sim_songs[top_sim_index[rank]][2]])['tracks']\n",
    "    for num in range(len(x)):\n",
    "        track_name = x[num]['name']\n",
    "        track_id = x[num]['id']\n",
    "        artist = x[num]['artists'][0]['name']\n",
    "        release_date = x[num]['album']['release_date']\n",
    "        if [track_name,artist, track_id, release_date] not in sim_songs:\n",
    "            sim_songs.append([track_name,artist, track_id, release_date])\n",
    "    rank +=1\n",
    "    print(rank, len(sim_songs))"
   ]
  },
  {
   "cell_type": "code",
   "execution_count": 26,
   "metadata": {},
   "outputs": [],
   "source": [
    "songs_for_genius = pd.DataFrame(sim_songs)"
   ]
  },
  {
   "cell_type": "code",
   "execution_count": 27,
   "metadata": {},
   "outputs": [
    {
     "data": {
      "text/html": [
       "<div>\n",
       "<style scoped>\n",
       "    .dataframe tbody tr th:only-of-type {\n",
       "        vertical-align: middle;\n",
       "    }\n",
       "\n",
       "    .dataframe tbody tr th {\n",
       "        vertical-align: top;\n",
       "    }\n",
       "\n",
       "    .dataframe thead th {\n",
       "        text-align: right;\n",
       "    }\n",
       "</style>\n",
       "<table border=\"1\" class=\"dataframe\">\n",
       "  <thead>\n",
       "    <tr style=\"text-align: right;\">\n",
       "      <th></th>\n",
       "      <th>0</th>\n",
       "      <th>1</th>\n",
       "      <th>2</th>\n",
       "      <th>3</th>\n",
       "    </tr>\n",
       "  </thead>\n",
       "  <tbody>\n",
       "    <tr>\n",
       "      <th>0</th>\n",
       "      <td>16 Shots</td>\n",
       "      <td>Stefflon Don</td>\n",
       "      <td>2169IKAivSUUFGcedGASXc</td>\n",
       "      <td>2017-05-22</td>\n",
       "    </tr>\n",
       "    <tr>\n",
       "      <th>1</th>\n",
       "      <td>oops!!! (with Lil Wayne)</td>\n",
       "      <td>Yung Gravy</td>\n",
       "      <td>0O014lR2VQ3JpMHA7KFyy5</td>\n",
       "      <td>2021-03-05</td>\n",
       "    </tr>\n",
       "    <tr>\n",
       "      <th>2</th>\n",
       "      <td>PILL BREAKER (feat. blackbear &amp; Machine Gun Ke...</td>\n",
       "      <td>Trippie Redd</td>\n",
       "      <td>7jjnn6K7p5MgOFuqLypAcM</td>\n",
       "      <td>2021-02-19</td>\n",
       "    </tr>\n",
       "    <tr>\n",
       "      <th>3</th>\n",
       "      <td>Act Up</td>\n",
       "      <td>City Girls</td>\n",
       "      <td>3A2yGHWIzmGEIolwonU69h</td>\n",
       "      <td>2018-11-16</td>\n",
       "    </tr>\n",
       "    <tr>\n",
       "      <th>4</th>\n",
       "      <td>BELIEVE IT</td>\n",
       "      <td>PARTYNEXTDOOR</td>\n",
       "      <td>4HDCLYli2SUdkq9OjmvhSD</td>\n",
       "      <td>2020-03-27</td>\n",
       "    </tr>\n",
       "    <tr>\n",
       "      <th>...</th>\n",
       "      <td>...</td>\n",
       "      <td>...</td>\n",
       "      <td>...</td>\n",
       "      <td>...</td>\n",
       "    </tr>\n",
       "    <tr>\n",
       "      <th>574</th>\n",
       "      <td>Right Back (feat. A Boogie Wit Da Hoodie)</td>\n",
       "      <td>Khalid</td>\n",
       "      <td>6PYnUsNEpYC7A4BS2sjw3L</td>\n",
       "      <td>2019-08-13</td>\n",
       "    </tr>\n",
       "    <tr>\n",
       "      <th>575</th>\n",
       "      <td>Glitter</td>\n",
       "      <td>BENEE</td>\n",
       "      <td>23TPP1eeElFfvYVznskwCY</td>\n",
       "      <td>2019-06-28</td>\n",
       "    </tr>\n",
       "    <tr>\n",
       "      <th>576</th>\n",
       "      <td>Heather</td>\n",
       "      <td>Conan Gray</td>\n",
       "      <td>4xqrdfXkTW4T0RauPLv3WA</td>\n",
       "      <td>2020-03-20</td>\n",
       "    </tr>\n",
       "    <tr>\n",
       "      <th>577</th>\n",
       "      <td>Strawberries &amp; Cigarettes</td>\n",
       "      <td>Troye Sivan</td>\n",
       "      <td>3afkJSKX0EAMsJXTZnDXXJ</td>\n",
       "      <td>2018-03-16</td>\n",
       "    </tr>\n",
       "    <tr>\n",
       "      <th>578</th>\n",
       "      <td>Girls Need Love (V-Mix)</td>\n",
       "      <td>Vedo</td>\n",
       "      <td>79sYN8CwQMVwA4wNXg1RVt</td>\n",
       "      <td>2019-05-09</td>\n",
       "    </tr>\n",
       "  </tbody>\n",
       "</table>\n",
       "<p>579 rows × 4 columns</p>\n",
       "</div>"
      ],
      "text/plain": [
       "                                                     0              1  \\\n",
       "0                                             16 Shots   Stefflon Don   \n",
       "1                             oops!!! (with Lil Wayne)     Yung Gravy   \n",
       "2    PILL BREAKER (feat. blackbear & Machine Gun Ke...   Trippie Redd   \n",
       "3                                               Act Up     City Girls   \n",
       "4                                           BELIEVE IT  PARTYNEXTDOOR   \n",
       "..                                                 ...            ...   \n",
       "574          Right Back (feat. A Boogie Wit Da Hoodie)         Khalid   \n",
       "575                                            Glitter          BENEE   \n",
       "576                                            Heather     Conan Gray   \n",
       "577                          Strawberries & Cigarettes    Troye Sivan   \n",
       "578                            Girls Need Love (V-Mix)           Vedo   \n",
       "\n",
       "                          2           3  \n",
       "0    2169IKAivSUUFGcedGASXc  2017-05-22  \n",
       "1    0O014lR2VQ3JpMHA7KFyy5  2021-03-05  \n",
       "2    7jjnn6K7p5MgOFuqLypAcM  2021-02-19  \n",
       "3    3A2yGHWIzmGEIolwonU69h  2018-11-16  \n",
       "4    4HDCLYli2SUdkq9OjmvhSD  2020-03-27  \n",
       "..                      ...         ...  \n",
       "574  6PYnUsNEpYC7A4BS2sjw3L  2019-08-13  \n",
       "575  23TPP1eeElFfvYVznskwCY  2019-06-28  \n",
       "576  4xqrdfXkTW4T0RauPLv3WA  2020-03-20  \n",
       "577  3afkJSKX0EAMsJXTZnDXXJ  2018-03-16  \n",
       "578  79sYN8CwQMVwA4wNXg1RVt  2019-05-09  \n",
       "\n",
       "[579 rows x 4 columns]"
      ]
     },
     "execution_count": 27,
     "metadata": {},
     "output_type": "execute_result"
    }
   ],
   "source": [
    "songs_for_genius"
   ]
  },
  {
   "cell_type": "code",
   "execution_count": null,
   "metadata": {},
   "outputs": [],
   "source": []
  }
 ],
 "metadata": {
  "kernelspec": {
   "display_name": "Python 3",
   "language": "python",
   "name": "python3"
  },
  "language_info": {
   "codemirror_mode": {
    "name": "ipython",
    "version": 3
   },
   "file_extension": ".py",
   "mimetype": "text/x-python",
   "name": "python",
   "nbconvert_exporter": "python",
   "pygments_lexer": "ipython3",
   "version": "3.8.5"
  }
 },
 "nbformat": 4,
 "nbformat_minor": 4
}
