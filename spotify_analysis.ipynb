{
 "cells": [
  {
   "cell_type": "markdown",
   "metadata": {},
   "source": [
    "# Song Analysis Using Spotify API"
   ]
  },
  {
   "cell_type": "code",
   "execution_count": 1,
   "metadata": {},
   "outputs": [],
   "source": [
    "#import libraries\n",
    "import sys\n",
    "import spotipy\n",
    "import spotipy.util as util\n",
    "from spotipy.oauth2 import SpotifyClientCredentials\n",
    "import pandas as pd\n",
    "import numpy as np\n",
    "import time\n",
    "from bs4 import BeautifulSoup as bs\n",
    "from sklearn.metrics import pairwise_distances\n",
    "from scipy.spatial.distance import cosine"
   ]
  },
  {
   "cell_type": "code",
   "execution_count": 2,
   "metadata": {},
   "outputs": [],
   "source": [
    "#Spotify authorization scope\n",
    "scope = 'user-library-read'"
   ]
  },
  {
   "cell_type": "code",
   "execution_count": 3,
   "metadata": {},
   "outputs": [],
   "source": [
    "#Spotify API credentials\n",
    "%store -r spotify_cid\n",
    "cid = spotify_cid\n",
    "%store -r spotify_secret\n",
    "secret = spotify_secret"
   ]
  },
  {
   "cell_type": "code",
   "execution_count": 4,
   "metadata": {},
   "outputs": [],
   "source": [
    "#connect to Spotify through wrapper Spotipy\n",
    "client_cred = SpotifyClientCredentials(client_id=cid, client_secret=secret)\n",
    "sp = spotipy.Spotify(client_credentials_manager = client_cred)"
   ]
  },
  {
   "cell_type": "markdown",
   "metadata": {},
   "source": [
    "### Functions to Obtain Song Features and Recommendations"
   ]
  },
  {
   "cell_type": "code",
   "execution_count": 35,
   "metadata": {},
   "outputs": [],
   "source": [
    "def get_track_info(track,artist):\n",
    "    '''\n",
    "    function returns dictionary with track's info (including audio features)\n",
    "    parameters:\n",
    "        track-->str\n",
    "        artist-->str\n",
    "    '''\n",
    "    #search Spotify API for general song info\n",
    "    info_json = sp.search(q='artist:{} track:{}'.format(artist,track))['tracks']['items'][0]\n",
    "    \n",
    "    #obtain song's audio features\n",
    "    audio_info = sp.audio_features(info_json['id'])[0]\n",
    "\n",
    "    #create dictionary with song info\n",
    "    info = {'track':info_json['name'],\n",
    "            'artist':info_json['album']['artists'][0]['name'],\n",
    "            'track_id':info_json['id'],\n",
    "            'release_date':info_json['album']['release_date'],\n",
    "            'dance':audio_info['danceability'],\n",
    "            'energy':audio_info['energy'],\n",
    "            'loud':audio_info['loudness'],\n",
    "            'speech':audio_info['speechiness'],\n",
    "            'acoust':audio_info['acousticness'],\n",
    "            'live':audio_info['liveness'],\n",
    "            'valence':audio_info['valence'],\n",
    "            'tempo':audio_info['tempo']\n",
    "           }\n",
    "    \n",
    "    return info"
   ]
  },
  {
   "cell_type": "code",
   "execution_count": 45,
   "metadata": {},
   "outputs": [],
   "source": [
    "def get_sim_songs(id_list):\n",
    "    '''\n",
    "    function returns list of tup (track, artist) of songs similar to seed tracks\n",
    "    \n",
    "    parameters:\n",
    "        id_list-->list of song ids (str) for seed tracks\n",
    "    '''\n",
    "    #find similar songs (using Spotify's bart algorithm)\n",
    "    song_recs = sp.recommendations(limit=100,seed_tracks=[i for i in id_list])['tracks']\n",
    "    \n",
    "    #create list of tup (track,artist)\n",
    "    sim_songs = [(s['name'],s['artists'][0]['name']) for s in song_recs]\n",
    "    \n",
    "    return sim_songs"
   ]
  },
  {
   "cell_type": "code",
   "execution_count": 44,
   "metadata": {},
   "outputs": [],
   "source": [
    "def rank_by_features():\n",
    "    \n",
    "    return None"
   ]
  },
  {
   "cell_type": "markdown",
   "metadata": {},
   "source": [
    "### Information on Seed Tracks\n",
    "\n",
    "The lists below contain the top five tracks for each of country, R&B/hip-hop, and rock/alternative as of the week of May 15, 2021, based on Billboard Top 100 charts."
   ]
  },
  {
   "cell_type": "code",
   "execution_count": 36,
   "metadata": {},
   "outputs": [],
   "source": [
    "#country seed tracks\n",
    "country_songs = [('Forever After All','Luke Combs'),\n",
    "                 ('The Good Ones','Gabby Barrett'),\n",
    "                 ('Made for You','Jake Owen'),\n",
    "                 ('Hell of a View','Eric Church'),\n",
    "                 ('Breaking Up Was Easy in the 90s','Sam Hunt')]\n",
    "\n",
    "#create dataframe with track information\n",
    "df_country = pd.DataFrame(data=[get_track_info(t,a) for t,a in country_songs])"
   ]
  },
  {
   "cell_type": "code",
   "execution_count": 38,
   "metadata": {},
   "outputs": [],
   "source": [
    "#R&B/hip-hop seed tracks\n",
    "rb_songs = [('Leave the Door Open','Bruno Mars'),\n",
    "            ('Peaches','Justin Bieber'),\n",
    "            ('Rapstar','Polo G'),\n",
    "            ('Astronaut in the Ocean','Masked Wolf'),\n",
    "            ('Up','Cardi B')]\n",
    "\n",
    "#create dataframe with track information\n",
    "df_rb = pd.DataFrame(data=[get_track_info(t,a) for t,a in rb_songs])"
   ]
  },
  {
   "cell_type": "code",
   "execution_count": 39,
   "metadata": {},
   "outputs": [],
   "source": [
    "#rock/alternative seed tracks\n",
    "rock_songs = [('Without You','The Kid LAROI'),\n",
    "              ('Your Power','Billie Eilish'),\n",
    "              (\"My Ex's Best Friend\",'Machine Gun Kelly'),\n",
    "              ('Mood','24kGoldn'),\n",
    "              ('Therefore I Am','Billie Eilish')]\n",
    "\n",
    "#create dataframe with track information\n",
    "df_rock = pd.DataFrame(data=[get_track_info(t,a) for t,a in rock_songs])"
   ]
  },
  {
   "cell_type": "markdown",
   "metadata": {},
   "source": [
    "### Song Recommendations"
   ]
  },
  {
   "cell_type": "code",
   "execution_count": 50,
   "metadata": {},
   "outputs": [
    {
     "ename": "IndexError",
     "evalue": "list index out of range",
     "output_type": "error",
     "traceback": [
      "\u001b[0;31m---------------------------------------------------------------------------\u001b[0m",
      "\u001b[0;31mIndexError\u001b[0m                                Traceback (most recent call last)",
      "\u001b[0;32m<ipython-input-50-5d603dd65494>\u001b[0m in \u001b[0;36m<module>\u001b[0;34m\u001b[0m\n\u001b[1;32m     11\u001b[0m \u001b[0;31m#rock_info += get_similar_songs(rock_info)\u001b[0m\u001b[0;34m\u001b[0m\u001b[0;34m\u001b[0m\u001b[0;34m\u001b[0m\u001b[0m\n\u001b[1;32m     12\u001b[0m \u001b[0msim_country\u001b[0m \u001b[0;34m=\u001b[0m \u001b[0mget_sim_songs\u001b[0m\u001b[0;34m(\u001b[0m\u001b[0mdf_country\u001b[0m\u001b[0;34m[\u001b[0m\u001b[0;34m'track_id'\u001b[0m\u001b[0;34m]\u001b[0m\u001b[0;34m)\u001b[0m\u001b[0;34m\u001b[0m\u001b[0;34m\u001b[0m\u001b[0m\n\u001b[0;32m---> 13\u001b[0;31m \u001b[0mdf_temp\u001b[0m \u001b[0;34m=\u001b[0m \u001b[0mpd\u001b[0m\u001b[0;34m.\u001b[0m\u001b[0mDataFrame\u001b[0m\u001b[0;34m(\u001b[0m\u001b[0mdata\u001b[0m\u001b[0;34m=\u001b[0m\u001b[0;34m[\u001b[0m\u001b[0mget_track_info\u001b[0m\u001b[0;34m(\u001b[0m\u001b[0mt\u001b[0m\u001b[0;34m,\u001b[0m\u001b[0ma\u001b[0m\u001b[0;34m)\u001b[0m \u001b[0;32mfor\u001b[0m \u001b[0mt\u001b[0m\u001b[0;34m,\u001b[0m\u001b[0ma\u001b[0m \u001b[0;32min\u001b[0m \u001b[0msim_country\u001b[0m\u001b[0;34m]\u001b[0m\u001b[0;34m)\u001b[0m\u001b[0;34m\u001b[0m\u001b[0;34m\u001b[0m\u001b[0m\n\u001b[0m\u001b[1;32m     14\u001b[0m \u001b[0mdf_temp\u001b[0m\u001b[0;34m\u001b[0m\u001b[0;34m\u001b[0m\u001b[0m\n",
      "\u001b[0;32m<ipython-input-50-5d603dd65494>\u001b[0m in \u001b[0;36m<listcomp>\u001b[0;34m(.0)\u001b[0m\n\u001b[1;32m     11\u001b[0m \u001b[0;31m#rock_info += get_similar_songs(rock_info)\u001b[0m\u001b[0;34m\u001b[0m\u001b[0;34m\u001b[0m\u001b[0;34m\u001b[0m\u001b[0m\n\u001b[1;32m     12\u001b[0m \u001b[0msim_country\u001b[0m \u001b[0;34m=\u001b[0m \u001b[0mget_sim_songs\u001b[0m\u001b[0;34m(\u001b[0m\u001b[0mdf_country\u001b[0m\u001b[0;34m[\u001b[0m\u001b[0;34m'track_id'\u001b[0m\u001b[0;34m]\u001b[0m\u001b[0;34m)\u001b[0m\u001b[0;34m\u001b[0m\u001b[0;34m\u001b[0m\u001b[0m\n\u001b[0;32m---> 13\u001b[0;31m \u001b[0mdf_temp\u001b[0m \u001b[0;34m=\u001b[0m \u001b[0mpd\u001b[0m\u001b[0;34m.\u001b[0m\u001b[0mDataFrame\u001b[0m\u001b[0;34m(\u001b[0m\u001b[0mdata\u001b[0m\u001b[0;34m=\u001b[0m\u001b[0;34m[\u001b[0m\u001b[0mget_track_info\u001b[0m\u001b[0;34m(\u001b[0m\u001b[0mt\u001b[0m\u001b[0;34m,\u001b[0m\u001b[0ma\u001b[0m\u001b[0;34m)\u001b[0m \u001b[0;32mfor\u001b[0m \u001b[0mt\u001b[0m\u001b[0;34m,\u001b[0m\u001b[0ma\u001b[0m \u001b[0;32min\u001b[0m \u001b[0msim_country\u001b[0m\u001b[0;34m]\u001b[0m\u001b[0;34m)\u001b[0m\u001b[0;34m\u001b[0m\u001b[0;34m\u001b[0m\u001b[0m\n\u001b[0m\u001b[1;32m     14\u001b[0m \u001b[0mdf_temp\u001b[0m\u001b[0;34m\u001b[0m\u001b[0;34m\u001b[0m\u001b[0m\n",
      "\u001b[0;32m<ipython-input-35-11e30ab70b73>\u001b[0m in \u001b[0;36mget_track_info\u001b[0;34m(track, artist)\u001b[0m\n\u001b[1;32m      7\u001b[0m     '''\n\u001b[1;32m      8\u001b[0m     \u001b[0;31m#search Spotify API for general song info\u001b[0m\u001b[0;34m\u001b[0m\u001b[0;34m\u001b[0m\u001b[0;34m\u001b[0m\u001b[0m\n\u001b[0;32m----> 9\u001b[0;31m     \u001b[0minfo_json\u001b[0m \u001b[0;34m=\u001b[0m \u001b[0msp\u001b[0m\u001b[0;34m.\u001b[0m\u001b[0msearch\u001b[0m\u001b[0;34m(\u001b[0m\u001b[0mq\u001b[0m\u001b[0;34m=\u001b[0m\u001b[0;34m'artist:{} track:{}'\u001b[0m\u001b[0;34m.\u001b[0m\u001b[0mformat\u001b[0m\u001b[0;34m(\u001b[0m\u001b[0martist\u001b[0m\u001b[0;34m,\u001b[0m\u001b[0mtrack\u001b[0m\u001b[0;34m)\u001b[0m\u001b[0;34m)\u001b[0m\u001b[0;34m[\u001b[0m\u001b[0;34m'tracks'\u001b[0m\u001b[0;34m]\u001b[0m\u001b[0;34m[\u001b[0m\u001b[0;34m'items'\u001b[0m\u001b[0;34m]\u001b[0m\u001b[0;34m[\u001b[0m\u001b[0;36m0\u001b[0m\u001b[0;34m]\u001b[0m\u001b[0;34m\u001b[0m\u001b[0;34m\u001b[0m\u001b[0m\n\u001b[0m\u001b[1;32m     10\u001b[0m \u001b[0;34m\u001b[0m\u001b[0m\n\u001b[1;32m     11\u001b[0m     \u001b[0;31m#obtain song's audio features\u001b[0m\u001b[0;34m\u001b[0m\u001b[0;34m\u001b[0m\u001b[0;34m\u001b[0m\u001b[0m\n",
      "\u001b[0;31mIndexError\u001b[0m: list index out of range"
     ]
    }
   ],
   "source": [
    "#use get_similar_songs function to find song recommendations\n",
    "#add recommended songs to respective lists of seed tracks\n",
    "\n",
    "#df_sim = pd.DataFrame(data=[get_track_info(t,a) for t,a in get_sim_songs(df_country['track_id'])])\n",
    "\n",
    "#df_country.append(pd.DataFrame(data=\n",
    "                 #[get_track_info(t,a) for t,a in get_sim_songs(df_country['track_id'])]))\n",
    "\n",
    "#country_info += get_similar_songs(country_info)\n",
    "#rb_info += get_similar_songs(rb_info)\n",
    "#rock_info += get_similar_songs(rock_info)\n",
    "sim_country = get_sim_songs(df_country['track_id'])\n",
    "df_temp = pd.DataFrame(data=[get_track_info(t,a) for t,a in sim_country])\n",
    "df_temp"
   ]
  },
  {
   "cell_type": "code",
   "execution_count": null,
   "metadata": {},
   "outputs": [],
   "source": []
  },
  {
   "cell_type": "code",
   "execution_count": null,
   "metadata": {
    "scrolled": true
   },
   "outputs": [],
   "source": [
    "audio_features = [get_audio_features(i[2]) for i in track_info]"
   ]
  },
  {
   "cell_type": "code",
   "execution_count": null,
   "metadata": {},
   "outputs": [],
   "source": [
    "audio_meta = pd.DataFrame(audio_features, columns = ['track', 'dance' , 'energy' , 'key' , 'loudness' , 'mode' , 'speech' , 'acoust' , \n",
    "                       'instru' , 'live' , 'valence' , 'tempo' , 'duration' , 'time_signature'])"
   ]
  },
  {
   "cell_type": "code",
   "execution_count": null,
   "metadata": {},
   "outputs": [],
   "source": [
    "# Getting dummies for the following columns because they are not continuous varibles but either categorical or ordinal\n",
    "dummies = audio_meta[['key','time_signature','mode']]"
   ]
  },
  {
   "cell_type": "code",
   "execution_count": null,
   "metadata": {},
   "outputs": [],
   "source": [
    "for i in dummies:\n",
    "    dummies[i] = [str(num) for num in dummies[i]]"
   ]
  },
  {
   "cell_type": "code",
   "execution_count": null,
   "metadata": {},
   "outputs": [],
   "source": [
    "spread = pd.get_dummies(dummies)"
   ]
  },
  {
   "cell_type": "code",
   "execution_count": null,
   "metadata": {},
   "outputs": [],
   "source": [
    "for i in spread:\n",
    "    spread[i] = [int(num) for num in spread[i]] "
   ]
  },
  {
   "cell_type": "markdown",
   "metadata": {},
   "source": [
    "### Ranking similar songs by using how close they are to seed tracks by euclidean distance"
   ]
  },
  {
   "cell_type": "code",
   "execution_count": null,
   "metadata": {
    "scrolled": true
   },
   "outputs": [],
   "source": [
    "meta = pd.concat([audio_meta.drop(columns = ['track','key','time_signature','mode']),spread], axis = 1)"
   ]
  },
  {
   "cell_type": "code",
   "execution_count": null,
   "metadata": {},
   "outputs": [],
   "source": [
    "dist_out = 1-pairwise_distances(meta, metric=\"euclidean\")"
   ]
  },
  {
   "cell_type": "code",
   "execution_count": null,
   "metadata": {
    "scrolled": true
   },
   "outputs": [],
   "source": [
    "song_group = pd.DataFrame(dist_out).iloc[:, list(range(len(songs)))]"
   ]
  },
  {
   "cell_type": "code",
   "execution_count": null,
   "metadata": {},
   "outputs": [],
   "source": [
    "song_group[\"sum\"] = song_group.sum(axis=1)"
   ]
  },
  {
   "cell_type": "code",
   "execution_count": null,
   "metadata": {},
   "outputs": [],
   "source": [
    "top_sim_songs = list(song_group.sort_values('sum', ascending = False).index)\n"
   ]
  },
  {
   "cell_type": "code",
   "execution_count": null,
   "metadata": {},
   "outputs": [],
   "source": [
    "top_sim_index = [i for i in top_sim_songs if i not in list(range(len(songs))) ]"
   ]
  },
  {
   "cell_type": "markdown",
   "metadata": {},
   "source": [
    "### Using ranked songs to find more songs similar to seed tracks"
   ]
  },
  {
   "cell_type": "code",
   "execution_count": null,
   "metadata": {},
   "outputs": [],
   "source": [
    "rank = 0\n",
    "while len(sim_songs) < 500:\n",
    "    x = sp.recommendations(limit = 100,seed_tracks = [sim_songs[top_sim_index[rank]][2]])['tracks']\n",
    "    for num in range(len(x)):\n",
    "        track_name = x[num]['name']\n",
    "        track_id = x[num]['id']\n",
    "        artist = x[num]['artists'][0]['name']\n",
    "        release_date = x[num]['album']['release_date']\n",
    "        if [track_name,artist, track_id, release_date] not in sim_songs:\n",
    "            sim_songs.append([track_name,artist, track_id, release_date])\n",
    "    rank +=1\n",
    "    print(rank, len(sim_songs))"
   ]
  },
  {
   "cell_type": "code",
   "execution_count": null,
   "metadata": {},
   "outputs": [],
   "source": [
    "songs_for_genius = pd.DataFrame(sim_songs)"
   ]
  },
  {
   "cell_type": "code",
   "execution_count": null,
   "metadata": {},
   "outputs": [],
   "source": [
    "songs_for_genius"
   ]
  },
  {
   "cell_type": "code",
   "execution_count": null,
   "metadata": {},
   "outputs": [],
   "source": []
  }
 ],
 "metadata": {
  "kernelspec": {
   "display_name": "Python 3",
   "language": "python",
   "name": "python3"
  },
  "language_info": {
   "codemirror_mode": {
    "name": "ipython",
    "version": 3
   },
   "file_extension": ".py",
   "mimetype": "text/x-python",
   "name": "python",
   "nbconvert_exporter": "python",
   "pygments_lexer": "ipython3",
   "version": "3.8.5"
  }
 },
 "nbformat": 4,
 "nbformat_minor": 4
}
