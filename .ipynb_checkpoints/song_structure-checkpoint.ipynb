{
 "cells": [
  {
   "cell_type": "code",
   "execution_count": 20,
   "metadata": {},
   "outputs": [],
   "source": [
    "import pandas as pd\n",
    "import numpy as np\n",
    "import re\n",
    "import nltk\n",
    "from collections import Counter\n",
    "import itertools \n",
    "import csv\n",
    "import altair as alt"
   ]
  },
  {
   "cell_type": "code",
   "execution_count": 3,
   "metadata": {},
   "outputs": [],
   "source": [
    "df_cty = pd.read_csv('df_cty_final.csv')\n",
    "df_rock = pd.read_csv('df_rock_final.csv')\n",
    "df_rb = pd.read_csv('df_rb_final.csv')\n",
    "df_rb = df_rb[1:]"
   ]
  },
  {
   "cell_type": "code",
   "execution_count": 4,
   "metadata": {},
   "outputs": [],
   "source": [
    "def get_structures(line):\n",
    "    WORD_RE = re.compile(\"\\[(.*?)\\]\")\n",
    "    token = WORD_RE.findall(line)\n",
    "    tokens = [w.lower() for w in token if w.lower()]\n",
    "    return tokens"
   ]
  },
  {
   "cell_type": "code",
   "execution_count": 5,
   "metadata": {},
   "outputs": [],
   "source": [
    "# Replace coro and verso with chros and verse in future"
   ]
  },
  {
   "cell_type": "code",
   "execution_count": 6,
   "metadata": {},
   "outputs": [],
   "source": [
    "def get_clean(df):\n",
    "    structures = []\n",
    "    for i in df.lyrics:\n",
    "        structures.append(get_structures(i))\n",
    "\n",
    "    structures_refinded = []\n",
    "    for struct in structures:\n",
    "        temp = []\n",
    "        for word in struct:\n",
    "            new = word.split(':',1)[0]\n",
    "            new = ''.join(i for i in new if not i.isdigit()).strip()\n",
    "\n",
    "            temp.append(new)\n",
    "        structures_refinded.append(temp)\n",
    "        \n",
    "    struct_values = pd.DataFrame([' '.join(i) for i in  structures_refinded], columns = ['structure'])\n",
    "    final = pd.DataFrame(struct_values.value_counts(), columns = ['song_counts']).reset_index()\n",
    "    final = final[final.structure != '']\n",
    "    \n",
    "    return final.head(10)"
   ]
  },
  {
   "cell_type": "code",
   "execution_count": 7,
   "metadata": {
    "scrolled": true
   },
   "outputs": [],
   "source": [
    "def get_df_for_ngrams(df):\n",
    "    #global value\n",
    "    list_of_dicts = []\n",
    "    for lyrics in df.lyrics:    \n",
    "        dicts = {}\n",
    "        for i in lyrics.splitlines():\n",
    "            if bool(re.match(\"\\[(.*?)\\]\",i)):\n",
    "                value = i[1:-1]\n",
    "                value = value.split(':',1)[0]\n",
    "                value = ''.join(i for i in value).strip()\n",
    "            else:\n",
    "                if value not in dicts:\n",
    "                    dicts[value] = [i]\n",
    "                else:\n",
    "                    dicts[value].append(i)\n",
    "\n",
    "        list_of_dicts.append(dicts)\n",
    "    return pd.DataFrame(list_of_dicts)"
   ]
  },
  {
   "cell_type": "code",
   "execution_count": 50,
   "metadata": {
    "scrolled": true
   },
   "outputs": [],
   "source": [
    "df_for_cty_ngrams = get_df_for_ngrams(df_cty)\n",
    "df_for_rock_ngrams = get_df_for_ngrams(df_rock)\n",
    "df_for_rb_ngrams = get_df_for_ngrams(df_rb)"
   ]
  },
  {
   "cell_type": "code",
   "execution_count": 51,
   "metadata": {},
   "outputs": [],
   "source": [
    "df_for_cty_ngrams.to_csv('df_for_cty_ngrams.csv', index = False)\n",
    "df_for_rock_ngrams.to_csv('df_for_rock_ngrams.csv', index = False)\n",
    "df_for_rb_ngrams.to_csv('df_for_rb_ngrams', index = False)"
   ]
  },
  {
   "cell_type": "code",
   "execution_count": null,
   "metadata": {},
   "outputs": [],
   "source": []
  },
  {
   "cell_type": "code",
   "execution_count": 74,
   "metadata": {},
   "outputs": [],
   "source": [
    "rock = alt.Chart(get_clean(df_rock),title = 'Top Rock Song Structures').mark_bar(size = 10, opacity = .5,color = '#a24857').encode(\n",
    "    x= alt.X('song_counts:Q'),\n",
    "    y= alt.Y('structure:N', sort='-x', title = None , axis = alt.Axis(labelLimit = 500) )\n",
    ").properties(width = 150, height = 250)"
   ]
  },
  {
   "cell_type": "code",
   "execution_count": 75,
   "metadata": {},
   "outputs": [
    {
     "data": {
      "text/html": [
       "\n",
       "<div id=\"altair-viz-3fb40b18bd1c42dd9402089a8d0c709e\"></div>\n",
       "<script type=\"text/javascript\">\n",
       "  (function(spec, embedOpt){\n",
       "    let outputDiv = document.currentScript.previousElementSibling;\n",
       "    if (outputDiv.id !== \"altair-viz-3fb40b18bd1c42dd9402089a8d0c709e\") {\n",
       "      outputDiv = document.getElementById(\"altair-viz-3fb40b18bd1c42dd9402089a8d0c709e\");\n",
       "    }\n",
       "    const paths = {\n",
       "      \"vega\": \"https://cdn.jsdelivr.net/npm//vega@5?noext\",\n",
       "      \"vega-lib\": \"https://cdn.jsdelivr.net/npm//vega-lib?noext\",\n",
       "      \"vega-lite\": \"https://cdn.jsdelivr.net/npm//vega-lite@4.8.1?noext\",\n",
       "      \"vega-embed\": \"https://cdn.jsdelivr.net/npm//vega-embed@6?noext\",\n",
       "    };\n",
       "\n",
       "    function loadScript(lib) {\n",
       "      return new Promise(function(resolve, reject) {\n",
       "        var s = document.createElement('script');\n",
       "        s.src = paths[lib];\n",
       "        s.async = true;\n",
       "        s.onload = () => resolve(paths[lib]);\n",
       "        s.onerror = () => reject(`Error loading script: ${paths[lib]}`);\n",
       "        document.getElementsByTagName(\"head\")[0].appendChild(s);\n",
       "      });\n",
       "    }\n",
       "\n",
       "    function showError(err) {\n",
       "      outputDiv.innerHTML = `<div class=\"error\" style=\"color:red;\">${err}</div>`;\n",
       "      throw err;\n",
       "    }\n",
       "\n",
       "    function displayChart(vegaEmbed) {\n",
       "      vegaEmbed(outputDiv, spec, embedOpt)\n",
       "        .catch(err => showError(`Javascript Error: ${err.message}<br>This usually means there's a typo in your chart specification. See the javascript console for the full traceback.`));\n",
       "    }\n",
       "\n",
       "    if(typeof define === \"function\" && define.amd) {\n",
       "      requirejs.config({paths});\n",
       "      require([\"vega-embed\"], displayChart, err => showError(`Error loading script: ${err.message}`));\n",
       "    } else if (typeof vegaEmbed === \"function\") {\n",
       "      displayChart(vegaEmbed);\n",
       "    } else {\n",
       "      loadScript(\"vega\")\n",
       "        .then(() => loadScript(\"vega-lite\"))\n",
       "        .then(() => loadScript(\"vega-embed\"))\n",
       "        .catch(showError)\n",
       "        .then(() => displayChart(vegaEmbed));\n",
       "    }\n",
       "  })({\"config\": {\"view\": {\"continuousWidth\": 400, \"continuousHeight\": 300}}, \"data\": {\"name\": \"data-907c7e2ecd35d75dbed96e2537a98347\"}, \"mark\": {\"type\": \"bar\", \"color\": \"#a24857\", \"opacity\": 0.5, \"size\": 10}, \"encoding\": {\"x\": {\"type\": \"quantitative\", \"field\": \"song_counts\"}, \"y\": {\"type\": \"nominal\", \"axis\": {\"labelLimit\": 500}, \"field\": \"structure\", \"sort\": \"-x\", \"title\": null}}, \"height\": 250, \"title\": \"Top Rock Song Structures\", \"width\": 150, \"$schema\": \"https://vega.github.io/schema/vega-lite/v4.8.1.json\", \"datasets\": {\"data-907c7e2ecd35d75dbed96e2537a98347\": [{\"structure\": \"verse pre-chorus chorus verse pre-chorus chorus bridge chorus\", \"song_counts\": 51}, {\"structure\": \"verse chorus verse chorus bridge chorus\", \"song_counts\": 29}, {\"structure\": \"verse pre-chorus chorus verse pre-chorus chorus outro\", \"song_counts\": 26}, {\"structure\": \"intro chorus verse chorus verse chorus\", \"song_counts\": 22}, {\"structure\": \"verse pre-chorus chorus verse pre-chorus chorus bridge chorus outro\", \"song_counts\": 21}, {\"structure\": \"intro chorus verse chorus verse chorus outro\", \"song_counts\": 21}, {\"structure\": \"verse chorus verse chorus\", \"song_counts\": 18}, {\"structure\": \"verse pre-chorus chorus verse pre-chorus chorus\", \"song_counts\": 17}, {\"structure\": \"chorus verse chorus verse chorus\", \"song_counts\": 14}, {\"structure\": \"verse chorus verse chorus outro\", \"song_counts\": 13}]}}, {\"mode\": \"vega-lite\"});\n",
       "</script>"
      ],
      "text/plain": [
       "alt.Chart(...)"
      ]
     },
     "execution_count": 75,
     "metadata": {},
     "output_type": "execute_result"
    }
   ],
   "source": [
    "rock"
   ]
  },
  {
   "cell_type": "code",
   "execution_count": 84,
   "metadata": {},
   "outputs": [],
   "source": [
    "rock = alt.Chart(get_clean(df_rock),title = 'Top Rock Song Structures').mark_bar(size = 13, opacity = .5,color = '#a24857').encode(\n",
    "    x= alt.X('song_counts:Q'),\n",
    "    y= alt.Y('structure:N', sort='-x', title = None , axis = alt.Axis(labelLimit = 500,labelFontSize = 13) )\n",
    ").properties(width = 150, height = 300)\n",
    "\n",
    "rb = alt.Chart(get_clean(df_rb),title = 'Top Hip-Hop/Rap Song Structures').mark_bar(size = 13, opacity = .5).encode(\n",
    "    x= alt.X('song_counts:Q'),\n",
    "    y= alt.Y('structure:N', sort='-x', title = None , axis = alt.Axis(labelLimit = 500,labelFontSize = 13) )\n",
    ").properties(width = 150, height = 300)\n",
    "\n",
    "cty = alt.Chart(get_clean(df_cty),title = 'Top Country Song Structures').mark_bar(size = 13, opacity = .5,color = '#D2B48C').encode(\n",
    "    x= alt.X('song_counts:Q'),\n",
    "    y= alt.Y('structure:N', sort='-x', title = None, axis = alt.Axis(labelLimit = 500,labelFontSize = 13)  )\n",
    ").properties(width = 150, height = 300)"
   ]
  },
  {
   "cell_type": "code",
   "execution_count": 85,
   "metadata": {},
   "outputs": [
    {
     "data": {
      "text/html": [
       "\n",
       "<div id=\"altair-viz-3d6e63614c6d47839e8ad29c773e411c\"></div>\n",
       "<script type=\"text/javascript\">\n",
       "  (function(spec, embedOpt){\n",
       "    let outputDiv = document.currentScript.previousElementSibling;\n",
       "    if (outputDiv.id !== \"altair-viz-3d6e63614c6d47839e8ad29c773e411c\") {\n",
       "      outputDiv = document.getElementById(\"altair-viz-3d6e63614c6d47839e8ad29c773e411c\");\n",
       "    }\n",
       "    const paths = {\n",
       "      \"vega\": \"https://cdn.jsdelivr.net/npm//vega@5?noext\",\n",
       "      \"vega-lib\": \"https://cdn.jsdelivr.net/npm//vega-lib?noext\",\n",
       "      \"vega-lite\": \"https://cdn.jsdelivr.net/npm//vega-lite@4.8.1?noext\",\n",
       "      \"vega-embed\": \"https://cdn.jsdelivr.net/npm//vega-embed@6?noext\",\n",
       "    };\n",
       "\n",
       "    function loadScript(lib) {\n",
       "      return new Promise(function(resolve, reject) {\n",
       "        var s = document.createElement('script');\n",
       "        s.src = paths[lib];\n",
       "        s.async = true;\n",
       "        s.onload = () => resolve(paths[lib]);\n",
       "        s.onerror = () => reject(`Error loading script: ${paths[lib]}`);\n",
       "        document.getElementsByTagName(\"head\")[0].appendChild(s);\n",
       "      });\n",
       "    }\n",
       "\n",
       "    function showError(err) {\n",
       "      outputDiv.innerHTML = `<div class=\"error\" style=\"color:red;\">${err}</div>`;\n",
       "      throw err;\n",
       "    }\n",
       "\n",
       "    function displayChart(vegaEmbed) {\n",
       "      vegaEmbed(outputDiv, spec, embedOpt)\n",
       "        .catch(err => showError(`Javascript Error: ${err.message}<br>This usually means there's a typo in your chart specification. See the javascript console for the full traceback.`));\n",
       "    }\n",
       "\n",
       "    if(typeof define === \"function\" && define.amd) {\n",
       "      requirejs.config({paths});\n",
       "      require([\"vega-embed\"], displayChart, err => showError(`Error loading script: ${err.message}`));\n",
       "    } else if (typeof vegaEmbed === \"function\") {\n",
       "      displayChart(vegaEmbed);\n",
       "    } else {\n",
       "      loadScript(\"vega\")\n",
       "        .then(() => loadScript(\"vega-lite\"))\n",
       "        .then(() => loadScript(\"vega-embed\"))\n",
       "        .catch(showError)\n",
       "        .then(() => displayChart(vegaEmbed));\n",
       "    }\n",
       "  })({\"config\": {\"view\": {\"continuousWidth\": 400, \"continuousHeight\": 300}}, \"hconcat\": [{\"data\": {\"name\": \"data-907c7e2ecd35d75dbed96e2537a98347\"}, \"mark\": {\"type\": \"bar\", \"color\": \"#a24857\", \"opacity\": 0.5, \"size\": 13}, \"encoding\": {\"x\": {\"type\": \"quantitative\", \"field\": \"song_counts\"}, \"y\": {\"type\": \"nominal\", \"axis\": {\"labelFontSize\": 13, \"labelLimit\": 500}, \"field\": \"structure\", \"sort\": \"-x\", \"title\": null}}, \"height\": 300, \"title\": \"Top Rock Song Structures\", \"width\": 150}, {\"data\": {\"name\": \"data-95081458562b64ea36613e9e36062c6b\"}, \"mark\": {\"type\": \"bar\", \"opacity\": 0.5, \"size\": 13}, \"encoding\": {\"x\": {\"type\": \"quantitative\", \"field\": \"song_counts\"}, \"y\": {\"type\": \"nominal\", \"axis\": {\"labelFontSize\": 13, \"labelLimit\": 500}, \"field\": \"structure\", \"sort\": \"-x\", \"title\": null}}, \"height\": 300, \"title\": \"Top Hip-Hop/Rap Song Structures\", \"width\": 150}, {\"data\": {\"name\": \"data-956494e9a060c6fba24d541ff95c996e\"}, \"mark\": {\"type\": \"bar\", \"color\": \"#D2B48C\", \"opacity\": 0.5, \"size\": 13}, \"encoding\": {\"x\": {\"type\": \"quantitative\", \"field\": \"song_counts\"}, \"y\": {\"type\": \"nominal\", \"axis\": {\"labelFontSize\": 13, \"labelLimit\": 500}, \"field\": \"structure\", \"sort\": \"-x\", \"title\": null}}, \"height\": 300, \"title\": \"Top Country Song Structures\", \"width\": 150}], \"$schema\": \"https://vega.github.io/schema/vega-lite/v4.8.1.json\", \"datasets\": {\"data-907c7e2ecd35d75dbed96e2537a98347\": [{\"structure\": \"verse pre-chorus chorus verse pre-chorus chorus bridge chorus\", \"song_counts\": 51}, {\"structure\": \"verse chorus verse chorus bridge chorus\", \"song_counts\": 29}, {\"structure\": \"verse pre-chorus chorus verse pre-chorus chorus outro\", \"song_counts\": 26}, {\"structure\": \"intro chorus verse chorus verse chorus\", \"song_counts\": 22}, {\"structure\": \"verse pre-chorus chorus verse pre-chorus chorus bridge chorus outro\", \"song_counts\": 21}, {\"structure\": \"intro chorus verse chorus verse chorus outro\", \"song_counts\": 21}, {\"structure\": \"verse chorus verse chorus\", \"song_counts\": 18}, {\"structure\": \"verse pre-chorus chorus verse pre-chorus chorus\", \"song_counts\": 17}, {\"structure\": \"chorus verse chorus verse chorus\", \"song_counts\": 14}, {\"structure\": \"verse chorus verse chorus outro\", \"song_counts\": 13}], \"data-95081458562b64ea36613e9e36062c6b\": [{\"structure\": \"intro chorus verse chorus verse chorus\", \"song_counts\": 41}, {\"structure\": \"intro chorus verse chorus verse chorus outro\", \"song_counts\": 29}, {\"structure\": \"verse pre-chorus chorus verse pre-chorus chorus bridge chorus\", \"song_counts\": 26}, {\"structure\": \"chorus verse chorus verse chorus\", \"song_counts\": 19}, {\"structure\": \"verse chorus verse chorus\", \"song_counts\": 18}, {\"structure\": \"verse chorus verse chorus bridge chorus\", \"song_counts\": 16}, {\"structure\": \"intro chorus verse chorus verse chorus verse chorus\", \"song_counts\": 12}, {\"structure\": \"verse pre-chorus chorus verse pre-chorus chorus outro\", \"song_counts\": 10}, {\"structure\": \"intro chorus verse chorus verse chorus verse chorus outro\", \"song_counts\": 10}, {\"structure\": \"verse pre-chorus chorus verse pre-chorus chorus\", \"song_counts\": 10}], \"data-956494e9a060c6fba24d541ff95c996e\": [{\"structure\": \"verse chorus verse chorus bridge chorus\", \"song_counts\": 145}, {\"structure\": \"verse chorus verse chorus bridge chorus outro\", \"song_counts\": 116}, {\"structure\": \"verse pre-chorus chorus verse pre-chorus chorus bridge chorus\", \"song_counts\": 42}, {\"structure\": \"verse pre-chorus chorus verse pre-chorus chorus bridge chorus outro\", \"song_counts\": 25}, {\"structure\": \"verse chorus verse chorus outro\", \"song_counts\": 20}, {\"structure\": \"verse chorus verse chorus verse chorus\", \"song_counts\": 16}, {\"structure\": \"verse chorus verse chorus chorus\", \"song_counts\": 16}, {\"structure\": \"intro verse pre-chorus chorus verse pre-chorus chorus bridge chorus outro\", \"song_counts\": 14}, {\"structure\": \"intro verse chorus verse chorus bridge chorus outro\", \"song_counts\": 14}, {\"structure\": \"verse pre-chorus chorus verse pre-chorus chorus outro\", \"song_counts\": 12}]}}, {\"mode\": \"vega-lite\"});\n",
       "</script>"
      ],
      "text/plain": [
       "alt.HConcatChart(...)"
      ]
     },
     "execution_count": 85,
     "metadata": {},
     "output_type": "execute_result"
    }
   ],
   "source": [
    "alt.hconcat(rock, rb, cty)"
   ]
  },
  {
   "cell_type": "code",
   "execution_count": null,
   "metadata": {},
   "outputs": [],
   "source": []
  }
 ],
 "metadata": {
  "kernelspec": {
   "display_name": "Python 3",
   "language": "python",
   "name": "python3"
  },
  "language_info": {
   "codemirror_mode": {
    "name": "ipython",
    "version": 3
   },
   "file_extension": ".py",
   "mimetype": "text/x-python",
   "name": "python",
   "nbconvert_exporter": "python",
   "pygments_lexer": "ipython3",
   "version": "3.7.4"
  }
 },
 "nbformat": 4,
 "nbformat_minor": 2
}
