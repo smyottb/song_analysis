{
 "cells": [
  {
   "cell_type": "markdown",
   "metadata": {},
   "source": [
    "# Word Count Analysis"
   ]
  },
  {
   "cell_type": "code",
   "execution_count": 1,
   "metadata": {},
   "outputs": [],
   "source": [
    "#import libraries\n",
    "import pandas as pd\n",
    "from collections import Counter\n",
    "import numpy as np\n",
    "from wordcloud import WordCloud\n",
    "import matplotlib.pyplot as plt\n",
    "import altair as alt"
   ]
  },
  {
   "cell_type": "code",
   "execution_count": 2,
   "metadata": {},
   "outputs": [],
   "source": [
    "#import dataframes\n",
    "df_cty = pd.read_csv('df_cty_final.csv',converters={'words':eval})\n",
    "df_rb = pd.read_csv('df_rb_final.csv',converters={'words':eval})\n",
    "df_rock = pd.read_csv('df_rock_final.csv',converters={'words':eval})"
   ]
  },
  {
   "cell_type": "markdown",
   "metadata": {},
   "source": [
    "### Functions"
   ]
  },
  {
   "cell_type": "code",
   "execution_count": 3,
   "metadata": {},
   "outputs": [],
   "source": [
    "def word_count(word_list):\n",
    "    '''\n",
    "    ***REPLACED WITH TF-IDF CALCULATIONS (see below functions)***\n",
    "    function returns dataframe with word count information\n",
    "    parameter:\n",
    "        word_list-->list of word lists for each song in dataframe\n",
    "    '''\n",
    "    #initiate Counter object\n",
    "    word_counts = Counter() #number of times a word appears in all songs\n",
    "    \n",
    "    #iterate through lists of words in each song to update variable\n",
    "    for l in word_list:\n",
    "        word_counts.update(l)\n",
    "    \n",
    "    #create new dataframe with word and count columns\n",
    "    df = pd.DataFrame(data={'word':word_counts.keys(),\n",
    "                            'count':word_counts.values()})\n",
    "    \n",
    "    #add percent total column (based on total word count)\n",
    "    df['count_pct'] = df['count'].apply(lambda x: x/df['count'].sum())\n",
    "    \n",
    "    return df.sort_values(by='count',ascending=False)"
   ]
  },
  {
   "cell_type": "code",
   "execution_count": 57,
   "metadata": {},
   "outputs": [],
   "source": [
    "def calc_tf(song_list):\n",
    "    '''\n",
    "    function returns dataframe with term frequencies for song list\n",
    "    parameter:\n",
    "        song_list-->list of lists of words in each song\n",
    "            *['words'] column in genre dataframe\n",
    "    '''\n",
    "    corpus = set([word for song in song_list for word in song]) #set of all words in dataframe\n",
    "    \n",
    "    dict_list = [] #variable to hold dictionaries of word counts for each song\n",
    "    \n",
    "    #create dictionary with term frequencies for each song\n",
    "    for song in song_list:\n",
    "        d = dict.fromkeys(corpus,0)\n",
    "        for word in song:\n",
    "            d[word]+=1 #update word count\n",
    "        d = {k:v/len(song) for k,v in d.items()} #normalize word counts\n",
    "        dict_list.append(d) #add dictionary to dict_list\n",
    "    \n",
    "    #create dataframe with term frequencies\n",
    "    df=pd.DataFrame(dict_list)\n",
    "    \n",
    "    return df"
   ]
  },
  {
   "cell_type": "code",
   "execution_count": null,
   "metadata": {},
   "outputs": [],
   "source": [
    "def calc_idf(x):\n",
    "    return None"
   ]
  },
  {
   "cell_type": "code",
   "execution_count": 58,
   "metadata": {},
   "outputs": [
    {
     "data": {
      "text/plain": [
       "0       0.006211\n",
       "1       0.000000\n",
       "2       0.000000\n",
       "3       0.000000\n",
       "4       0.000000\n",
       "          ...   \n",
       "1010    0.000000\n",
       "1011    0.000000\n",
       "1012    0.004651\n",
       "1013    0.000000\n",
       "1014    0.000000\n",
       "Name: cold, Length: 1015, dtype: float64"
      ]
     },
     "execution_count": 58,
     "metadata": {},
     "output_type": "execute_result"
    }
   ],
   "source": [
    "calc_tf(df_cty['words'])['cold']"
   ]
  },
  {
   "cell_type": "code",
   "execution_count": 37,
   "metadata": {},
   "outputs": [
    {
     "data": {
      "text/plain": [
       "0       1\n",
       "1       0\n",
       "2       0\n",
       "3       0\n",
       "4       0\n",
       "       ..\n",
       "1010    0\n",
       "1011    0\n",
       "1012    1\n",
       "1013    0\n",
       "1014    0\n",
       "Name: cold, Length: 1015, dtype: int64"
      ]
     },
     "execution_count": 37,
     "metadata": {},
     "output_type": "execute_result"
    }
   ],
   "source": [
    "x['cold']"
   ]
  },
  {
   "cell_type": "code",
   "execution_count": 5,
   "metadata": {},
   "outputs": [],
   "source": [
    "def remove_num(text):\n",
    "    '''\n",
    "    function returns text with numbers removed\n",
    "    parameter:\n",
    "        text-->str\n",
    "    '''\n",
    "    for word in text:\n",
    "        try:\n",
    "            int(word)\n",
    "            text.remove(word)\n",
    "        except:\n",
    "            pass\n",
    "    return text"
   ]
  },
  {
   "cell_type": "markdown",
   "metadata": {},
   "source": [
    "### Create Dataframes with Word Counts"
   ]
  },
  {
   "cell_type": "code",
   "execution_count": 6,
   "metadata": {},
   "outputs": [],
   "source": [
    "#remove numbers from dataframs\n",
    "df_cty['words'] = df_cty['words'].apply(remove_num)\n",
    "df_rb['words'] = df_rb['words'].apply(remove_num)\n",
    "df_rock['words'] = df_rock['words'].apply(remove_num)"
   ]
  },
  {
   "cell_type": "code",
   "execution_count": 8,
   "metadata": {},
   "outputs": [
    {
     "data": {
      "text/html": [
       "<div>\n",
       "<style scoped>\n",
       "    .dataframe tbody tr th:only-of-type {\n",
       "        vertical-align: middle;\n",
       "    }\n",
       "\n",
       "    .dataframe tbody tr th {\n",
       "        vertical-align: top;\n",
       "    }\n",
       "\n",
       "    .dataframe thead th {\n",
       "        text-align: right;\n",
       "    }\n",
       "</style>\n",
       "<table border=\"1\" class=\"dataframe\">\n",
       "  <thead>\n",
       "    <tr style=\"text-align: right;\">\n",
       "      <th></th>\n",
       "      <th>word</th>\n",
       "      <th>count</th>\n",
       "      <th>count_pct</th>\n",
       "    </tr>\n",
       "  </thead>\n",
       "  <tbody>\n",
       "    <tr>\n",
       "      <th>52</th>\n",
       "      <td>like</td>\n",
       "      <td>3485</td>\n",
       "      <td>0.011275</td>\n",
       "    </tr>\n",
       "    <tr>\n",
       "      <th>78</th>\n",
       "      <td>know</td>\n",
       "      <td>2785</td>\n",
       "      <td>0.009011</td>\n",
       "    </tr>\n",
       "    <tr>\n",
       "      <th>77</th>\n",
       "      <td>yeah</td>\n",
       "      <td>2538</td>\n",
       "      <td>0.008212</td>\n",
       "    </tr>\n",
       "    <tr>\n",
       "      <th>51</th>\n",
       "      <td>love</td>\n",
       "      <td>2331</td>\n",
       "      <td>0.007542</td>\n",
       "    </tr>\n",
       "    <tr>\n",
       "      <th>82</th>\n",
       "      <td>one</td>\n",
       "      <td>2194</td>\n",
       "      <td>0.007099</td>\n",
       "    </tr>\n",
       "    <tr>\n",
       "      <th>2</th>\n",
       "      <td>got</td>\n",
       "      <td>1975</td>\n",
       "      <td>0.006390</td>\n",
       "    </tr>\n",
       "    <tr>\n",
       "      <th>11</th>\n",
       "      <td>get</td>\n",
       "      <td>1872</td>\n",
       "      <td>0.006057</td>\n",
       "    </tr>\n",
       "    <tr>\n",
       "      <th>113</th>\n",
       "      <td>oh</td>\n",
       "      <td>1790</td>\n",
       "      <td>0.005791</td>\n",
       "    </tr>\n",
       "    <tr>\n",
       "      <th>29</th>\n",
       "      <td>time</td>\n",
       "      <td>1729</td>\n",
       "      <td>0.005594</td>\n",
       "    </tr>\n",
       "    <tr>\n",
       "      <th>206</th>\n",
       "      <td>go</td>\n",
       "      <td>1597</td>\n",
       "      <td>0.005167</td>\n",
       "    </tr>\n",
       "  </tbody>\n",
       "</table>\n",
       "</div>"
      ],
      "text/plain": [
       "     word  count  count_pct\n",
       "52   like   3485   0.011275\n",
       "78   know   2785   0.009011\n",
       "77   yeah   2538   0.008212\n",
       "51   love   2331   0.007542\n",
       "82    one   2194   0.007099\n",
       "2     got   1975   0.006390\n",
       "11    get   1872   0.006057\n",
       "113    oh   1790   0.005791\n",
       "29   time   1729   0.005594\n",
       "206    go   1597   0.005167"
      ]
     },
     "execution_count": 8,
     "metadata": {},
     "output_type": "execute_result"
    }
   ],
   "source": [
    "#country songs - top 5 words\n",
    "df_cty_count.head(10)"
   ]
  },
  {
   "cell_type": "code",
   "execution_count": 14,
   "metadata": {},
   "outputs": [],
   "source": [
    "def norm_count(df,other_dfs):\n",
    "    '''\n",
    "    function adds column with normalized word count\n",
    "        *uses TF-IDF\n",
    "        *# of times word appears in this df/# of dfs in which word appears\n",
    "    parameters:\n",
    "        df-->dataframe to amend\n",
    "        other_dfs-->list of dataframes for comparison\n",
    "    '''\n",
    "    norm_list = [] #initiate list for normalized word counts\n",
    "    \n",
    "    #divide word count by # of dataframes in which word appears\n",
    "    for i in range(len(df)):\n",
    "        count=1\n",
    "        for d in other_dfs:\n",
    "            count+=len(d[d['word']==df.iloc[i]['word']])\n",
    "            #for j in range(len(d)):\n",
    "             #   if df.iloc[i]['word'] == d.iloc[j]['word']:\n",
    "                    #count+=1\n",
    "            #if d['word'].str.contains('Mel').any()\n",
    "            \n",
    "            #\n",
    "        norm_list.append(df.iloc[i]['count']/count)\n",
    "        \n",
    "    df['norm_count'] = norm_list\n",
    "    \n",
    "    return df"
   ]
  },
  {
   "cell_type": "code",
   "execution_count": 15,
   "metadata": {},
   "outputs": [],
   "source": [
    "df_cty_count = norm_count(df_cty_count,[df_rb_count,df_rock_count])"
   ]
  },
  {
   "cell_type": "code",
   "execution_count": 17,
   "metadata": {},
   "outputs": [
    {
     "data": {
      "text/html": [
       "<div>\n",
       "<style scoped>\n",
       "    .dataframe tbody tr th:only-of-type {\n",
       "        vertical-align: middle;\n",
       "    }\n",
       "\n",
       "    .dataframe tbody tr th {\n",
       "        vertical-align: top;\n",
       "    }\n",
       "\n",
       "    .dataframe thead th {\n",
       "        text-align: right;\n",
       "    }\n",
       "</style>\n",
       "<table border=\"1\" class=\"dataframe\">\n",
       "  <thead>\n",
       "    <tr style=\"text-align: right;\">\n",
       "      <th></th>\n",
       "      <th>word</th>\n",
       "      <th>count</th>\n",
       "      <th>count_pct</th>\n",
       "      <th>norm_count</th>\n",
       "    </tr>\n",
       "  </thead>\n",
       "  <tbody>\n",
       "    <tr>\n",
       "      <th>52</th>\n",
       "      <td>like</td>\n",
       "      <td>3485</td>\n",
       "      <td>0.011275</td>\n",
       "      <td>1161.666667</td>\n",
       "    </tr>\n",
       "    <tr>\n",
       "      <th>78</th>\n",
       "      <td>know</td>\n",
       "      <td>2785</td>\n",
       "      <td>0.009011</td>\n",
       "      <td>928.333333</td>\n",
       "    </tr>\n",
       "    <tr>\n",
       "      <th>77</th>\n",
       "      <td>yeah</td>\n",
       "      <td>2538</td>\n",
       "      <td>0.008212</td>\n",
       "      <td>846.000000</td>\n",
       "    </tr>\n",
       "    <tr>\n",
       "      <th>51</th>\n",
       "      <td>love</td>\n",
       "      <td>2331</td>\n",
       "      <td>0.007542</td>\n",
       "      <td>777.000000</td>\n",
       "    </tr>\n",
       "    <tr>\n",
       "      <th>82</th>\n",
       "      <td>one</td>\n",
       "      <td>2194</td>\n",
       "      <td>0.007099</td>\n",
       "      <td>731.333333</td>\n",
       "    </tr>\n",
       "    <tr>\n",
       "      <th>...</th>\n",
       "      <td>...</td>\n",
       "      <td>...</td>\n",
       "      <td>...</td>\n",
       "      <td>...</td>\n",
       "    </tr>\n",
       "    <tr>\n",
       "      <th>16005</th>\n",
       "      <td>tiffany</td>\n",
       "      <td>1</td>\n",
       "      <td>0.000003</td>\n",
       "      <td>0.333333</td>\n",
       "    </tr>\n",
       "    <tr>\n",
       "      <th>15171</th>\n",
       "      <td>gnash</td>\n",
       "      <td>1</td>\n",
       "      <td>0.000003</td>\n",
       "      <td>0.333333</td>\n",
       "    </tr>\n",
       "    <tr>\n",
       "      <th>26220</th>\n",
       "      <td>84</td>\n",
       "      <td>1</td>\n",
       "      <td>0.000003</td>\n",
       "      <td>0.333333</td>\n",
       "    </tr>\n",
       "    <tr>\n",
       "      <th>16011</th>\n",
       "      <td>maximillian</td>\n",
       "      <td>1</td>\n",
       "      <td>0.000003</td>\n",
       "      <td>0.333333</td>\n",
       "    </tr>\n",
       "    <tr>\n",
       "      <th>12995</th>\n",
       "      <td>thunderstorm</td>\n",
       "      <td>1</td>\n",
       "      <td>0.000003</td>\n",
       "      <td>0.333333</td>\n",
       "    </tr>\n",
       "  </tbody>\n",
       "</table>\n",
       "<p>27119 rows × 4 columns</p>\n",
       "</div>"
      ],
      "text/plain": [
       "               word  count  count_pct   norm_count\n",
       "52             like   3485   0.011275  1161.666667\n",
       "78             know   2785   0.009011   928.333333\n",
       "77             yeah   2538   0.008212   846.000000\n",
       "51             love   2331   0.007542   777.000000\n",
       "82              one   2194   0.007099   731.333333\n",
       "...             ...    ...        ...          ...\n",
       "16005       tiffany      1   0.000003     0.333333\n",
       "15171         gnash      1   0.000003     0.333333\n",
       "26220            84      1   0.000003     0.333333\n",
       "16011   maximillian      1   0.000003     0.333333\n",
       "12995  thunderstorm      1   0.000003     0.333333\n",
       "\n",
       "[27119 rows x 4 columns]"
      ]
     },
     "execution_count": 17,
     "metadata": {},
     "output_type": "execute_result"
    }
   ],
   "source": [
    "df_cty_count.sort_values('norm_count',ascending=False)"
   ]
  },
  {
   "cell_type": "markdown",
   "metadata": {},
   "source": [
    "### Generate Word Clouds"
   ]
  },
  {
   "cell_type": "code",
   "execution_count": null,
   "metadata": {},
   "outputs": [],
   "source": [
    "#initialize word cloud generator\n",
    "wc = WordCloud(max_words=100,background_color='white')"
   ]
  },
  {
   "cell_type": "code",
   "execution_count": null,
   "metadata": {},
   "outputs": [],
   "source": [
    "#country\n",
    "\n",
    "\n",
    "#word cloud for country songs\n",
    "#dictionary to generate word cloud\n",
    "cty_cloud_data = dict(zip(df_cty_count['word'].tolist(), df_cty_count['count'].tolist()))\n",
    "\n",
    "#generate word cloud\n",
    "plt.figure(figsize=(10,8))\n",
    "#cty_cloud = wc.generate_from_frequencies(cty_cloud_data)\n",
    "plt.imshow(wc.generate_from_frequencies(cty_cloud_data),interpolation=\"bilinear\")\n",
    "plt.axis(\"off\")\n",
    "plt.show()\n",
    "#plt.savefig('my_fig.png')\n",
    "#plt.close()\n"
   ]
  },
  {
   "cell_type": "markdown",
   "metadata": {},
   "source": [
    "### Generate Histograms of Top 10 Words"
   ]
  },
  {
   "cell_type": "code",
   "execution_count": null,
   "metadata": {},
   "outputs": [],
   "source": [
    "plt.figure(figsize=(8,8))\n",
    "cty_bar = plt.bar(df_cty_count.iloc[0:10]['word'],df_cty_count.iloc[0:10]['count'])"
   ]
  },
  {
   "cell_type": "code",
   "execution_count": null,
   "metadata": {},
   "outputs": [],
   "source": [
    "#plt.figure(figsize = (12, 8))\n",
    "#plt.imshow(x, interpolation=\"bilinear\")\n",
    "#plt.axis(\"off\")\n",
    "#plt.show()"
   ]
  },
  {
   "cell_type": "markdown",
   "metadata": {},
   "source": [
    "### Save Images to File"
   ]
  },
  {
   "cell_type": "code",
   "execution_count": null,
   "metadata": {},
   "outputs": [],
   "source": []
  },
  {
   "cell_type": "code",
   "execution_count": null,
   "metadata": {},
   "outputs": [],
   "source": [
    "\n",
    "rb_cloud_data = dict(zip(df_rb_count['word'].tolist(), df_rb_count['count'].tolist()))\n",
    "\n",
    "#generate word cloud\n",
    "plt.figure(figsize=(10,8))\n",
    "wc.generate_from_frequencies(rb_cloud_data)\n",
    "plt.imshow(x, interpolation=\"bilinear\")\n",
    "plt.axis(\"off\")\n",
    "#plt.savefig('my_fig.png')\n",
    "plt.close()"
   ]
  }
 ],
 "metadata": {
  "kernelspec": {
   "display_name": "Python 3",
   "language": "python",
   "name": "python3"
  },
  "language_info": {
   "codemirror_mode": {
    "name": "ipython",
    "version": 3
   },
   "file_extension": ".py",
   "mimetype": "text/x-python",
   "name": "python",
   "nbconvert_exporter": "python",
   "pygments_lexer": "ipython3",
   "version": "3.8.5"
  }
 },
 "nbformat": 4,
 "nbformat_minor": 4
}
