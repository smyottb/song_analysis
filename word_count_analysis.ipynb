{
 "cells": [
  {
   "cell_type": "markdown",
   "metadata": {},
   "source": [
    "# Word Count Analysis"
   ]
  },
  {
   "cell_type": "code",
   "execution_count": 1,
   "metadata": {},
   "outputs": [],
   "source": [
    "#import libraries\n",
    "import pandas as pd\n",
    "from collections import Counter\n",
    "import numpy as np"
   ]
  },
  {
   "cell_type": "code",
   "execution_count": 2,
   "metadata": {},
   "outputs": [],
   "source": [
    "#import dataframes\n",
    "df_cty = pd.read_csv('df_cty_final.csv',converters={'words': eval})\n",
    "df_rb = pd.read_csv('df_rb_final.csv',converters={'words': eval})\n",
    "df_rock = pd.read_csv('df_rock_final.csv',converters={'words': eval})"
   ]
  },
  {
   "cell_type": "markdown",
   "metadata": {},
   "source": [
    "### Functions"
   ]
  },
  {
   "cell_type": "code",
   "execution_count": 3,
   "metadata": {},
   "outputs": [],
   "source": [
    "def word_count(word_list):\n",
    "    '''\n",
    "    function\n",
    "    parameters:\n",
    "        word_list-->list of word lists for each song in dataframe\n",
    "    '''\n",
    "    #initiate Counter objects\n",
    "    word_counts = Counter() #number of times a word appears in all songs\n",
    "    appears_in = Counter() #number of songs in which a word appears\n",
    "    \n",
    "    #iterate through lists of words in each song to update variables\n",
    "    for l in word_list:\n",
    "        word_counts.update(l)\n",
    "        appears_in.update(set(l))\n",
    "    \n",
    "    #create new dataframe with word, count, and appears_in columns\n",
    "    df = pd.DataFrame(data={'word':word_counts.keys(),\n",
    "                            'count':word_counts.values(),\n",
    "                            'appears_in':appears_in.values()})\n",
    "    \n",
    "    #add percent total column (based on total word count)\n",
    "    df['count_pct'] = df['count'].apply(lambda x: x/df['count'].sum())\n",
    "    \n",
    "    #add appears in percent column (based on total number of songs)\n",
    "    df['appears_in_pct'] = df['appears_in'].apply(lambda x: x/len(word_list))\n",
    "    \n",
    "    return df.sort_values(by='count',ascending=False).set_index('word')"
   ]
  },
  {
   "cell_type": "code",
   "execution_count": 4,
   "metadata": {},
   "outputs": [],
   "source": [
    "def remove_num(text):\n",
    "    '''\n",
    "    function\n",
    "    parameter:\n",
    "        text-->\n",
    "    '''\n",
    "    for word in text:\n",
    "        try:\n",
    "            int(word)\n",
    "            text.remove(word)\n",
    "        except:\n",
    "            pass\n",
    "    return text"
   ]
  },
  {
   "cell_type": "code",
   "execution_count": 5,
   "metadata": {},
   "outputs": [],
   "source": [
    "#remove numbers from dataframs\n",
    "df_cty['words'] = df_cty['words'].apply(remove_num)\n",
    "df_rb['words'] = df_rb['words'].apply(remove_num)\n",
    "df_rock['words'] = df_rock['words'].apply(remove_num)"
   ]
  },
  {
   "cell_type": "code",
   "execution_count": 6,
   "metadata": {},
   "outputs": [],
   "source": [
    "#create dataframes with word counts\n",
    "df_cty_count = word_count(df_cty['words'])\n",
    "df_rb_count = word_count(df_rb['words'])\n",
    "df_rock_count = word_count(df_rock['words'])"
   ]
  },
  {
   "cell_type": "code",
   "execution_count": 7,
   "metadata": {},
   "outputs": [
    {
     "data": {
      "text/html": [
       "<div>\n",
       "<style scoped>\n",
       "    .dataframe tbody tr th:only-of-type {\n",
       "        vertical-align: middle;\n",
       "    }\n",
       "\n",
       "    .dataframe tbody tr th {\n",
       "        vertical-align: top;\n",
       "    }\n",
       "\n",
       "    .dataframe thead th {\n",
       "        text-align: right;\n",
       "    }\n",
       "</style>\n",
       "<table border=\"1\" class=\"dataframe\">\n",
       "  <thead>\n",
       "    <tr style=\"text-align: right;\">\n",
       "      <th></th>\n",
       "      <th>count</th>\n",
       "      <th>appears_in</th>\n",
       "      <th>count_pct</th>\n",
       "      <th>appears_in_pct</th>\n",
       "    </tr>\n",
       "    <tr>\n",
       "      <th>word</th>\n",
       "      <th></th>\n",
       "      <th></th>\n",
       "      <th></th>\n",
       "      <th></th>\n",
       "    </tr>\n",
       "  </thead>\n",
       "  <tbody>\n",
       "    <tr>\n",
       "      <th>like</th>\n",
       "      <td>3485</td>\n",
       "      <td>26</td>\n",
       "      <td>0.011275</td>\n",
       "      <td>0.025616</td>\n",
       "    </tr>\n",
       "    <tr>\n",
       "      <th>know</th>\n",
       "      <td>2785</td>\n",
       "      <td>118</td>\n",
       "      <td>0.009011</td>\n",
       "      <td>0.116256</td>\n",
       "    </tr>\n",
       "    <tr>\n",
       "      <th>yeah</th>\n",
       "      <td>2538</td>\n",
       "      <td>30</td>\n",
       "      <td>0.008212</td>\n",
       "      <td>0.029557</td>\n",
       "    </tr>\n",
       "    <tr>\n",
       "      <th>love</th>\n",
       "      <td>2331</td>\n",
       "      <td>142</td>\n",
       "      <td>0.007542</td>\n",
       "      <td>0.139901</td>\n",
       "    </tr>\n",
       "    <tr>\n",
       "      <th>one</th>\n",
       "      <td>2194</td>\n",
       "      <td>13</td>\n",
       "      <td>0.007099</td>\n",
       "      <td>0.012808</td>\n",
       "    </tr>\n",
       "    <tr>\n",
       "      <th>...</th>\n",
       "      <td>...</td>\n",
       "      <td>...</td>\n",
       "      <td>...</td>\n",
       "      <td>...</td>\n",
       "    </tr>\n",
       "    <tr>\n",
       "      <th>enterprise</th>\n",
       "      <td>1</td>\n",
       "      <td>2</td>\n",
       "      <td>0.000003</td>\n",
       "      <td>0.001970</td>\n",
       "    </tr>\n",
       "    <tr>\n",
       "      <th>peopleit</th>\n",
       "      <td>1</td>\n",
       "      <td>1</td>\n",
       "      <td>0.000003</td>\n",
       "      <td>0.000985</td>\n",
       "    </tr>\n",
       "    <tr>\n",
       "      <th>satyriasis</th>\n",
       "      <td>1</td>\n",
       "      <td>1</td>\n",
       "      <td>0.000003</td>\n",
       "      <td>0.000985</td>\n",
       "    </tr>\n",
       "    <tr>\n",
       "      <th>nymphomania</th>\n",
       "      <td>1</td>\n",
       "      <td>1</td>\n",
       "      <td>0.000003</td>\n",
       "      <td>0.000985</td>\n",
       "    </tr>\n",
       "    <tr>\n",
       "      <th>kur</th>\n",
       "      <td>1</td>\n",
       "      <td>3</td>\n",
       "      <td>0.000003</td>\n",
       "      <td>0.002956</td>\n",
       "    </tr>\n",
       "  </tbody>\n",
       "</table>\n",
       "<p>27119 rows × 4 columns</p>\n",
       "</div>"
      ],
      "text/plain": [
       "             count  appears_in  count_pct  appears_in_pct\n",
       "word                                                     \n",
       "like          3485          26   0.011275        0.025616\n",
       "know          2785         118   0.009011        0.116256\n",
       "yeah          2538          30   0.008212        0.029557\n",
       "love          2331         142   0.007542        0.139901\n",
       "one           2194          13   0.007099        0.012808\n",
       "...            ...         ...        ...             ...\n",
       "enterprise       1           2   0.000003        0.001970\n",
       "peopleit         1           1   0.000003        0.000985\n",
       "satyriasis       1           1   0.000003        0.000985\n",
       "nymphomania      1           1   0.000003        0.000985\n",
       "kur              1           3   0.000003        0.002956\n",
       "\n",
       "[27119 rows x 4 columns]"
      ]
     },
     "execution_count": 7,
     "metadata": {},
     "output_type": "execute_result"
    }
   ],
   "source": [
    "df_cty_count"
   ]
  },
  {
   "cell_type": "code",
   "execution_count": null,
   "metadata": {},
   "outputs": [],
   "source": []
  }
 ],
 "metadata": {
  "kernelspec": {
   "display_name": "Python 3",
   "language": "python",
   "name": "python3"
  },
  "language_info": {
   "codemirror_mode": {
    "name": "ipython",
    "version": 3
   },
   "file_extension": ".py",
   "mimetype": "text/x-python",
   "name": "python",
   "nbconvert_exporter": "python",
   "pygments_lexer": "ipython3",
   "version": "3.8.5"
  }
 },
 "nbformat": 4,
 "nbformat_minor": 4
}
