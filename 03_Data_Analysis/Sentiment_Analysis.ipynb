{
 "cells": [
  {
   "cell_type": "markdown",
   "metadata": {},
   "source": [
    "# Sentiment Analysis"
   ]
  },
  {
   "cell_type": "code",
   "execution_count": 136,
   "metadata": {},
   "outputs": [],
   "source": [
    "import numpy as np \n",
    "import pandas as pd \n",
    "import re\n",
    "import nltk \n",
    "from nltk.sentiment import SentimentIntensityAnalyzer\n",
    "%matplotlib inline\n",
    "\n",
    "import altair as alt"
   ]
  },
  {
   "cell_type": "code",
   "execution_count": 230,
   "metadata": {
    "scrolled": true
   },
   "outputs": [
    {
     "data": {
      "text/plain": [
       "DataTransformerRegistry.enable('default')"
      ]
     },
     "execution_count": 230,
     "metadata": {},
     "output_type": "execute_result"
    }
   ],
   "source": [
    "# Disabling max rows set by alt air\n",
    "alt.data_transformers.disable_max_rows()"
   ]
  },
  {
   "cell_type": "markdown",
   "metadata": {},
   "source": [
    "#### Loading Data"
   ]
  },
  {
   "cell_type": "code",
   "execution_count": 96,
   "metadata": {},
   "outputs": [],
   "source": [
    "df_cty_all = pd.read_csv('../Data/df_cty_final.csv')\n",
    "df_rock_all = pd.read_csv('../Data/df_rock_final.csv')\n",
    "df_rb_all = pd.read_csv('../Data/df_rb_final.csv')"
   ]
  },
  {
   "cell_type": "code",
   "execution_count": 74,
   "metadata": {},
   "outputs": [],
   "source": [
    "df_cty = pd.read_csv('../Data/df_for_cty_ngrams.csv').fillna('NA')\n",
    "df_rock = pd.read_csv('../Data/df_for_rock_ngrams.csv').fillna('NA')\n",
    "df_rb = pd.read_csv('../Data/df_for_rb_ngrams').fillna('NA')"
   ]
  },
  {
   "cell_type": "markdown",
   "metadata": {},
   "source": [
    "### Fucntions"
   ]
  },
  {
   "cell_type": "markdown",
   "metadata": {},
   "source": [
    "Finding all strings that match my regex, the specific regex that I am using returns any word or number, also will return certain special characters"
   ]
  },
  {
   "cell_type": "code",
   "execution_count": 38,
   "metadata": {},
   "outputs": [],
   "source": [
    "def remove_stop(line):\n",
    "    #WORD_RE = re.compile(r\"[A-Za-z0-9_\\-]+\")\n",
    "    WORD_RE = re.compile(r'\\b\\S+\\b')\n",
    "    token = WORD_RE.findall(line)\n",
    "    tokens = [w.lower().replace('\\\\u',' ').replace(\"205f\",'').replace(\"2005\",'').replace(\"\\\\\",'') for w in token if w.lower()]\n",
    "    return tokens"
   ]
  },
  {
   "cell_type": "markdown",
   "metadata": {},
   "source": [
    "### Sentiment Intensity Analyzer"
   ]
  },
  {
   "cell_type": "markdown",
   "metadata": {},
   "source": [
    "Returns if a corpus of words are negative , neu , pos , and compound"
   ]
  },
  {
   "cell_type": "code",
   "execution_count": 89,
   "metadata": {},
   "outputs": [],
   "source": [
    "def get_sentiment(df, col):\n",
    "    dicts = {'neg': [], 'neu': [], 'pos': [], 'compound':[]}\n",
    "    sia = SentimentIntensityAnalyzer()\n",
    "    \n",
    "     \n",
    "    for i in range(len(df)):\n",
    "        for key,value in sia.polarity_scores(' '.join(remove_stop(df[col].iloc[i].strip('][')))).items():\n",
    "            dicts[key].append(value)\n",
    "\n",
    "    return pd.DataFrame(dicts)"
   ]
  },
  {
   "cell_type": "code",
   "execution_count": 111,
   "metadata": {
    "scrolled": true
   },
   "outputs": [
    {
     "data": {
      "text/html": [
       "<div>\n",
       "<style scoped>\n",
       "    .dataframe tbody tr th:only-of-type {\n",
       "        vertical-align: middle;\n",
       "    }\n",
       "\n",
       "    .dataframe tbody tr th {\n",
       "        vertical-align: top;\n",
       "    }\n",
       "\n",
       "    .dataframe thead th {\n",
       "        text-align: right;\n",
       "    }\n",
       "</style>\n",
       "<table border=\"1\" class=\"dataframe\">\n",
       "  <thead>\n",
       "    <tr style=\"text-align: right;\">\n",
       "      <th></th>\n",
       "      <th>neg</th>\n",
       "      <th>neu</th>\n",
       "      <th>pos</th>\n",
       "      <th>compound</th>\n",
       "    </tr>\n",
       "  </thead>\n",
       "  <tbody>\n",
       "    <tr>\n",
       "      <th>count</th>\n",
       "      <td>1004.000000</td>\n",
       "      <td>1004.000000</td>\n",
       "      <td>1004.000000</td>\n",
       "      <td>1004.000000</td>\n",
       "    </tr>\n",
       "    <tr>\n",
       "      <th>mean</th>\n",
       "      <td>0.159663</td>\n",
       "      <td>0.604218</td>\n",
       "      <td>0.236122</td>\n",
       "      <td>0.290040</td>\n",
       "    </tr>\n",
       "    <tr>\n",
       "      <th>std</th>\n",
       "      <td>0.108938</td>\n",
       "      <td>0.135197</td>\n",
       "      <td>0.119651</td>\n",
       "      <td>0.877743</td>\n",
       "    </tr>\n",
       "    <tr>\n",
       "      <th>min</th>\n",
       "      <td>0.000000</td>\n",
       "      <td>0.146000</td>\n",
       "      <td>0.000000</td>\n",
       "      <td>-0.999900</td>\n",
       "    </tr>\n",
       "    <tr>\n",
       "      <th>25%</th>\n",
       "      <td>0.078000</td>\n",
       "      <td>0.523000</td>\n",
       "      <td>0.153000</td>\n",
       "      <td>-0.895075</td>\n",
       "    </tr>\n",
       "    <tr>\n",
       "      <th>50%</th>\n",
       "      <td>0.140000</td>\n",
       "      <td>0.602000</td>\n",
       "      <td>0.218000</td>\n",
       "      <td>0.941300</td>\n",
       "    </tr>\n",
       "    <tr>\n",
       "      <th>75%</th>\n",
       "      <td>0.219000</td>\n",
       "      <td>0.688000</td>\n",
       "      <td>0.308250</td>\n",
       "      <td>0.993525</td>\n",
       "    </tr>\n",
       "    <tr>\n",
       "      <th>max</th>\n",
       "      <td>0.715000</td>\n",
       "      <td>1.000000</td>\n",
       "      <td>0.747000</td>\n",
       "      <td>1.000000</td>\n",
       "    </tr>\n",
       "  </tbody>\n",
       "</table>\n",
       "</div>"
      ],
      "text/plain": [
       "               neg          neu          pos     compound\n",
       "count  1004.000000  1004.000000  1004.000000  1004.000000\n",
       "mean      0.159663     0.604218     0.236122     0.290040\n",
       "std       0.108938     0.135197     0.119651     0.877743\n",
       "min       0.000000     0.146000     0.000000    -0.999900\n",
       "25%       0.078000     0.523000     0.153000    -0.895075\n",
       "50%       0.140000     0.602000     0.218000     0.941300\n",
       "75%       0.219000     0.688000     0.308250     0.993525\n",
       "max       0.715000     1.000000     0.747000     1.000000"
      ]
     },
     "execution_count": 111,
     "metadata": {},
     "output_type": "execute_result"
    }
   ],
   "source": [
    "get_sentiment(df_rb_all , 'words').describe()"
   ]
  },
  {
   "cell_type": "code",
   "execution_count": 110,
   "metadata": {
    "scrolled": false
   },
   "outputs": [
    {
     "data": {
      "text/html": [
       "<div>\n",
       "<style scoped>\n",
       "    .dataframe tbody tr th:only-of-type {\n",
       "        vertical-align: middle;\n",
       "    }\n",
       "\n",
       "    .dataframe tbody tr th {\n",
       "        vertical-align: top;\n",
       "    }\n",
       "\n",
       "    .dataframe thead th {\n",
       "        text-align: right;\n",
       "    }\n",
       "</style>\n",
       "<table border=\"1\" class=\"dataframe\">\n",
       "  <thead>\n",
       "    <tr style=\"text-align: right;\">\n",
       "      <th></th>\n",
       "      <th>neg</th>\n",
       "      <th>neu</th>\n",
       "      <th>pos</th>\n",
       "      <th>compound</th>\n",
       "    </tr>\n",
       "  </thead>\n",
       "  <tbody>\n",
       "    <tr>\n",
       "      <th>count</th>\n",
       "      <td>1066.000000</td>\n",
       "      <td>1066.000000</td>\n",
       "      <td>1066.000000</td>\n",
       "      <td>1066.000000</td>\n",
       "    </tr>\n",
       "    <tr>\n",
       "      <th>mean</th>\n",
       "      <td>0.164172</td>\n",
       "      <td>0.591174</td>\n",
       "      <td>0.244656</td>\n",
       "      <td>0.329583</td>\n",
       "    </tr>\n",
       "    <tr>\n",
       "      <th>std</th>\n",
       "      <td>0.104154</td>\n",
       "      <td>0.137673</td>\n",
       "      <td>0.119618</td>\n",
       "      <td>0.843333</td>\n",
       "    </tr>\n",
       "    <tr>\n",
       "      <th>min</th>\n",
       "      <td>0.000000</td>\n",
       "      <td>0.118000</td>\n",
       "      <td>0.000000</td>\n",
       "      <td>-0.999900</td>\n",
       "    </tr>\n",
       "    <tr>\n",
       "      <th>25%</th>\n",
       "      <td>0.087250</td>\n",
       "      <td>0.497000</td>\n",
       "      <td>0.155000</td>\n",
       "      <td>-0.770025</td>\n",
       "    </tr>\n",
       "    <tr>\n",
       "      <th>50%</th>\n",
       "      <td>0.148500</td>\n",
       "      <td>0.585000</td>\n",
       "      <td>0.234500</td>\n",
       "      <td>0.933750</td>\n",
       "    </tr>\n",
       "    <tr>\n",
       "      <th>75%</th>\n",
       "      <td>0.223750</td>\n",
       "      <td>0.678000</td>\n",
       "      <td>0.318000</td>\n",
       "      <td>0.991100</td>\n",
       "    </tr>\n",
       "    <tr>\n",
       "      <th>max</th>\n",
       "      <td>0.590000</td>\n",
       "      <td>1.000000</td>\n",
       "      <td>0.808000</td>\n",
       "      <td>0.999800</td>\n",
       "    </tr>\n",
       "  </tbody>\n",
       "</table>\n",
       "</div>"
      ],
      "text/plain": [
       "               neg          neu          pos     compound\n",
       "count  1066.000000  1066.000000  1066.000000  1066.000000\n",
       "mean      0.164172     0.591174     0.244656     0.329583\n",
       "std       0.104154     0.137673     0.119618     0.843333\n",
       "min       0.000000     0.118000     0.000000    -0.999900\n",
       "25%       0.087250     0.497000     0.155000    -0.770025\n",
       "50%       0.148500     0.585000     0.234500     0.933750\n",
       "75%       0.223750     0.678000     0.318000     0.991100\n",
       "max       0.590000     1.000000     0.808000     0.999800"
      ]
     },
     "execution_count": 110,
     "metadata": {},
     "output_type": "execute_result"
    }
   ],
   "source": [
    "get_sentiment(df_rock_all , 'words').describe()"
   ]
  },
  {
   "cell_type": "code",
   "execution_count": 109,
   "metadata": {},
   "outputs": [
    {
     "data": {
      "text/html": [
       "<div>\n",
       "<style scoped>\n",
       "    .dataframe tbody tr th:only-of-type {\n",
       "        vertical-align: middle;\n",
       "    }\n",
       "\n",
       "    .dataframe tbody tr th {\n",
       "        vertical-align: top;\n",
       "    }\n",
       "\n",
       "    .dataframe thead th {\n",
       "        text-align: right;\n",
       "    }\n",
       "</style>\n",
       "<table border=\"1\" class=\"dataframe\">\n",
       "  <thead>\n",
       "    <tr style=\"text-align: right;\">\n",
       "      <th></th>\n",
       "      <th>neg</th>\n",
       "      <th>neu</th>\n",
       "      <th>pos</th>\n",
       "      <th>compound</th>\n",
       "    </tr>\n",
       "  </thead>\n",
       "  <tbody>\n",
       "    <tr>\n",
       "      <th>count</th>\n",
       "      <td>1015.000000</td>\n",
       "      <td>1015.000000</td>\n",
       "      <td>1015.000000</td>\n",
       "      <td>1015.000000</td>\n",
       "    </tr>\n",
       "    <tr>\n",
       "      <th>mean</th>\n",
       "      <td>0.115074</td>\n",
       "      <td>0.631357</td>\n",
       "      <td>0.253572</td>\n",
       "      <td>0.609056</td>\n",
       "    </tr>\n",
       "    <tr>\n",
       "      <th>std</th>\n",
       "      <td>0.084524</td>\n",
       "      <td>0.126109</td>\n",
       "      <td>0.117490</td>\n",
       "      <td>0.681318</td>\n",
       "    </tr>\n",
       "    <tr>\n",
       "      <th>min</th>\n",
       "      <td>0.000000</td>\n",
       "      <td>0.251000</td>\n",
       "      <td>0.000000</td>\n",
       "      <td>-0.999900</td>\n",
       "    </tr>\n",
       "    <tr>\n",
       "      <th>25%</th>\n",
       "      <td>0.050500</td>\n",
       "      <td>0.553000</td>\n",
       "      <td>0.166500</td>\n",
       "      <td>0.687650</td>\n",
       "    </tr>\n",
       "    <tr>\n",
       "      <th>50%</th>\n",
       "      <td>0.099000</td>\n",
       "      <td>0.640000</td>\n",
       "      <td>0.236000</td>\n",
       "      <td>0.973100</td>\n",
       "    </tr>\n",
       "    <tr>\n",
       "      <th>75%</th>\n",
       "      <td>0.163000</td>\n",
       "      <td>0.726000</td>\n",
       "      <td>0.331500</td>\n",
       "      <td>0.992950</td>\n",
       "    </tr>\n",
       "    <tr>\n",
       "      <th>max</th>\n",
       "      <td>0.550000</td>\n",
       "      <td>0.972000</td>\n",
       "      <td>0.715000</td>\n",
       "      <td>1.000000</td>\n",
       "    </tr>\n",
       "  </tbody>\n",
       "</table>\n",
       "</div>"
      ],
      "text/plain": [
       "               neg          neu          pos     compound\n",
       "count  1015.000000  1015.000000  1015.000000  1015.000000\n",
       "mean      0.115074     0.631357     0.253572     0.609056\n",
       "std       0.084524     0.126109     0.117490     0.681318\n",
       "min       0.000000     0.251000     0.000000    -0.999900\n",
       "25%       0.050500     0.553000     0.166500     0.687650\n",
       "50%       0.099000     0.640000     0.236000     0.973100\n",
       "75%       0.163000     0.726000     0.331500     0.992950\n",
       "max       0.550000     0.972000     0.715000     1.000000"
      ]
     },
     "execution_count": 109,
     "metadata": {},
     "output_type": "execute_result"
    }
   ],
   "source": [
    "get_sentiment(df_cty_all , 'words').describe()"
   ]
  },
  {
   "cell_type": "markdown",
   "metadata": {},
   "source": [
    "# Graphing the Sentiment of song segments for each Genre"
   ]
  },
  {
   "cell_type": "markdown",
   "metadata": {},
   "source": [
    "### Hip-Hop/Rap"
   ]
  },
  {
   "cell_type": "code",
   "execution_count": 186,
   "metadata": {},
   "outputs": [],
   "source": [
    "# RB\n",
    "r = pd.DataFrame(columns = ['neg','pos','structure'] )\n",
    "features_for_analysis = ['Intro', 'Chorus' ,'Verse 1', 'Chorus', 'Verse 2' ,'Chorus']\n",
    "num = 0\n",
    "for v,i in enumerate(features_for_analysis):\n",
    "    temp = get_sentiment(df_rb, i)[['neg','pos']]\n",
    "    if v%2 != 0:\n",
    "        num +=1\n",
    "        temp['structure'] = i + str(num)\n",
    "    else:\n",
    "        temp['structure'] = i\n",
    "\n",
    "    \n",
    "    r = pd.concat((r,temp))\n",
    "\n",
    "x_rb = r.groupby('structure', as_index = False).mean()   "
   ]
  },
  {
   "cell_type": "code",
   "execution_count": 220,
   "metadata": {},
   "outputs": [],
   "source": [
    "rb = alt.Chart(x_rb).mark_line(size = 5,opacity = .5).encode(\n",
    "    x=alt.X('structure:N', sort = ['Intro','Chorus1','Verse 1','Chorus2', 'Verse 2','Chorus3'],title = None),\n",
    "    y='pos:Q'\n",
    ").properties(width = 750, height = 100)"
   ]
  },
  {
   "cell_type": "markdown",
   "metadata": {},
   "source": [
    "### Rock"
   ]
  },
  {
   "cell_type": "code",
   "execution_count": 225,
   "metadata": {},
   "outputs": [],
   "source": [
    "# Rock\n",
    "r = pd.DataFrame(columns = ['neg','pos','structure'] )\n",
    "features_for_analysis =['Verse 1', 'Pre-Chorus' ,'Chorus', 'Verse 2' ,'Pre-Chorus' ,'Chorus' ,'Bridge' ,'Chorus']\n",
    "num = 0\n",
    "watch_list = [2 , 5 , 7]\n",
    "for v,i in enumerate(features_for_analysis):\n",
    "    temp = get_sentiment(df_rock, i)[['neg','pos']]\n",
    "    if v in watch_list:\n",
    "        num +=1\n",
    "        temp['structure'] = i + str(num)\n",
    "    else:\n",
    "        temp['structure'] = i\n",
    "\n",
    "    \n",
    "    r = pd.concat((r,temp))\n",
    "\n",
    "x_rock = r.groupby('structure', as_index = False).mean()"
   ]
  },
  {
   "cell_type": "code",
   "execution_count": 226,
   "metadata": {},
   "outputs": [],
   "source": [
    "rock = alt.Chart(x_rock).mark_line(size = 5,opacity = .5,color = '#a24857').encode(\n",
    "    x=alt.X('structure:N', sort = ['Verse 1', 'Pre-Chorus' ,'Chorus1', 'Verse 2' ,'Pre-Chorus' ,'Chorus2' ,'Bridge' ,'Chorus3'],title = None),\n",
    "    y='pos:Q'\n",
    ").properties(width = 750, height = 100)"
   ]
  },
  {
   "cell_type": "markdown",
   "metadata": {},
   "source": [
    "### Country"
   ]
  },
  {
   "cell_type": "code",
   "execution_count": 227,
   "metadata": {},
   "outputs": [],
   "source": [
    "# Country\n",
    "r = pd.DataFrame(columns = ['neg','pos','structure'] )\n",
    "features_for_analysis = ['Verse 1' ,'Chorus', 'Verse 2' ,'Chorus', 'Bridge' ,'Chorus']\n",
    "num = 0\n",
    "watch_list = [1 , 3 , 5]\n",
    "for v,i in enumerate(features_for_analysis):\n",
    "    temp = get_sentiment(df_cty, i)[['neg','pos']]\n",
    "    if v in watch_list:\n",
    "        num +=1\n",
    "        temp['structure'] = i + str(num)\n",
    "    else:\n",
    "        temp['structure'] = i\n",
    "\n",
    "    \n",
    "    r = pd.concat((r,temp))\n",
    "\n",
    "x_cty = r.groupby('structure', as_index = False).mean()"
   ]
  },
  {
   "cell_type": "code",
   "execution_count": 228,
   "metadata": {},
   "outputs": [],
   "source": [
    "cty = alt.Chart(x_cty).mark_line(size = 5, opacity = .5,color = '#D2B48C').encode(\n",
    "    x=alt.X('structure:N', sort = ['Verse 1' ,'Chorus1', 'Verse 2' ,'Chorus2', 'Bridge' ,'Chorus3'],title = None),\n",
    "    y='pos:Q'\n",
    ").properties(width = 750, height =100)"
   ]
  },
  {
   "cell_type": "code",
   "execution_count": 229,
   "metadata": {
    "scrolled": true
   },
   "outputs": [
    {
     "data": {
      "text/html": [
       "\n",
       "<div id=\"altair-viz-1c09e7b2855a45e0b7db350a49b942c8\"></div>\n",
       "<script type=\"text/javascript\">\n",
       "  (function(spec, embedOpt){\n",
       "    let outputDiv = document.currentScript.previousElementSibling;\n",
       "    if (outputDiv.id !== \"altair-viz-1c09e7b2855a45e0b7db350a49b942c8\") {\n",
       "      outputDiv = document.getElementById(\"altair-viz-1c09e7b2855a45e0b7db350a49b942c8\");\n",
       "    }\n",
       "    const paths = {\n",
       "      \"vega\": \"https://cdn.jsdelivr.net/npm//vega@5?noext\",\n",
       "      \"vega-lib\": \"https://cdn.jsdelivr.net/npm//vega-lib?noext\",\n",
       "      \"vega-lite\": \"https://cdn.jsdelivr.net/npm//vega-lite@4.8.1?noext\",\n",
       "      \"vega-embed\": \"https://cdn.jsdelivr.net/npm//vega-embed@6?noext\",\n",
       "    };\n",
       "\n",
       "    function loadScript(lib) {\n",
       "      return new Promise(function(resolve, reject) {\n",
       "        var s = document.createElement('script');\n",
       "        s.src = paths[lib];\n",
       "        s.async = true;\n",
       "        s.onload = () => resolve(paths[lib]);\n",
       "        s.onerror = () => reject(`Error loading script: ${paths[lib]}`);\n",
       "        document.getElementsByTagName(\"head\")[0].appendChild(s);\n",
       "      });\n",
       "    }\n",
       "\n",
       "    function showError(err) {\n",
       "      outputDiv.innerHTML = `<div class=\"error\" style=\"color:red;\">${err}</div>`;\n",
       "      throw err;\n",
       "    }\n",
       "\n",
       "    function displayChart(vegaEmbed) {\n",
       "      vegaEmbed(outputDiv, spec, embedOpt)\n",
       "        .catch(err => showError(`Javascript Error: ${err.message}<br>This usually means there's a typo in your chart specification. See the javascript console for the full traceback.`));\n",
       "    }\n",
       "\n",
       "    if(typeof define === \"function\" && define.amd) {\n",
       "      requirejs.config({paths});\n",
       "      require([\"vega-embed\"], displayChart, err => showError(`Error loading script: ${err.message}`));\n",
       "    } else if (typeof vegaEmbed === \"function\") {\n",
       "      displayChart(vegaEmbed);\n",
       "    } else {\n",
       "      loadScript(\"vega\")\n",
       "        .then(() => loadScript(\"vega-lite\"))\n",
       "        .then(() => loadScript(\"vega-embed\"))\n",
       "        .catch(showError)\n",
       "        .then(() => displayChart(vegaEmbed));\n",
       "    }\n",
       "  })({\"config\": {\"view\": {\"continuousWidth\": 400, \"continuousHeight\": 300}}, \"vconcat\": [{\"data\": {\"name\": \"data-c07863ea7db58cbf9081069c95988220\"}, \"mark\": {\"type\": \"line\", \"color\": \"#a24857\", \"opacity\": 0.5, \"size\": 5}, \"encoding\": {\"x\": {\"type\": \"nominal\", \"field\": \"structure\", \"sort\": [\"Verse 1\", \"Pre-Chorus\", \"Chorus1\", \"Verse 2\", \"Pre-Chorus\", \"Chorus2\", \"Bridge\", \"Chorus3\"], \"title\": null}, \"y\": {\"type\": \"quantitative\", \"field\": \"pos\"}}, \"height\": 100, \"width\": 750}, {\"data\": {\"name\": \"data-4e971309a4ed645cab949e9b7612535c\"}, \"mark\": {\"type\": \"line\", \"opacity\": 0.5, \"size\": 5}, \"encoding\": {\"x\": {\"type\": \"nominal\", \"field\": \"structure\", \"sort\": [\"Intro\", \"Chorus1\", \"Verse 1\", \"Chorus2\", \"Verse 2\", \"Chorus3\"], \"title\": null}, \"y\": {\"type\": \"quantitative\", \"field\": \"pos\"}}, \"height\": 100, \"width\": 750}, {\"data\": {\"name\": \"data-3f3b1ca50fda543636c3d4c8507fc981\"}, \"mark\": {\"type\": \"line\", \"color\": \"#D2B48C\", \"opacity\": 0.5, \"size\": 5}, \"encoding\": {\"x\": {\"type\": \"nominal\", \"field\": \"structure\", \"sort\": [\"Verse 1\", \"Chorus1\", \"Verse 2\", \"Chorus2\", \"Bridge\", \"Chorus3\"], \"title\": null}, \"y\": {\"type\": \"quantitative\", \"field\": \"pos\"}}, \"height\": 100, \"width\": 750}], \"$schema\": \"https://vega.github.io/schema/vega-lite/v4.8.1.json\", \"datasets\": {\"data-c07863ea7db58cbf9081069c95988220\": [{\"structure\": \"Bridge\", \"neg\": 0.04555253283302064, \"pos\": 0.06328142589118199}, {\"structure\": \"Chorus1\", \"neg\": 0.10437617260787978, \"pos\": 0.14314540337711057}, {\"structure\": \"Chorus2\", \"neg\": 0.10437617260787978, \"pos\": 0.14314540337711057}, {\"structure\": \"Chorus3\", \"neg\": 0.10437617260787978, \"pos\": 0.14314540337711057}, {\"structure\": \"Pre-Chorus\", \"neg\": 0.04461163227016888, \"pos\": 0.05998499061913699}, {\"structure\": \"Verse 1\", \"neg\": 0.0927448405253284, \"pos\": 0.11051969981238266}, {\"structure\": \"Verse 2\", \"neg\": 0.08786210131332081, \"pos\": 0.1125337711069418}], \"data-4e971309a4ed645cab949e9b7612535c\": [{\"structure\": \"Chorus1\", \"neg\": 0.09398504486540375, \"pos\": 0.13896709870388838}, {\"structure\": \"Chorus2\", \"neg\": 0.09398504486540375, \"pos\": 0.13896709870388838}, {\"structure\": \"Chorus3\", \"neg\": 0.09398504486540375, \"pos\": 0.13896709870388838}, {\"structure\": \"Intro\", \"neg\": 0.03950348953140578, \"pos\": 0.10194715852442672}, {\"structure\": \"Verse 1\", \"neg\": 0.09028115653040883, \"pos\": 0.11541575274177451}, {\"structure\": \"Verse 2\", \"neg\": 0.09101395812562316, \"pos\": 0.11201096709870387}], \"data-3f3b1ca50fda543636c3d4c8507fc981\": [{\"structure\": \"Bridge\", \"neg\": 0.03755566502463051, \"pos\": 0.08393891625615768}, {\"structure\": \"Chorus1\", \"neg\": 0.06491330049261075, \"pos\": 0.14383251231527092}, {\"structure\": \"Chorus2\", \"neg\": 0.06491330049261075, \"pos\": 0.14383251231527092}, {\"structure\": \"Chorus3\", \"neg\": 0.06491330049261075, \"pos\": 0.14383251231527092}, {\"structure\": \"Verse 1\", \"neg\": 0.061464039408866966, \"pos\": 0.10657241379310345}, {\"structure\": \"Verse 2\", \"neg\": 0.06549753694581277, \"pos\": 0.11264334975369461}]}}, {\"mode\": \"vega-lite\"});\n",
       "</script>"
      ],
      "text/plain": [
       "alt.VConcatChart(...)"
      ]
     },
     "execution_count": 229,
     "metadata": {},
     "output_type": "execute_result"
    }
   ],
   "source": [
    "alt.vconcat(rock , rb , cty)"
   ]
  },
  {
   "cell_type": "code",
   "execution_count": null,
   "metadata": {},
   "outputs": [],
   "source": []
  }
 ],
 "metadata": {
  "kernelspec": {
   "display_name": "Python 3",
   "language": "python",
   "name": "python3"
  },
  "language_info": {
   "codemirror_mode": {
    "name": "ipython",
    "version": 3
   },
   "file_extension": ".py",
   "mimetype": "text/x-python",
   "name": "python",
   "nbconvert_exporter": "python",
   "pygments_lexer": "ipython3",
   "version": "3.7.4"
  }
 },
 "nbformat": 4,
 "nbformat_minor": 2
}
